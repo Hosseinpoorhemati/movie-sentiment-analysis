{
 "cells": [
  {
   "cell_type": "code",
   "execution_count": 62,
   "id": "395eb8fb",
   "metadata": {},
   "outputs": [
    {
     "name": "stdout",
     "output_type": "stream",
     "text": [
      "The autoreload extension is already loaded. To reload it, use:\n",
      "  %reload_ext autoreload\n"
     ]
    }
   ],
   "source": [
    "%load_ext autoreload\n",
    "%autoreload 2\n",
    "\n",
    "import pandas as pd\n",
    "import numpy as np\n",
    "import seaborn as sns\n",
    "import matplotlib.pyplot as plt\n",
    "import pickle\n",
    "\n",
    "from sklearn.preprocessing import StandardScaler\n",
    "from sklearn.metrics.pairwise import cosine_similarity\n",
    "from sklearn.feature_extraction.text import CountVectorizer\n",
    "from sklearn.decomposition import TruncatedSVD\n",
    "\n",
    "from movie_sentiment.processing.arcs import get_all_reshaped_arcs\n",
    "from movie_sentiment.params import *"
   ]
  },
  {
   "cell_type": "markdown",
   "id": "96b95b2f",
   "metadata": {},
   "source": [
    "### Standardize arcs and preparing df"
   ]
  },
  {
   "cell_type": "code",
   "execution_count": 40,
   "id": "b007bdce",
   "metadata": {},
   "outputs": [
    {
     "name": "stdout",
     "output_type": "stream",
     "text": [
      "Loading data from pickle file\n"
     ]
    }
   ],
   "source": [
    "arcs = get_all_reshaped_arcs(dyn_avg=True)"
   ]
  },
  {
   "cell_type": "markdown",
   "id": "bcf6e6c7",
   "metadata": {},
   "source": [
    "2 following cells are optional (for standardization of the data)"
   ]
  },
  {
   "cell_type": "code",
   "execution_count": 41,
   "id": "74f23ce1",
   "metadata": {},
   "outputs": [],
   "source": [
    "X = arcs.drop(columns='movie_name')\n",
    "\n",
    "s_scaler = StandardScaler()\n",
    "s_scaler.fit(X.T)\n",
    "scaled = s_scaler.transform(X.T)\n",
    "X_scaled = pd.DataFrame(scaled.T, columns=X.columns)"
   ]
  },
  {
   "cell_type": "code",
   "execution_count": 42,
   "id": "c6172e2f",
   "metadata": {
    "scrolled": true
   },
   "outputs": [],
   "source": [
    "columns_ids = [i for i in range(30)]\n",
    "\n",
    "for i in columns_ids:\n",
    "    arcs[i] = X_scaled[i]"
   ]
  },
  {
   "cell_type": "code",
   "execution_count": 43,
   "id": "c438793a",
   "metadata": {},
   "outputs": [],
   "source": [
    "df_reco_1 = arcs.set_index('movie_name')"
   ]
  },
  {
   "cell_type": "code",
   "execution_count": 44,
   "id": "84d44456",
   "metadata": {},
   "outputs": [
    {
     "data": {
      "text/html": [
       "<div>\n",
       "<style scoped>\n",
       "    .dataframe tbody tr th:only-of-type {\n",
       "        vertical-align: middle;\n",
       "    }\n",
       "\n",
       "    .dataframe tbody tr th {\n",
       "        vertical-align: top;\n",
       "    }\n",
       "\n",
       "    .dataframe thead th {\n",
       "        text-align: right;\n",
       "    }\n",
       "</style>\n",
       "<table border=\"1\" class=\"dataframe\">\n",
       "  <thead>\n",
       "    <tr style=\"text-align: right;\">\n",
       "      <th></th>\n",
       "      <th>0</th>\n",
       "      <th>1</th>\n",
       "      <th>2</th>\n",
       "      <th>3</th>\n",
       "      <th>4</th>\n",
       "      <th>5</th>\n",
       "      <th>6</th>\n",
       "      <th>7</th>\n",
       "      <th>8</th>\n",
       "      <th>9</th>\n",
       "      <th>...</th>\n",
       "      <th>20</th>\n",
       "      <th>21</th>\n",
       "      <th>22</th>\n",
       "      <th>23</th>\n",
       "      <th>24</th>\n",
       "      <th>25</th>\n",
       "      <th>26</th>\n",
       "      <th>27</th>\n",
       "      <th>28</th>\n",
       "      <th>29</th>\n",
       "    </tr>\n",
       "    <tr>\n",
       "      <th>movie_name</th>\n",
       "      <th></th>\n",
       "      <th></th>\n",
       "      <th></th>\n",
       "      <th></th>\n",
       "      <th></th>\n",
       "      <th></th>\n",
       "      <th></th>\n",
       "      <th></th>\n",
       "      <th></th>\n",
       "      <th></th>\n",
       "      <th></th>\n",
       "      <th></th>\n",
       "      <th></th>\n",
       "      <th></th>\n",
       "      <th></th>\n",
       "      <th></th>\n",
       "      <th></th>\n",
       "      <th></th>\n",
       "      <th></th>\n",
       "      <th></th>\n",
       "      <th></th>\n",
       "    </tr>\n",
       "  </thead>\n",
       "  <tbody>\n",
       "    <tr>\n",
       "      <th>Fernando Arrabal lit Sa corolle noire ditions A Biren suivi de Ah la belle ann e ditions Ginasservis et Paris</th>\n",
       "      <td>-1.598291</td>\n",
       "      <td>-1.778773</td>\n",
       "      <td>-1.374239</td>\n",
       "      <td>-1.363652</td>\n",
       "      <td>-1.355981</td>\n",
       "      <td>-0.459759</td>\n",
       "      <td>-0.017918</td>\n",
       "      <td>-0.202872</td>\n",
       "      <td>-1.024959</td>\n",
       "      <td>-0.841603</td>\n",
       "      <td>...</td>\n",
       "      <td>1.156356</td>\n",
       "      <td>0.726309</td>\n",
       "      <td>0.116753</td>\n",
       "      <td>-0.662530</td>\n",
       "      <td>-0.368297</td>\n",
       "      <td>-0.362491</td>\n",
       "      <td>-0.242547</td>\n",
       "      <td>0.316914</td>\n",
       "      <td>0.827208</td>\n",
       "      <td>2.184837</td>\n",
       "    </tr>\n",
       "    <tr>\n",
       "      <th>It s Kind of a Funny Story</th>\n",
       "      <td>-0.169236</td>\n",
       "      <td>0.593324</td>\n",
       "      <td>1.101164</td>\n",
       "      <td>0.903140</td>\n",
       "      <td>0.965396</td>\n",
       "      <td>0.531421</td>\n",
       "      <td>-0.038163</td>\n",
       "      <td>-0.467987</td>\n",
       "      <td>-0.723052</td>\n",
       "      <td>-0.379225</td>\n",
       "      <td>...</td>\n",
       "      <td>-1.139889</td>\n",
       "      <td>-1.281726</td>\n",
       "      <td>-0.913743</td>\n",
       "      <td>-0.544836</td>\n",
       "      <td>-0.582910</td>\n",
       "      <td>0.173852</td>\n",
       "      <td>0.451509</td>\n",
       "      <td>1.561008</td>\n",
       "      <td>2.286078</td>\n",
       "      <td>0.780361</td>\n",
       "    </tr>\n",
       "    <tr>\n",
       "      <th>Neither Seen Nor Recognized</th>\n",
       "      <td>0.127829</td>\n",
       "      <td>0.414927</td>\n",
       "      <td>-0.111587</td>\n",
       "      <td>0.117459</td>\n",
       "      <td>0.435570</td>\n",
       "      <td>0.960243</td>\n",
       "      <td>1.671093</td>\n",
       "      <td>1.368567</td>\n",
       "      <td>1.008647</td>\n",
       "      <td>0.482891</td>\n",
       "      <td>...</td>\n",
       "      <td>-0.914588</td>\n",
       "      <td>-1.498294</td>\n",
       "      <td>-1.752695</td>\n",
       "      <td>-2.210531</td>\n",
       "      <td>-2.025708</td>\n",
       "      <td>-1.432724</td>\n",
       "      <td>-0.888310</td>\n",
       "      <td>0.099751</td>\n",
       "      <td>1.494704</td>\n",
       "      <td>-0.419205</td>\n",
       "    </tr>\n",
       "  </tbody>\n",
       "</table>\n",
       "<p>3 rows × 30 columns</p>\n",
       "</div>"
      ],
      "text/plain": [
       "                                                          0         1   \\\n",
       "movie_name                                                               \n",
       "Fernando Arrabal lit Sa corolle noire ditions A... -1.598291 -1.778773   \n",
       "It s Kind of a Funny Story                         -0.169236  0.593324   \n",
       "Neither Seen Nor Recognized                         0.127829  0.414927   \n",
       "\n",
       "                                                          2         3   \\\n",
       "movie_name                                                               \n",
       "Fernando Arrabal lit Sa corolle noire ditions A... -1.374239 -1.363652   \n",
       "It s Kind of a Funny Story                          1.101164  0.903140   \n",
       "Neither Seen Nor Recognized                        -0.111587  0.117459   \n",
       "\n",
       "                                                          4         5   \\\n",
       "movie_name                                                               \n",
       "Fernando Arrabal lit Sa corolle noire ditions A... -1.355981 -0.459759   \n",
       "It s Kind of a Funny Story                          0.965396  0.531421   \n",
       "Neither Seen Nor Recognized                         0.435570  0.960243   \n",
       "\n",
       "                                                          6         7   \\\n",
       "movie_name                                                               \n",
       "Fernando Arrabal lit Sa corolle noire ditions A... -0.017918 -0.202872   \n",
       "It s Kind of a Funny Story                         -0.038163 -0.467987   \n",
       "Neither Seen Nor Recognized                         1.671093  1.368567   \n",
       "\n",
       "                                                          8         9   ...  \\\n",
       "movie_name                                                              ...   \n",
       "Fernando Arrabal lit Sa corolle noire ditions A... -1.024959 -0.841603  ...   \n",
       "It s Kind of a Funny Story                         -0.723052 -0.379225  ...   \n",
       "Neither Seen Nor Recognized                         1.008647  0.482891  ...   \n",
       "\n",
       "                                                          20        21  \\\n",
       "movie_name                                                               \n",
       "Fernando Arrabal lit Sa corolle noire ditions A...  1.156356  0.726309   \n",
       "It s Kind of a Funny Story                         -1.139889 -1.281726   \n",
       "Neither Seen Nor Recognized                        -0.914588 -1.498294   \n",
       "\n",
       "                                                          22        23  \\\n",
       "movie_name                                                               \n",
       "Fernando Arrabal lit Sa corolle noire ditions A...  0.116753 -0.662530   \n",
       "It s Kind of a Funny Story                         -0.913743 -0.544836   \n",
       "Neither Seen Nor Recognized                        -1.752695 -2.210531   \n",
       "\n",
       "                                                          24        25  \\\n",
       "movie_name                                                               \n",
       "Fernando Arrabal lit Sa corolle noire ditions A... -0.368297 -0.362491   \n",
       "It s Kind of a Funny Story                         -0.582910  0.173852   \n",
       "Neither Seen Nor Recognized                        -2.025708 -1.432724   \n",
       "\n",
       "                                                          26        27  \\\n",
       "movie_name                                                               \n",
       "Fernando Arrabal lit Sa corolle noire ditions A... -0.242547  0.316914   \n",
       "It s Kind of a Funny Story                          0.451509  1.561008   \n",
       "Neither Seen Nor Recognized                        -0.888310  0.099751   \n",
       "\n",
       "                                                          28        29  \n",
       "movie_name                                                              \n",
       "Fernando Arrabal lit Sa corolle noire ditions A...  0.827208  2.184837  \n",
       "It s Kind of a Funny Story                          2.286078  0.780361  \n",
       "Neither Seen Nor Recognized                         1.494704 -0.419205  \n",
       "\n",
       "[3 rows x 30 columns]"
      ]
     },
     "execution_count": 44,
     "metadata": {},
     "output_type": "execute_result"
    }
   ],
   "source": [
    "df_reco_1.head(3)"
   ]
  },
  {
   "cell_type": "markdown",
   "id": "ac2bf287",
   "metadata": {
    "heading_collapsed": true
   },
   "source": [
    "### Find similar movies based on arcs"
   ]
  },
  {
   "cell_type": "code",
   "execution_count": 45,
   "id": "2c7e59a9",
   "metadata": {
    "hidden": true
   },
   "outputs": [],
   "source": [
    "movie_ex = np.array(df_reco_1.loc['Up']).reshape(1, -1)\n",
    "similarity_score = cosine_similarity(df_reco_1, movie_ex)"
   ]
  },
  {
   "cell_type": "code",
   "execution_count": 46,
   "id": "9fadbe59",
   "metadata": {
    "hidden": true
   },
   "outputs": [
    {
     "data": {
      "text/html": [
       "<div>\n",
       "<style scoped>\n",
       "    .dataframe tbody tr th:only-of-type {\n",
       "        vertical-align: middle;\n",
       "    }\n",
       "\n",
       "    .dataframe tbody tr th {\n",
       "        vertical-align: top;\n",
       "    }\n",
       "\n",
       "    .dataframe thead th {\n",
       "        text-align: right;\n",
       "    }\n",
       "</style>\n",
       "<table border=\"1\" class=\"dataframe\">\n",
       "  <thead>\n",
       "    <tr style=\"text-align: right;\">\n",
       "      <th></th>\n",
       "      <th>0</th>\n",
       "    </tr>\n",
       "    <tr>\n",
       "      <th>movie_name</th>\n",
       "      <th></th>\n",
       "    </tr>\n",
       "  </thead>\n",
       "  <tbody>\n",
       "    <tr>\n",
       "      <th>Up</th>\n",
       "      <td>1.000000</td>\n",
       "    </tr>\n",
       "    <tr>\n",
       "      <th>Tarzan s Secret Treasure</th>\n",
       "      <td>0.915319</td>\n",
       "    </tr>\n",
       "    <tr>\n",
       "      <th>Limbo</th>\n",
       "      <td>0.900012</td>\n",
       "    </tr>\n",
       "    <tr>\n",
       "      <th>Pain and Glory</th>\n",
       "      <td>0.865722</td>\n",
       "    </tr>\n",
       "    <tr>\n",
       "      <th>Good Boy</th>\n",
       "      <td>0.863963</td>\n",
       "    </tr>\n",
       "    <tr>\n",
       "      <th>Snatch</th>\n",
       "      <td>0.862364</td>\n",
       "    </tr>\n",
       "  </tbody>\n",
       "</table>\n",
       "</div>"
      ],
      "text/plain": [
       "                                 0\n",
       "movie_name                        \n",
       "Up                        1.000000\n",
       "Tarzan s Secret Treasure  0.915319\n",
       "Limbo                     0.900012\n",
       "Pain and Glory            0.865722\n",
       "Good Boy                  0.863963\n",
       "Snatch                    0.862364"
      ]
     },
     "execution_count": 46,
     "metadata": {},
     "output_type": "execute_result"
    }
   ],
   "source": [
    "recommendation_df = pd.DataFrame(similarity_score, index = df_reco_1.index)\n",
    "recommendation_df.sort_values(0, ascending=False, inplace=True)\n",
    "recommendation_df.head(6)"
   ]
  },
  {
   "cell_type": "code",
   "execution_count": 9,
   "id": "a9f77892",
   "metadata": {
    "hidden": true
   },
   "outputs": [
    {
     "data": {
      "text/plain": [
       "<matplotlib.legend.Legend at 0x127d8e350>"
      ]
     },
     "execution_count": 9,
     "metadata": {},
     "output_type": "execute_result"
    },
    {
     "data": {
      "image/png": "[encoded data removed]",
      "text/plain": [
       "<Figure size 1000x600 with 1 Axes>"
      ]
     },
     "metadata": {},
     "output_type": "display_data"
    }
   ],
   "source": [
    "plt.figure(figsize=(10,6))\n",
    "for row in recommendation_df.iloc[1:6].iterrows():\n",
    "    id = row[0]\n",
    "    score = round(row[1][0],2)\n",
    "    plt.plot(df_reco_1.loc[id], color='gainsboro', label=f\"{id} - {score}\")\n",
    "\n",
    "plt.plot(df_reco_1.loc['Up'], label='Up')\n",
    "plt.legend()"
   ]
  },
  {
   "cell_type": "markdown",
   "id": "7e933bc5",
   "metadata": {},
   "source": [
    "### Get movies metadata"
   ]
  },
  {
   "cell_type": "markdown",
   "id": "7a50fc97",
   "metadata": {},
   "source": [
    "Get data"
   ]
  },
  {
   "cell_type": "code",
   "execution_count": 120,
   "id": "214a3bc1",
   "metadata": {},
   "outputs": [
    {
     "data": {
      "text/plain": [
       "Index(['imdbid', 'title', 'akas', 'year', 'metascore', 'imdb user rating',\n",
       "       'number of imdb user votes', 'awards', 'opening weekend', 'producers',\n",
       "       'budget', 'script department', 'production companies', 'writers',\n",
       "       'directors', 'casting directors', 'cast', 'countries', 'age restrict',\n",
       "       'plot', 'plot outline', 'keywords', 'genres', 'taglines', 'synopsis'],\n",
       "      dtype='object')"
      ]
     },
     "execution_count": 120,
     "metadata": {},
     "output_type": "execute_result"
    }
   ],
   "source": [
    "movie_meta = pd.read_csv('./raw_data/movie_metadata/movie_meta_data.csv')\n",
    "movie_meta.columns"
   ]
  },
  {
   "cell_type": "code",
   "execution_count": 121,
   "id": "e22df93d",
   "metadata": {},
   "outputs": [],
   "source": [
    "movie_meta = movie_meta[['imdbid','title', 'keywords', 'genres']]"
   ]
  },
  {
   "cell_type": "code",
   "execution_count": 122,
   "id": "cc39c69c",
   "metadata": {},
   "outputs": [
    {
     "data": {
      "text/html": [
       "<div>\n",
       "<style scoped>\n",
       "    .dataframe tbody tr th:only-of-type {\n",
       "        vertical-align: middle;\n",
       "    }\n",
       "\n",
       "    .dataframe tbody tr th {\n",
       "        vertical-align: top;\n",
       "    }\n",
       "\n",
       "    .dataframe thead th {\n",
       "        text-align: right;\n",
       "    }\n",
       "</style>\n",
       "<table border=\"1\" class=\"dataframe\">\n",
       "  <thead>\n",
       "    <tr style=\"text-align: right;\">\n",
       "      <th></th>\n",
       "      <th>imdbid</th>\n",
       "      <th>title</th>\n",
       "      <th>keywords</th>\n",
       "      <th>genres</th>\n",
       "    </tr>\n",
       "  </thead>\n",
       "  <tbody>\n",
       "    <tr>\n",
       "      <th>0</th>\n",
       "      <td>120770</td>\n",
       "      <td>A Night at the Roxbury</td>\n",
       "      <td>woman-on-top, nightclub, car-accident, 1990s, ...</td>\n",
       "      <td>Comedy, Music, Romance</td>\n",
       "    </tr>\n",
       "    <tr>\n",
       "      <th>1</th>\n",
       "      <td>132512</td>\n",
       "      <td>At First Sight</td>\n",
       "      <td>visual-agnosia, brother-sister-relationship, r...</td>\n",
       "      <td>Drama, Romance</td>\n",
       "    </tr>\n",
       "    <tr>\n",
       "      <th>2</th>\n",
       "      <td>118661</td>\n",
       "      <td>The Avengers</td>\n",
       "      <td>good-versus-evil, heroine, evil-man, villain, ...</td>\n",
       "      <td>Action, Adventure, Sci-Fi, Thriller</td>\n",
       "    </tr>\n",
       "    <tr>\n",
       "      <th>3</th>\n",
       "      <td>215545</td>\n",
       "      <td>Bamboozled</td>\n",
       "      <td>television-industry, african-american, referen...</td>\n",
       "      <td>Comedy, Drama, Music</td>\n",
       "    </tr>\n",
       "    <tr>\n",
       "      <th>4</th>\n",
       "      <td>118715</td>\n",
       "      <td>The Big Lebowski</td>\n",
       "      <td>rug, nihilism, pornographer, bowling-alley, de...</td>\n",
       "      <td>Comedy, Crime, Sport</td>\n",
       "    </tr>\n",
       "  </tbody>\n",
       "</table>\n",
       "</div>"
      ],
      "text/plain": [
       "   imdbid                   title  \\\n",
       "0  120770  A Night at the Roxbury   \n",
       "1  132512          At First Sight   \n",
       "2  118661            The Avengers   \n",
       "3  215545              Bamboozled   \n",
       "4  118715        The Big Lebowski   \n",
       "\n",
       "                                            keywords  \\\n",
       "0  woman-on-top, nightclub, car-accident, 1990s, ...   \n",
       "1  visual-agnosia, brother-sister-relationship, r...   \n",
       "2  good-versus-evil, heroine, evil-man, villain, ...   \n",
       "3  television-industry, african-american, referen...   \n",
       "4  rug, nihilism, pornographer, bowling-alley, de...   \n",
       "\n",
       "                                genres  \n",
       "0               Comedy, Music, Romance  \n",
       "1                       Drama, Romance  \n",
       "2  Action, Adventure, Sci-Fi, Thriller  \n",
       "3                 Comedy, Drama, Music  \n",
       "4                 Comedy, Crime, Sport  "
      ]
     },
     "execution_count": 122,
     "metadata": {},
     "output_type": "execute_result"
    }
   ],
   "source": [
    "movie_meta.head()"
   ]
  },
  {
   "cell_type": "markdown",
   "id": "d24a7991",
   "metadata": {},
   "source": [
    "Compute and clean meta data"
   ]
  },
  {
   "cell_type": "code",
   "execution_count": 123,
   "id": "e2297077",
   "metadata": {},
   "outputs": [],
   "source": [
    "movie_meta['meta'] = movie_meta['genres'] + ', ' + movie_meta['keywords']"
   ]
  },
  {
   "cell_type": "code",
   "execution_count": 124,
   "id": "5285cbf9",
   "metadata": {},
   "outputs": [],
   "source": [
    "movie_meta['meta'] = movie_meta['meta'].str.replace(',', '')"
   ]
  },
  {
   "cell_type": "code",
   "execution_count": 125,
   "id": "ae8e71ac",
   "metadata": {},
   "outputs": [],
   "source": [
    "movie_meta['meta'] = movie_meta['meta'].fillna('')"
   ]
  },
  {
   "cell_type": "code",
   "execution_count": 147,
   "id": "134d17ad",
   "metadata": {},
   "outputs": [],
   "source": [
    "movie_meta['genres'] = movie_meta['genres'].fillna('')"
   ]
  },
  {
   "cell_type": "markdown",
   "id": "76761642",
   "metadata": {},
   "source": [
    "Convert to vectors"
   ]
  },
  {
   "cell_type": "code",
   "execution_count": 148,
   "id": "18c56e83",
   "metadata": {},
   "outputs": [],
   "source": [
    "count = CountVectorizer()\n",
    "count_matrix = count.fit_transform(movie_meta['genres'])\n",
    "count_df = pd.DataFrame(count_matrix.toarray(), index=movie_meta.index.tolist())"
   ]
  },
  {
   "cell_type": "markdown",
   "id": "fbcad37b",
   "metadata": {},
   "source": [
    "Reduce dimensions"
   ]
  },
  {
   "cell_type": "code",
   "execution_count": 152,
   "id": "2e7939b3",
   "metadata": {},
   "outputs": [],
   "source": [
    "svd = TruncatedSVD(n_components=20)\n",
    "df_reco_2 = svd.fit_transform(count_df)"
   ]
  },
  {
   "cell_type": "code",
   "execution_count": 153,
   "id": "8e7e6857",
   "metadata": {},
   "outputs": [
    {
     "data": {
      "image/png": "[encoded data removed]",
      "text/plain": [
       "<Figure size 640x480 with 1 Axes>"
      ]
     },
     "metadata": {},
     "output_type": "display_data"
    }
   ],
   "source": [
    "plt.plot(svd.explained_variance_ratio_.cumsum())\n",
    "plt.xlabel('Components')\n",
    "plt.ylabel('Cumulative percent of variance')   \n",
    "plt.grid()\n",
    "plt.show()"
   ]
  },
  {
   "cell_type": "code",
   "execution_count": 154,
   "id": "88718f28",
   "metadata": {},
   "outputs": [
    {
     "data": {
      "text/html": [
       "<div>\n",
       "<style scoped>\n",
       "    .dataframe tbody tr th:only-of-type {\n",
       "        vertical-align: middle;\n",
       "    }\n",
       "\n",
       "    .dataframe tbody tr th {\n",
       "        vertical-align: top;\n",
       "    }\n",
       "\n",
       "    .dataframe thead th {\n",
       "        text-align: right;\n",
       "    }\n",
       "</style>\n",
       "<table border=\"1\" class=\"dataframe\">\n",
       "  <thead>\n",
       "    <tr style=\"text-align: right;\">\n",
       "      <th></th>\n",
       "      <th>0</th>\n",
       "      <th>1</th>\n",
       "      <th>2</th>\n",
       "      <th>3</th>\n",
       "      <th>4</th>\n",
       "      <th>5</th>\n",
       "      <th>6</th>\n",
       "      <th>7</th>\n",
       "      <th>8</th>\n",
       "      <th>9</th>\n",
       "      <th>10</th>\n",
       "      <th>11</th>\n",
       "      <th>12</th>\n",
       "      <th>13</th>\n",
       "      <th>14</th>\n",
       "      <th>15</th>\n",
       "      <th>16</th>\n",
       "      <th>17</th>\n",
       "      <th>18</th>\n",
       "      <th>19</th>\n",
       "    </tr>\n",
       "  </thead>\n",
       "  <tbody>\n",
       "    <tr>\n",
       "      <th>120770</th>\n",
       "      <td>0.530932</td>\n",
       "      <td>-0.547894</td>\n",
       "      <td>0.842125</td>\n",
       "      <td>0.494829</td>\n",
       "      <td>0.276456</td>\n",
       "      <td>-0.274285</td>\n",
       "      <td>0.583157</td>\n",
       "      <td>0.077572</td>\n",
       "      <td>-0.048016</td>\n",
       "      <td>0.036307</td>\n",
       "      <td>0.248086</td>\n",
       "      <td>0.062595</td>\n",
       "      <td>0.042189</td>\n",
       "      <td>-0.014752</td>\n",
       "      <td>-0.114792</td>\n",
       "      <td>0.404726</td>\n",
       "      <td>0.801440</td>\n",
       "      <td>-0.048564</td>\n",
       "      <td>0.165926</td>\n",
       "      <td>0.021716</td>\n",
       "    </tr>\n",
       "    <tr>\n",
       "      <th>132512</th>\n",
       "      <td>0.877430</td>\n",
       "      <td>-0.706023</td>\n",
       "      <td>0.003138</td>\n",
       "      <td>-0.464650</td>\n",
       "      <td>0.093140</td>\n",
       "      <td>-0.020102</td>\n",
       "      <td>0.647241</td>\n",
       "      <td>0.200158</td>\n",
       "      <td>0.108014</td>\n",
       "      <td>-0.027805</td>\n",
       "      <td>-0.022893</td>\n",
       "      <td>-0.141331</td>\n",
       "      <td>-0.000999</td>\n",
       "      <td>0.084930</td>\n",
       "      <td>-0.022409</td>\n",
       "      <td>-0.000803</td>\n",
       "      <td>-0.043927</td>\n",
       "      <td>-0.041029</td>\n",
       "      <td>-0.020963</td>\n",
       "      <td>-0.010861</td>\n",
       "    </tr>\n",
       "    <tr>\n",
       "      <th>118661</th>\n",
       "      <td>1.146052</td>\n",
       "      <td>1.735228</td>\n",
       "      <td>0.379316</td>\n",
       "      <td>-0.322780</td>\n",
       "      <td>-0.159149</td>\n",
       "      <td>-0.278247</td>\n",
       "      <td>0.197216</td>\n",
       "      <td>-0.003353</td>\n",
       "      <td>-0.484903</td>\n",
       "      <td>-0.114983</td>\n",
       "      <td>0.046178</td>\n",
       "      <td>-0.076311</td>\n",
       "      <td>0.076013</td>\n",
       "      <td>-0.131903</td>\n",
       "      <td>-0.069377</td>\n",
       "      <td>0.014906</td>\n",
       "      <td>-0.008335</td>\n",
       "      <td>0.020363</td>\n",
       "      <td>0.005781</td>\n",
       "      <td>-0.005115</td>\n",
       "    </tr>\n",
       "    <tr>\n",
       "      <th>215545</th>\n",
       "      <td>0.995355</td>\n",
       "      <td>-0.731454</td>\n",
       "      <td>0.435135</td>\n",
       "      <td>0.097159</td>\n",
       "      <td>0.089485</td>\n",
       "      <td>-0.131118</td>\n",
       "      <td>-0.400729</td>\n",
       "      <td>-0.293141</td>\n",
       "      <td>-0.128696</td>\n",
       "      <td>0.150804</td>\n",
       "      <td>-0.229366</td>\n",
       "      <td>-0.021362</td>\n",
       "      <td>0.040627</td>\n",
       "      <td>-0.034585</td>\n",
       "      <td>-0.163152</td>\n",
       "      <td>0.392453</td>\n",
       "      <td>0.820800</td>\n",
       "      <td>-0.099069</td>\n",
       "      <td>0.123214</td>\n",
       "      <td>0.049527</td>\n",
       "    </tr>\n",
       "    <tr>\n",
       "      <th>118715</th>\n",
       "      <td>0.557828</td>\n",
       "      <td>-0.272538</td>\n",
       "      <td>0.375366</td>\n",
       "      <td>0.878542</td>\n",
       "      <td>-0.221757</td>\n",
       "      <td>-0.463716</td>\n",
       "      <td>-0.467925</td>\n",
       "      <td>0.101338</td>\n",
       "      <td>0.321790</td>\n",
       "      <td>-0.082587</td>\n",
       "      <td>0.240813</td>\n",
       "      <td>-0.106218</td>\n",
       "      <td>0.025375</td>\n",
       "      <td>-0.094508</td>\n",
       "      <td>-0.066012</td>\n",
       "      <td>-0.107967</td>\n",
       "      <td>-0.148107</td>\n",
       "      <td>0.356474</td>\n",
       "      <td>0.824663</td>\n",
       "      <td>-0.349727</td>\n",
       "    </tr>\n",
       "    <tr>\n",
       "      <th>...</th>\n",
       "      <td>...</td>\n",
       "      <td>...</td>\n",
       "      <td>...</td>\n",
       "      <td>...</td>\n",
       "      <td>...</td>\n",
       "      <td>...</td>\n",
       "      <td>...</td>\n",
       "      <td>...</td>\n",
       "      <td>...</td>\n",
       "      <td>...</td>\n",
       "      <td>...</td>\n",
       "      <td>...</td>\n",
       "      <td>...</td>\n",
       "      <td>...</td>\n",
       "      <td>...</td>\n",
       "      <td>...</td>\n",
       "      <td>...</td>\n",
       "      <td>...</td>\n",
       "      <td>...</td>\n",
       "      <td>...</td>\n",
       "    </tr>\n",
       "    <tr>\n",
       "      <th>114924</th>\n",
       "      <td>1.175526</td>\n",
       "      <td>-0.963695</td>\n",
       "      <td>0.614634</td>\n",
       "      <td>0.064563</td>\n",
       "      <td>0.228683</td>\n",
       "      <td>-0.210382</td>\n",
       "      <td>0.430104</td>\n",
       "      <td>0.006806</td>\n",
       "      <td>-0.023963</td>\n",
       "      <td>0.081055</td>\n",
       "      <td>-0.067305</td>\n",
       "      <td>-0.060481</td>\n",
       "      <td>-0.008673</td>\n",
       "      <td>-0.018664</td>\n",
       "      <td>-0.016500</td>\n",
       "      <td>-0.049468</td>\n",
       "      <td>-0.051152</td>\n",
       "      <td>-0.037001</td>\n",
       "      <td>-0.035167</td>\n",
       "      <td>0.005762</td>\n",
       "    </tr>\n",
       "    <tr>\n",
       "      <th>3011894</th>\n",
       "      <td>1.355643</td>\n",
       "      <td>-0.375988</td>\n",
       "      <td>-0.019520</td>\n",
       "      <td>0.461598</td>\n",
       "      <td>0.221338</td>\n",
       "      <td>-0.131164</td>\n",
       "      <td>-0.182156</td>\n",
       "      <td>-0.356820</td>\n",
       "      <td>-0.591776</td>\n",
       "      <td>-0.154185</td>\n",
       "      <td>-0.416756</td>\n",
       "      <td>0.133652</td>\n",
       "      <td>-0.011373</td>\n",
       "      <td>-0.092686</td>\n",
       "      <td>-0.042887</td>\n",
       "      <td>-0.041254</td>\n",
       "      <td>-0.013595</td>\n",
       "      <td>-0.010796</td>\n",
       "      <td>-0.034207</td>\n",
       "      <td>0.031285</td>\n",
       "    </tr>\n",
       "    <tr>\n",
       "      <th>5362988</th>\n",
       "      <td>1.454185</td>\n",
       "      <td>-0.018894</td>\n",
       "      <td>-1.054420</td>\n",
       "      <td>0.451225</td>\n",
       "      <td>0.045282</td>\n",
       "      <td>0.045145</td>\n",
       "      <td>-0.304922</td>\n",
       "      <td>0.642142</td>\n",
       "      <td>-0.015291</td>\n",
       "      <td>0.222906</td>\n",
       "      <td>0.033290</td>\n",
       "      <td>-0.014388</td>\n",
       "      <td>0.041807</td>\n",
       "      <td>-0.054271</td>\n",
       "      <td>0.024288</td>\n",
       "      <td>0.009734</td>\n",
       "      <td>-0.011960</td>\n",
       "      <td>0.007882</td>\n",
       "      <td>0.008399</td>\n",
       "      <td>-0.012509</td>\n",
       "    </tr>\n",
       "    <tr>\n",
       "      <th>120901</th>\n",
       "      <td>0.939724</td>\n",
       "      <td>0.486016</td>\n",
       "      <td>0.278373</td>\n",
       "      <td>0.897338</td>\n",
       "      <td>-0.222054</td>\n",
       "      <td>-0.269220</td>\n",
       "      <td>0.256570</td>\n",
       "      <td>-0.623347</td>\n",
       "      <td>-0.367287</td>\n",
       "      <td>0.224339</td>\n",
       "      <td>-0.237459</td>\n",
       "      <td>0.397715</td>\n",
       "      <td>-0.114315</td>\n",
       "      <td>0.042200</td>\n",
       "      <td>-0.061957</td>\n",
       "      <td>-0.025124</td>\n",
       "      <td>0.000392</td>\n",
       "      <td>-0.005654</td>\n",
       "      <td>-0.028994</td>\n",
       "      <td>0.031122</td>\n",
       "    </tr>\n",
       "    <tr>\n",
       "      <th>5742374</th>\n",
       "      <td>1.454185</td>\n",
       "      <td>-0.018894</td>\n",
       "      <td>-1.054420</td>\n",
       "      <td>0.451225</td>\n",
       "      <td>0.045282</td>\n",
       "      <td>0.045145</td>\n",
       "      <td>-0.304922</td>\n",
       "      <td>0.642142</td>\n",
       "      <td>-0.015291</td>\n",
       "      <td>0.222906</td>\n",
       "      <td>0.033290</td>\n",
       "      <td>-0.014388</td>\n",
       "      <td>0.041807</td>\n",
       "      <td>-0.054271</td>\n",
       "      <td>0.024288</td>\n",
       "      <td>0.009734</td>\n",
       "      <td>-0.011960</td>\n",
       "      <td>0.007882</td>\n",
       "      <td>0.008399</td>\n",
       "      <td>-0.012509</td>\n",
       "    </tr>\n",
       "  </tbody>\n",
       "</table>\n",
       "<p>2858 rows × 20 columns</p>\n",
       "</div>"
      ],
      "text/plain": [
       "               0         1         2         3         4         5         6   \\\n",
       "120770   0.530932 -0.547894  0.842125  0.494829  0.276456 -0.274285  0.583157   \n",
       "132512   0.877430 -0.706023  0.003138 -0.464650  0.093140 -0.020102  0.647241   \n",
       "118661   1.146052  1.735228  0.379316 -0.322780 -0.159149 -0.278247  0.197216   \n",
       "215545   0.995355 -0.731454  0.435135  0.097159  0.089485 -0.131118 -0.400729   \n",
       "118715   0.557828 -0.272538  0.375366  0.878542 -0.221757 -0.463716 -0.467925   \n",
       "...           ...       ...       ...       ...       ...       ...       ...   \n",
       "114924   1.175526 -0.963695  0.614634  0.064563  0.228683 -0.210382  0.430104   \n",
       "3011894  1.355643 -0.375988 -0.019520  0.461598  0.221338 -0.131164 -0.182156   \n",
       "5362988  1.454185 -0.018894 -1.054420  0.451225  0.045282  0.045145 -0.304922   \n",
       "120901   0.939724  0.486016  0.278373  0.897338 -0.222054 -0.269220  0.256570   \n",
       "5742374  1.454185 -0.018894 -1.054420  0.451225  0.045282  0.045145 -0.304922   \n",
       "\n",
       "               7         8         9         10        11        12        13  \\\n",
       "120770   0.077572 -0.048016  0.036307  0.248086  0.062595  0.042189 -0.014752   \n",
       "132512   0.200158  0.108014 -0.027805 -0.022893 -0.141331 -0.000999  0.084930   \n",
       "118661  -0.003353 -0.484903 -0.114983  0.046178 -0.076311  0.076013 -0.131903   \n",
       "215545  -0.293141 -0.128696  0.150804 -0.229366 -0.021362  0.040627 -0.034585   \n",
       "118715   0.101338  0.321790 -0.082587  0.240813 -0.106218  0.025375 -0.094508   \n",
       "...           ...       ...       ...       ...       ...       ...       ...   \n",
       "114924   0.006806 -0.023963  0.081055 -0.067305 -0.060481 -0.008673 -0.018664   \n",
       "3011894 -0.356820 -0.591776 -0.154185 -0.416756  0.133652 -0.011373 -0.092686   \n",
       "5362988  0.642142 -0.015291  0.222906  0.033290 -0.014388  0.041807 -0.054271   \n",
       "120901  -0.623347 -0.367287  0.224339 -0.237459  0.397715 -0.114315  0.042200   \n",
       "5742374  0.642142 -0.015291  0.222906  0.033290 -0.014388  0.041807 -0.054271   \n",
       "\n",
       "               14        15        16        17        18        19  \n",
       "120770  -0.114792  0.404726  0.801440 -0.048564  0.165926  0.021716  \n",
       "132512  -0.022409 -0.000803 -0.043927 -0.041029 -0.020963 -0.010861  \n",
       "118661  -0.069377  0.014906 -0.008335  0.020363  0.005781 -0.005115  \n",
       "215545  -0.163152  0.392453  0.820800 -0.099069  0.123214  0.049527  \n",
       "118715  -0.066012 -0.107967 -0.148107  0.356474  0.824663 -0.349727  \n",
       "...           ...       ...       ...       ...       ...       ...  \n",
       "114924  -0.016500 -0.049468 -0.051152 -0.037001 -0.035167  0.005762  \n",
       "3011894 -0.042887 -0.041254 -0.013595 -0.010796 -0.034207  0.031285  \n",
       "5362988  0.024288  0.009734 -0.011960  0.007882  0.008399 -0.012509  \n",
       "120901  -0.061957 -0.025124  0.000392 -0.005654 -0.028994  0.031122  \n",
       "5742374  0.024288  0.009734 -0.011960  0.007882  0.008399 -0.012509  \n",
       "\n",
       "[2858 rows x 20 columns]"
      ]
     },
     "execution_count": 154,
     "metadata": {},
     "output_type": "execute_result"
    }
   ],
   "source": [
    "df_reco_2 = pd.DataFrame(df_reco_2, index=movie_meta.imdbid.tolist())\n",
    "df_reco_2"
   ]
  },
  {
   "cell_type": "code",
   "execution_count": 155,
   "id": "ff56694c",
   "metadata": {},
   "outputs": [],
   "source": [
    "with open(IDS_PICKLE_FILE, 'rb') as handle:\n",
    "    ids = pickle.load(handle)"
   ]
  },
  {
   "cell_type": "code",
   "execution_count": 156,
   "id": "4837f016",
   "metadata": {},
   "outputs": [],
   "source": [
    "for key, value in ids.items():\n",
    "    if key in df_reco_2.index:\n",
    "        df_reco_2.loc[key,'movie_name'] = value"
   ]
  },
  {
   "cell_type": "code",
   "execution_count": 157,
   "id": "0c35183d",
   "metadata": {},
   "outputs": [],
   "source": [
    "df_reco_2.set_index('movie_name', inplace=True)"
   ]
  },
  {
   "cell_type": "code",
   "execution_count": 135,
   "id": "0dccdbf2",
   "metadata": {},
   "outputs": [
    {
     "data": {
      "text/plain": [
       "0      17.246343\n",
       "1      -6.083397\n",
       "2      -7.243080\n",
       "3       1.917978\n",
       "4      -5.871992\n",
       "         ...    \n",
       "195    -0.780250\n",
       "196     0.785906\n",
       "197    -1.839639\n",
       "198    -0.707109\n",
       "199    -1.121063\n",
       "Name: Up, Length: 200, dtype: float64"
      ]
     },
     "execution_count": 135,
     "metadata": {},
     "output_type": "execute_result"
    }
   ],
   "source": [
    "df_reco_2.loc['Up']"
   ]
  },
  {
   "cell_type": "markdown",
   "id": "e958122a",
   "metadata": {},
   "source": [
    "### Find similar movies based on arcs and meta"
   ]
  },
  {
   "cell_type": "markdown",
   "id": "195295a7",
   "metadata": {},
   "source": [
    "Compute similarities for a movie"
   ]
  },
  {
   "cell_type": "code",
   "execution_count": 181,
   "id": "84ca83f8",
   "metadata": {},
   "outputs": [],
   "source": [
    "movie_ex = 'Toy Story'\n",
    "movie_ex1 = np.array(df_reco_1.loc[movie_ex]).reshape(1, -1)\n",
    "movie_ex2 = np.array(df_reco_2.loc[movie_ex]).reshape(1, -1)\n",
    "\n",
    "similarity_score1 = cosine_similarity(df_reco_1, movie_ex1)\n",
    "similarity_score2 = cosine_similarity(df_reco_2, movie_ex2)"
   ]
  },
  {
   "cell_type": "markdown",
   "id": "51d822d5",
   "metadata": {},
   "source": [
    "Regroup in a DataFrame"
   ]
  },
  {
   "cell_type": "code",
   "execution_count": 182,
   "id": "119ae829",
   "metadata": {},
   "outputs": [],
   "source": [
    "scores_df1 = pd.DataFrame(similarity_score1, index = df_reco_1.index)\n",
    "scores_df1.sort_values(0, ascending=False, inplace=True)\n",
    "scores_df1.columns = ['arcs']\n",
    "\n",
    "scores_df2 = pd.DataFrame(similarity_score2, index = df_reco_2.index)\n",
    "scores_df2.sort_values(0, ascending=False, inplace=True)\n",
    "scores_df2.columns = ['meta']"
   ]
  },
  {
   "cell_type": "code",
   "execution_count": 183,
   "id": "27336de1",
   "metadata": {},
   "outputs": [],
   "source": [
    "scores_df = pd.merge(scores_df1, scores_df2, left_index=True, right_index=True)"
   ]
  },
  {
   "cell_type": "markdown",
   "id": "b1bdd7d5",
   "metadata": {},
   "source": [
    "Compute a global score and select movies"
   ]
  },
  {
   "cell_type": "code",
   "execution_count": 184,
   "id": "358fe7c6",
   "metadata": {},
   "outputs": [
    {
     "data": {
      "text/html": [
       "<div>\n",
       "<style scoped>\n",
       "    .dataframe tbody tr th:only-of-type {\n",
       "        vertical-align: middle;\n",
       "    }\n",
       "\n",
       "    .dataframe tbody tr th {\n",
       "        vertical-align: top;\n",
       "    }\n",
       "\n",
       "    .dataframe thead th {\n",
       "        text-align: right;\n",
       "    }\n",
       "</style>\n",
       "<table border=\"1\" class=\"dataframe\">\n",
       "  <thead>\n",
       "    <tr style=\"text-align: right;\">\n",
       "      <th></th>\n",
       "      <th>arcs</th>\n",
       "      <th>meta</th>\n",
       "      <th>total</th>\n",
       "    </tr>\n",
       "    <tr>\n",
       "      <th>movie_name</th>\n",
       "      <th></th>\n",
       "      <th></th>\n",
       "      <th></th>\n",
       "    </tr>\n",
       "  </thead>\n",
       "  <tbody>\n",
       "    <tr>\n",
       "      <th>ParaNorman</th>\n",
       "      <td>0.797503</td>\n",
       "      <td>0.910787</td>\n",
       "      <td>0.854145</td>\n",
       "    </tr>\n",
       "    <tr>\n",
       "      <th>Inside Out</th>\n",
       "      <td>0.755115</td>\n",
       "      <td>0.910875</td>\n",
       "      <td>0.832995</td>\n",
       "    </tr>\n",
       "    <tr>\n",
       "      <th>Stuart Little 2</th>\n",
       "      <td>0.664165</td>\n",
       "      <td>1.000000</td>\n",
       "      <td>0.832083</td>\n",
       "    </tr>\n",
       "    <tr>\n",
       "      <th>Toy Story 2</th>\n",
       "      <td>0.621409</td>\n",
       "      <td>1.000000</td>\n",
       "      <td>0.810704</td>\n",
       "    </tr>\n",
       "    <tr>\n",
       "      <th>The Lorax</th>\n",
       "      <td>0.704301</td>\n",
       "      <td>0.913793</td>\n",
       "      <td>0.809047</td>\n",
       "    </tr>\n",
       "  </tbody>\n",
       "</table>\n",
       "</div>"
      ],
      "text/plain": [
       "                     arcs      meta     total\n",
       "movie_name                                   \n",
       "ParaNorman       0.797503  0.910787  0.854145\n",
       "Inside Out       0.755115  0.910875  0.832995\n",
       "Stuart Little 2  0.664165  1.000000  0.832083\n",
       "Toy Story 2      0.621409  1.000000  0.810704\n",
       "The Lorax        0.704301  0.913793  0.809047"
      ]
     },
     "execution_count": 184,
     "metadata": {},
     "output_type": "execute_result"
    }
   ],
   "source": [
    "scores_df['total'] = (scores_df['arcs'] + scores_df['meta']) / 2.0\n",
    "\n",
    "scores_df.sort_values(by=['total'], ascending=False, inplace=True)\n",
    "\n",
    "scores_df.drop([movie_ex], inplace=True)\n",
    "\n",
    "scores_df.head(5)"
   ]
  },
  {
   "cell_type": "code",
   "execution_count": 185,
   "id": "0c7fa288",
   "metadata": {},
   "outputs": [
    {
     "data": {
      "text/plain": [
       "<matplotlib.legend.Legend at 0x131929930>"
      ]
     },
     "execution_count": 185,
     "metadata": {},
     "output_type": "execute_result"
    },
    {
     "data": {
      "image/png": "[encoded data removed]",
      "text/plain": [
       "<Figure size 1000x600 with 1 Axes>"
      ]
     },
     "metadata": {},
     "output_type": "display_data"
    }
   ],
   "source": [
    "top_5 = []\n",
    "\n",
    "plt.figure(figsize=(10,6))\n",
    "for row in scores_df.iloc[0:5].iterrows():\n",
    "    id = row[0]\n",
    "    top_5.append(id)\n",
    "    score = round(row[1][0],2)\n",
    "    plt.plot(df_reco_1.loc[id], color='gainsboro', label=f\"{id} - {score}\")\n",
    "\n",
    "plt.plot(df_reco_1.loc[movie_ex], label=movie_ex)\n",
    "plt.legend()"
   ]
  },
  {
   "cell_type": "code",
   "execution_count": 141,
   "id": "b2813368",
   "metadata": {},
   "outputs": [
    {
     "data": {
      "text/plain": [
       "['Toy Story 2',\n",
       " 'Spider Man 2',\n",
       " 'Close Encounters of the Third Kind',\n",
       " 'Collateral',\n",
       " 'The Shining']"
      ]
     },
     "execution_count": 141,
     "metadata": {},
     "output_type": "execute_result"
    }
   ],
   "source": [
    "top_5"
   ]
  },
  {
   "cell_type": "code",
   "execution_count": 145,
   "id": "84a85e0d",
   "metadata": {},
   "outputs": [
    {
     "data": {
      "text/html": [
       "<div>\n",
       "<style scoped>\n",
       "    .dataframe tbody tr th:only-of-type {\n",
       "        vertical-align: middle;\n",
       "    }\n",
       "\n",
       "    .dataframe tbody tr th {\n",
       "        vertical-align: top;\n",
       "    }\n",
       "\n",
       "    .dataframe thead th {\n",
       "        text-align: right;\n",
       "    }\n",
       "</style>\n",
       "<table border=\"1\" class=\"dataframe\">\n",
       "  <thead>\n",
       "    <tr style=\"text-align: right;\">\n",
       "      <th></th>\n",
       "      <th>imdbid</th>\n",
       "      <th>title</th>\n",
       "      <th>keywords</th>\n",
       "      <th>genres</th>\n",
       "      <th>meta</th>\n",
       "    </tr>\n",
       "  </thead>\n",
       "  <tbody>\n",
       "    <tr>\n",
       "      <th>2424</th>\n",
       "      <td>114709</td>\n",
       "      <td>Toy Story</td>\n",
       "      <td>toy, rivalry, cowboy, cgi-animation, claw-cran...</td>\n",
       "      <td>Animation, Adventure, Comedy, Family, Fantasy</td>\n",
       "      <td>Animation Adventure Comedy Family Fantasy toy ...</td>\n",
       "    </tr>\n",
       "  </tbody>\n",
       "</table>\n",
       "</div>"
      ],
      "text/plain": [
       "      imdbid      title                                           keywords  \\\n",
       "2424  114709  Toy Story  toy, rivalry, cowboy, cgi-animation, claw-cran...   \n",
       "\n",
       "                                             genres  \\\n",
       "2424  Animation, Adventure, Comedy, Family, Fantasy   \n",
       "\n",
       "                                                   meta  \n",
       "2424  Animation Adventure Comedy Family Fantasy toy ...  "
      ]
     },
     "execution_count": 145,
     "metadata": {},
     "output_type": "execute_result"
    }
   ],
   "source": [
    "movie_meta[movie_meta['title'] == 'Toy Story']"
   ]
  },
  {
   "cell_type": "code",
   "execution_count": 143,
   "id": "16ff9a05",
   "metadata": {},
   "outputs": [
    {
     "data": {
      "text/html": [
       "<div>\n",
       "<style scoped>\n",
       "    .dataframe tbody tr th:only-of-type {\n",
       "        vertical-align: middle;\n",
       "    }\n",
       "\n",
       "    .dataframe tbody tr th {\n",
       "        vertical-align: top;\n",
       "    }\n",
       "\n",
       "    .dataframe thead th {\n",
       "        text-align: right;\n",
       "    }\n",
       "</style>\n",
       "<table border=\"1\" class=\"dataframe\">\n",
       "  <thead>\n",
       "    <tr style=\"text-align: right;\">\n",
       "      <th></th>\n",
       "      <th>imdbid</th>\n",
       "      <th>title</th>\n",
       "      <th>keywords</th>\n",
       "      <th>genres</th>\n",
       "      <th>meta</th>\n",
       "    </tr>\n",
       "  </thead>\n",
       "  <tbody>\n",
       "    <tr>\n",
       "      <th>2385</th>\n",
       "      <td>81505</td>\n",
       "      <td>The Shining</td>\n",
       "      <td>haunted-hotel, labyrinth, identical-twins, hot...</td>\n",
       "      <td>Drama, Horror</td>\n",
       "      <td>Drama Horror haunted-hotel labyrinth identical...</td>\n",
       "    </tr>\n",
       "  </tbody>\n",
       "</table>\n",
       "</div>"
      ],
      "text/plain": [
       "      imdbid        title                                           keywords  \\\n",
       "2385   81505  The Shining  haunted-hotel, labyrinth, identical-twins, hot...   \n",
       "\n",
       "             genres                                               meta  \n",
       "2385  Drama, Horror  Drama Horror haunted-hotel labyrinth identical...  "
      ]
     },
     "execution_count": 143,
     "metadata": {},
     "output_type": "execute_result"
    }
   ],
   "source": [
    "movie_meta[movie_meta['title'] == 'The Shining']"
   ]
  },
  {
   "cell_type": "markdown",
   "id": "a9e7585e",
   "metadata": {},
   "source": [
    "### Test the function"
   ]
  },
  {
   "cell_type": "code",
   "execution_count": 25,
   "id": "555ac818",
   "metadata": {},
   "outputs": [
    {
     "name": "stdout",
     "output_type": "stream",
     "text": [
      "The autoreload extension is already loaded. To reload it, use:\n",
      "  %reload_ext autoreload\n"
     ]
    }
   ],
   "source": [
    "%load_ext autoreload\n",
    "%autoreload 2\n",
    "\n",
    "from movie_sentiment.ml_logic.recommendation import get_movies_recommendation"
   ]
  },
  {
   "cell_type": "code",
   "execution_count": 191,
   "id": "db327d3c",
   "metadata": {},
   "outputs": [
    {
     "name": "stdout",
     "output_type": "stream",
     "text": [
      "Loading data from pickle file\n",
      "Loading metadata from pickle file\n"
     ]
    },
    {
     "data": {
      "text/plain": [
       "{'movie_names': ['Stuart Little 2',\n",
       "  'Toy Story 2',\n",
       "  'Inside Out',\n",
       "  'Curse of the Cat People Glenda and Odessa',\n",
       "  'How to Train Your Dragon'],\n",
       " 'movie_scores': [0.81, 0.77, 0.76, 0.75, 0.75]}"
      ]
     },
     "execution_count": 191,
     "metadata": {},
     "output_type": "execute_result"
    }
   ],
   "source": [
    "get_movies_recommendation('Up', n=5)"
   ]
  },
  {
   "cell_type": "markdown",
   "id": "f36eb45d",
   "metadata": {
    "heading_collapsed": true
   },
   "source": [
    "### Polynomials"
   ]
  },
  {
   "cell_type": "code",
   "execution_count": 27,
   "id": "c28a0174",
   "metadata": {
    "hidden": true
   },
   "outputs": [],
   "source": [
    "from movie_sentiment.processing.arcs import get_all_polynomials"
   ]
  },
  {
   "cell_type": "code",
   "execution_count": 28,
   "id": "9d5ade44",
   "metadata": {
    "hidden": true
   },
   "outputs": [
    {
     "name": "stdout",
     "output_type": "stream",
     "text": [
      "Loading data from pickle file\n"
     ]
    }
   ],
   "source": [
    "arcs = get_all_polynomials()"
   ]
  },
  {
   "cell_type": "code",
   "execution_count": 29,
   "id": "896c9971",
   "metadata": {
    "hidden": true
   },
   "outputs": [],
   "source": [
    "df_poly = arcs.set_index('movie_name')"
   ]
  },
  {
   "cell_type": "code",
   "execution_count": 30,
   "id": "c502e937",
   "metadata": {
    "hidden": true
   },
   "outputs": [],
   "source": [
    "movie_ex = np.array(df_poly.loc['Up']).reshape(1, -1)\n",
    "similarity_score = cosine_similarity(df_poly, movie_ex)"
   ]
  },
  {
   "cell_type": "code",
   "execution_count": 31,
   "id": "35c39466",
   "metadata": {
    "hidden": true
   },
   "outputs": [
    {
     "data": {
      "text/html": [
       "<div>\n",
       "<style scoped>\n",
       "    .dataframe tbody tr th:only-of-type {\n",
       "        vertical-align: middle;\n",
       "    }\n",
       "\n",
       "    .dataframe tbody tr th {\n",
       "        vertical-align: top;\n",
       "    }\n",
       "\n",
       "    .dataframe thead th {\n",
       "        text-align: right;\n",
       "    }\n",
       "</style>\n",
       "<table border=\"1\" class=\"dataframe\">\n",
       "  <thead>\n",
       "    <tr style=\"text-align: right;\">\n",
       "      <th></th>\n",
       "      <th>0</th>\n",
       "    </tr>\n",
       "    <tr>\n",
       "      <th>movie_name</th>\n",
       "      <th></th>\n",
       "    </tr>\n",
       "  </thead>\n",
       "  <tbody>\n",
       "    <tr>\n",
       "      <th>Up</th>\n",
       "      <td>1.0</td>\n",
       "    </tr>\n",
       "    <tr>\n",
       "      <th>The Great Outdoors</th>\n",
       "      <td>1.0</td>\n",
       "    </tr>\n",
       "    <tr>\n",
       "      <th>The Insider</th>\n",
       "      <td>1.0</td>\n",
       "    </tr>\n",
       "    <tr>\n",
       "      <th>Star Trek III The Search for Spock</th>\n",
       "      <td>1.0</td>\n",
       "    </tr>\n",
       "    <tr>\n",
       "      <th>A Few Good Men</th>\n",
       "      <td>1.0</td>\n",
       "    </tr>\n",
       "    <tr>\n",
       "      <th>The Rage Carrie 2</th>\n",
       "      <td>1.0</td>\n",
       "    </tr>\n",
       "  </tbody>\n",
       "</table>\n",
       "</div>"
      ],
      "text/plain": [
       "                                      0\n",
       "movie_name                             \n",
       "Up                                  1.0\n",
       "The Great Outdoors                  1.0\n",
       "The Insider                         1.0\n",
       "Star Trek III The Search for Spock  1.0\n",
       "A Few Good Men                      1.0\n",
       "The Rage Carrie 2                   1.0"
      ]
     },
     "execution_count": 31,
     "metadata": {},
     "output_type": "execute_result"
    }
   ],
   "source": [
    "recommendation_df = pd.DataFrame(similarity_score, index = df_poly.index)\n",
    "recommendation_df.sort_values(0, ascending=False, inplace=True)\n",
    "recommendation_df.head(6)"
   ]
  },
  {
   "cell_type": "markdown",
   "id": "6e0ae94f",
   "metadata": {
    "hidden": true
   },
   "source": [
    "Plotting polynomials"
   ]
  },
  {
   "cell_type": "code",
   "execution_count": 32,
   "id": "d912229f",
   "metadata": {
    "hidden": true
   },
   "outputs": [
    {
     "name": "stdout",
     "output_type": "stream",
     "text": [
      "0     0.000000e+00\n",
      "1     0.000000e+00\n",
      "2     0.000000e+00\n",
      "3     0.000000e+00\n",
      "4     0.000000e+00\n",
      "5     0.000000e+00\n",
      "6     3.278383e-09\n",
      "7    -1.626563e-06\n",
      "8     2.526939e-04\n",
      "9    -1.316647e-02\n",
      "10    3.241072e-01\n",
      "Name: Up, dtype: float64\n"
     ]
    },
    {
     "ename": "NameError",
     "evalue": "name 'x_fit' is not defined",
     "output_type": "error",
     "traceback": [
      "\u001b[0;31m---------------------------------------------------------------------------\u001b[0m",
      "\u001b[0;31mNameError\u001b[0m                                 Traceback (most recent call last)",
      "Cell \u001b[0;32mIn[32], line 10\u001b[0m\n\u001b[1;32m      8\u001b[0m     \u001b[38;5;28;01mif\u001b[39;00m \u001b[38;5;28mid\u001b[39m \u001b[38;5;241m!=\u001b[39m\u001b[38;5;241m0\u001b[39m:\n\u001b[1;32m      9\u001b[0m         \u001b[38;5;28mprint\u001b[39m(df_poly\u001b[38;5;241m.\u001b[39mloc[\u001b[38;5;28mid\u001b[39m])\n\u001b[0;32m---> 10\u001b[0m         y_fit \u001b[38;5;241m=\u001b[39m np\u001b[38;5;241m.\u001b[39mpolyval(df_poly\u001b[38;5;241m.\u001b[39mloc[\u001b[38;5;28mid\u001b[39m], \u001b[43mx_fit\u001b[49m)\n\u001b[1;32m     11\u001b[0m         plt\u001b[38;5;241m.\u001b[39mplot(x_fit, y_fit, color\u001b[38;5;241m=\u001b[39m\u001b[38;5;124m'\u001b[39m\u001b[38;5;124mgainsboro\u001b[39m\u001b[38;5;124m'\u001b[39m)\n\u001b[1;32m     13\u001b[0m plt\u001b[38;5;241m.\u001b[39mplot(df_reco_1\u001b[38;5;241m.\u001b[39mloc[\u001b[38;5;28mid\u001b[39m])\n",
      "\u001b[0;31mNameError\u001b[0m: name 'x_fit' is not defined"
     ]
    }
   ],
   "source": [
    "# x_fit = np.arange(30)\n",
    "# y_fit = np.polyval(coefficients, x_fit)\n",
    "# plt.plot(x_fit, y_fit, 'r')\n",
    "\n",
    "\n",
    "for row in recommendation_df.head(10).iterrows():\n",
    "    id = row[0]\n",
    "    if id !=0:\n",
    "        print(df_poly.loc[id])\n",
    "        y_fit = np.polyval(df_poly.loc[id], x_fit)\n",
    "        plt.plot(x_fit, y_fit, color='gainsboro')\n",
    "        \n",
    "plt.plot(df_reco_1.loc[id])"
   ]
  },
  {
   "cell_type": "markdown",
   "id": "5e1cb10d",
   "metadata": {
    "hidden": true
   },
   "source": [
    "Plotting curves"
   ]
  },
  {
   "cell_type": "code",
   "execution_count": null,
   "id": "55376e4b",
   "metadata": {
    "hidden": true
   },
   "outputs": [],
   "source": [
    "for row in recommendation_df.head(10).iterrows():\n",
    "    id = row[0]\n",
    "    if id !=0:\n",
    "        plt.plot(df_reco_1.loc[id], color='gainsboro')\n",
    "        \n",
    "plt.plot(df_reco_1.loc[id])"
   ]
  },
  {
   "cell_type": "code",
   "execution_count": null,
   "id": "b0d7b4d1",
   "metadata": {
    "hidden": true
   },
   "outputs": [],
   "source": []
  }
 ],
 "metadata": {
  "kernelspec": {
   "display_name": "Python 3 (ipykernel)",
   "language": "python",
   "name": "python3"
  },
  "language_info": {
   "codemirror_mode": {
    "name": "ipython",
    "version": 3
   },
   "file_extension": ".py",
   "mimetype": "text/x-python",
   "name": "python",
   "nbconvert_exporter": "python",
   "pygments_lexer": "ipython3",
   "version": "3.10.6"
  },
  "toc": {
   "base_numbering": 1,
   "nav_menu": {},
   "number_sections": true,
   "sideBar": true,
   "skip_h1_title": false,
   "title_cell": "Table of Contents",
   "title_sidebar": "Contents",
   "toc_cell": false,
   "toc_position": {},
   "toc_section_display": true,
   "toc_window_display": false
  }
 },
 "nbformat": 4,
 "nbformat_minor": 5
}
