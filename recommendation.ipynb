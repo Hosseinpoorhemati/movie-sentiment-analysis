{
 "cells": [
  {
   "cell_type": "code",
   "execution_count": 62,
   "id": "395eb8fb",
   "metadata": {},
   "outputs": [
    {
     "name": "stdout",
     "output_type": "stream",
     "text": [
      "The autoreload extension is already loaded. To reload it, use:\n",
      "  %reload_ext autoreload\n"
     ]
    }
   ],
   "source": [
    "%load_ext autoreload\n",
    "%autoreload 2\n",
    "\n",
    "import pandas as pd\n",
    "import numpy as np\n",
    "import seaborn as sns\n",
    "import matplotlib.pyplot as plt\n",
    "import pickle\n",
    "\n",
    "from sklearn.preprocessing import StandardScaler\n",
    "from sklearn.metrics.pairwise import cosine_similarity\n",
    "from sklearn.feature_extraction.text import CountVectorizer\n",
    "from sklearn.decomposition import TruncatedSVD\n",
    "\n",
    "from movie_sentiment.processing.arcs import get_all_reshaped_arcs\n",
    "from movie_sentiment.params import *"
   ]
  },
  {
   "cell_type": "markdown",
   "id": "96b95b2f",
   "metadata": {},
   "source": [
    "### Standardize arcs and preparing df"
   ]
  },
  {
   "cell_type": "code",
   "execution_count": 40,
   "id": "b007bdce",
   "metadata": {},
   "outputs": [
    {
     "name": "stdout",
     "output_type": "stream",
     "text": [
      "Loading data from pickle file\n"
     ]
    }
   ],
   "source": [
    "arcs = get_all_reshaped_arcs(dyn_avg=True)"
   ]
  },
  {
   "cell_type": "markdown",
   "id": "bcf6e6c7",
   "metadata": {},
   "source": [
    "2 following cells are optional (for standardization of the data)"
   ]
  },
  {
   "cell_type": "code",
   "execution_count": 41,
   "id": "74f23ce1",
   "metadata": {},
   "outputs": [],
   "source": [
    "X = arcs.drop(columns='movie_name')\n",
    "\n",
    "s_scaler = StandardScaler()\n",
    "s_scaler.fit(X.T)\n",
    "scaled = s_scaler.transform(X.T)\n",
    "X_scaled = pd.DataFrame(scaled.T, columns=X.columns)"
   ]
  },
  {
   "cell_type": "code",
   "execution_count": 42,
   "id": "c6172e2f",
   "metadata": {
    "scrolled": true
   },
   "outputs": [],
   "source": [
    "columns_ids = [i for i in range(30)]\n",
    "\n",
    "for i in columns_ids:\n",
    "    arcs[i] = X_scaled[i]"
   ]
  },
  {
   "cell_type": "code",
   "execution_count": 43,
   "id": "c438793a",
   "metadata": {},
   "outputs": [],
   "source": [
    "df_reco_1 = arcs.set_index('movie_name')"
   ]
  },
  {
   "cell_type": "code",
   "execution_count": 44,
   "id": "84d44456",
   "metadata": {},
   "outputs": [
    {
     "data": {
      "text/html": [
       "<div>\n",
       "<style scoped>\n",
       "    .dataframe tbody tr th:only-of-type {\n",
       "        vertical-align: middle;\n",
       "    }\n",
       "\n",
       "    .dataframe tbody tr th {\n",
       "        vertical-align: top;\n",
       "    }\n",
       "\n",
       "    .dataframe thead th {\n",
       "        text-align: right;\n",
       "    }\n",
       "</style>\n",
       "<table border=\"1\" class=\"dataframe\">\n",
       "  <thead>\n",
       "    <tr style=\"text-align: right;\">\n",
       "      <th></th>\n",
       "      <th>0</th>\n",
       "      <th>1</th>\n",
       "      <th>2</th>\n",
       "      <th>3</th>\n",
       "      <th>4</th>\n",
       "      <th>5</th>\n",
       "      <th>6</th>\n",
       "      <th>7</th>\n",
       "      <th>8</th>\n",
       "      <th>9</th>\n",
       "      <th>...</th>\n",
       "      <th>20</th>\n",
       "      <th>21</th>\n",
       "      <th>22</th>\n",
       "      <th>23</th>\n",
       "      <th>24</th>\n",
       "      <th>25</th>\n",
       "      <th>26</th>\n",
       "      <th>27</th>\n",
       "      <th>28</th>\n",
       "      <th>29</th>\n",
       "    </tr>\n",
       "    <tr>\n",
       "      <th>movie_name</th>\n",
       "      <th></th>\n",
       "      <th></th>\n",
       "      <th></th>\n",
       "      <th></th>\n",
       "      <th></th>\n",
       "      <th></th>\n",
       "      <th></th>\n",
       "      <th></th>\n",
       "      <th></th>\n",
       "      <th></th>\n",
       "      <th></th>\n",
       "      <th></th>\n",
       "      <th></th>\n",
       "      <th></th>\n",
       "      <th></th>\n",
       "      <th></th>\n",
       "      <th></th>\n",
       "      <th></th>\n",
       "      <th></th>\n",
       "      <th></th>\n",
       "      <th></th>\n",
       "    </tr>\n",
       "  </thead>\n",
       "  <tbody>\n",
       "    <tr>\n",
       "      <th>Fernando Arrabal lit Sa corolle noire ditions A Biren suivi de Ah la belle ann e ditions Ginasservis et Paris</th>\n",
       "      <td>-1.598291</td>\n",
       "      <td>-1.778773</td>\n",
       "      <td>-1.374239</td>\n",
       "      <td>-1.363652</td>\n",
       "      <td>-1.355981</td>\n",
       "      <td>-0.459759</td>\n",
       "      <td>-0.017918</td>\n",
       "      <td>-0.202872</td>\n",
       "      <td>-1.024959</td>\n",
       "      <td>-0.841603</td>\n",
       "      <td>...</td>\n",
       "      <td>1.156356</td>\n",
       "      <td>0.726309</td>\n",
       "      <td>0.116753</td>\n",
       "      <td>-0.662530</td>\n",
       "      <td>-0.368297</td>\n",
       "      <td>-0.362491</td>\n",
       "      <td>-0.242547</td>\n",
       "      <td>0.316914</td>\n",
       "      <td>0.827208</td>\n",
       "      <td>2.184837</td>\n",
       "    </tr>\n",
       "    <tr>\n",
       "      <th>It s Kind of a Funny Story</th>\n",
       "      <td>-0.169236</td>\n",
       "      <td>0.593324</td>\n",
       "      <td>1.101164</td>\n",
       "      <td>0.903140</td>\n",
       "      <td>0.965396</td>\n",
       "      <td>0.531421</td>\n",
       "      <td>-0.038163</td>\n",
       "      <td>-0.467987</td>\n",
       "      <td>-0.723052</td>\n",
       "      <td>-0.379225</td>\n",
       "      <td>...</td>\n",
       "      <td>-1.139889</td>\n",
       "      <td>-1.281726</td>\n",
       "      <td>-0.913743</td>\n",
       "      <td>-0.544836</td>\n",
       "      <td>-0.582910</td>\n",
       "      <td>0.173852</td>\n",
       "      <td>0.451509</td>\n",
       "      <td>1.561008</td>\n",
       "      <td>2.286078</td>\n",
       "      <td>0.780361</td>\n",
       "    </tr>\n",
       "    <tr>\n",
       "      <th>Neither Seen Nor Recognized</th>\n",
       "      <td>0.127829</td>\n",
       "      <td>0.414927</td>\n",
       "      <td>-0.111587</td>\n",
       "      <td>0.117459</td>\n",
       "      <td>0.435570</td>\n",
       "      <td>0.960243</td>\n",
       "      <td>1.671093</td>\n",
       "      <td>1.368567</td>\n",
       "      <td>1.008647</td>\n",
       "      <td>0.482891</td>\n",
       "      <td>...</td>\n",
       "      <td>-0.914588</td>\n",
       "      <td>-1.498294</td>\n",
       "      <td>-1.752695</td>\n",
       "      <td>-2.210531</td>\n",
       "      <td>-2.025708</td>\n",
       "      <td>-1.432724</td>\n",
       "      <td>-0.888310</td>\n",
       "      <td>0.099751</td>\n",
       "      <td>1.494704</td>\n",
       "      <td>-0.419205</td>\n",
       "    </tr>\n",
       "  </tbody>\n",
       "</table>\n",
       "<p>3 rows × 30 columns</p>\n",
       "</div>"
      ],
      "text/plain": [
       "                                                          0         1   \\\n",
       "movie_name                                                               \n",
       "Fernando Arrabal lit Sa corolle noire ditions A... -1.598291 -1.778773   \n",
       "It s Kind of a Funny Story                         -0.169236  0.593324   \n",
       "Neither Seen Nor Recognized                         0.127829  0.414927   \n",
       "\n",
       "                                                          2         3   \\\n",
       "movie_name                                                               \n",
       "Fernando Arrabal lit Sa corolle noire ditions A... -1.374239 -1.363652   \n",
       "It s Kind of a Funny Story                          1.101164  0.903140   \n",
       "Neither Seen Nor Recognized                        -0.111587  0.117459   \n",
       "\n",
       "                                                          4         5   \\\n",
       "movie_name                                                               \n",
       "Fernando Arrabal lit Sa corolle noire ditions A... -1.355981 -0.459759   \n",
       "It s Kind of a Funny Story                          0.965396  0.531421   \n",
       "Neither Seen Nor Recognized                         0.435570  0.960243   \n",
       "\n",
       "                                                          6         7   \\\n",
       "movie_name                                                               \n",
       "Fernando Arrabal lit Sa corolle noire ditions A... -0.017918 -0.202872   \n",
       "It s Kind of a Funny Story                         -0.038163 -0.467987   \n",
       "Neither Seen Nor Recognized                         1.671093  1.368567   \n",
       "\n",
       "                                                          8         9   ...  \\\n",
       "movie_name                                                              ...   \n",
       "Fernando Arrabal lit Sa corolle noire ditions A... -1.024959 -0.841603  ...   \n",
       "It s Kind of a Funny Story                         -0.723052 -0.379225  ...   \n",
       "Neither Seen Nor Recognized                         1.008647  0.482891  ...   \n",
       "\n",
       "                                                          20        21  \\\n",
       "movie_name                                                               \n",
       "Fernando Arrabal lit Sa corolle noire ditions A...  1.156356  0.726309   \n",
       "It s Kind of a Funny Story                         -1.139889 -1.281726   \n",
       "Neither Seen Nor Recognized                        -0.914588 -1.498294   \n",
       "\n",
       "                                                          22        23  \\\n",
       "movie_name                                                               \n",
       "Fernando Arrabal lit Sa corolle noire ditions A...  0.116753 -0.662530   \n",
       "It s Kind of a Funny Story                         -0.913743 -0.544836   \n",
       "Neither Seen Nor Recognized                        -1.752695 -2.210531   \n",
       "\n",
       "                                                          24        25  \\\n",
       "movie_name                                                               \n",
       "Fernando Arrabal lit Sa corolle noire ditions A... -0.368297 -0.362491   \n",
       "It s Kind of a Funny Story                         -0.582910  0.173852   \n",
       "Neither Seen Nor Recognized                        -2.025708 -1.432724   \n",
       "\n",
       "                                                          26        27  \\\n",
       "movie_name                                                               \n",
       "Fernando Arrabal lit Sa corolle noire ditions A... -0.242547  0.316914   \n",
       "It s Kind of a Funny Story                          0.451509  1.561008   \n",
       "Neither Seen Nor Recognized                        -0.888310  0.099751   \n",
       "\n",
       "                                                          28        29  \n",
       "movie_name                                                              \n",
       "Fernando Arrabal lit Sa corolle noire ditions A...  0.827208  2.184837  \n",
       "It s Kind of a Funny Story                          2.286078  0.780361  \n",
       "Neither Seen Nor Recognized                         1.494704 -0.419205  \n",
       "\n",
       "[3 rows x 30 columns]"
      ]
     },
     "execution_count": 44,
     "metadata": {},
     "output_type": "execute_result"
    }
   ],
   "source": [
    "df_reco_1.head(3)"
   ]
  },
  {
   "cell_type": "markdown",
   "id": "ac2bf287",
   "metadata": {
    "heading_collapsed": true
   },
   "source": [
    "### Find similar movies based on arcs"
   ]
  },
  {
   "cell_type": "code",
   "execution_count": 45,
   "id": "2c7e59a9",
   "metadata": {
    "hidden": true
   },
   "outputs": [],
   "source": [
    "movie_ex = np.array(df_reco_1.loc['Up']).reshape(1, -1)\n",
    "similarity_score = cosine_similarity(df_reco_1, movie_ex)"
   ]
  },
  {
   "cell_type": "code",
   "execution_count": 46,
   "id": "9fadbe59",
   "metadata": {
    "hidden": true
   },
   "outputs": [
    {
     "data": {
      "text/html": [
       "<div>\n",
       "<style scoped>\n",
       "    .dataframe tbody tr th:only-of-type {\n",
       "        vertical-align: middle;\n",
       "    }\n",
       "\n",
       "    .dataframe tbody tr th {\n",
       "        vertical-align: top;\n",
       "    }\n",
       "\n",
       "    .dataframe thead th {\n",
       "        text-align: right;\n",
       "    }\n",
       "</style>\n",
       "<table border=\"1\" class=\"dataframe\">\n",
       "  <thead>\n",
       "    <tr style=\"text-align: right;\">\n",
       "      <th></th>\n",
       "      <th>0</th>\n",
       "    </tr>\n",
       "    <tr>\n",
       "      <th>movie_name</th>\n",
       "      <th></th>\n",
       "    </tr>\n",
       "  </thead>\n",
       "  <tbody>\n",
       "    <tr>\n",
       "      <th>Up</th>\n",
       "      <td>1.000000</td>\n",
       "    </tr>\n",
       "    <tr>\n",
       "      <th>Tarzan s Secret Treasure</th>\n",
       "      <td>0.915319</td>\n",
       "    </tr>\n",
       "    <tr>\n",
       "      <th>Limbo</th>\n",
       "      <td>0.900012</td>\n",
       "    </tr>\n",
       "    <tr>\n",
       "      <th>Pain and Glory</th>\n",
       "      <td>0.865722</td>\n",
       "    </tr>\n",
       "    <tr>\n",
       "      <th>Good Boy</th>\n",
       "      <td>0.863963</td>\n",
       "    </tr>\n",
       "    <tr>\n",
       "      <th>Snatch</th>\n",
       "      <td>0.862364</td>\n",
       "    </tr>\n",
       "  </tbody>\n",
       "</table>\n",
       "</div>"
      ],
      "text/plain": [
       "                                 0\n",
       "movie_name                        \n",
       "Up                        1.000000\n",
       "Tarzan s Secret Treasure  0.915319\n",
       "Limbo                     0.900012\n",
       "Pain and Glory            0.865722\n",
       "Good Boy                  0.863963\n",
       "Snatch                    0.862364"
      ]
     },
     "execution_count": 46,
     "metadata": {},
     "output_type": "execute_result"
    }
   ],
   "source": [
    "recommendation_df = pd.DataFrame(similarity_score, index = df_reco_1.index)\n",
    "recommendation_df.sort_values(0, ascending=False, inplace=True)\n",
    "recommendation_df.head(6)"
   ]
  },
  {
   "cell_type": "code",
   "execution_count": 9,
   "id": "a9f77892",
   "metadata": {
    "hidden": true
   },
   "outputs": [
    {
     "data": {
      "text/plain": [
       "<matplotlib.legend.Legend at 0x127d8e350>"
      ]
     },
     "execution_count": 9,
     "metadata": {},
     "output_type": "execute_result"
    },
    {
     "data": {
      "image/png": "[encoded data removed]",
      "text/plain": [
       "<Figure size 1000x600 with 1 Axes>"
      ]
     },
     "metadata": {},
     "output_type": "display_data"
    }
   ],
   "source": [
    "plt.figure(figsize=(10,6))\n",
    "for row in recommendation_df.iloc[1:6].iterrows():\n",
    "    id = row[0]\n",
    "    score = round(row[1][0],2)\n",
    "    plt.plot(df_reco_1.loc[id], color='gainsboro', label=f\"{id} - {score}\")\n",
    "\n",
    "plt.plot(df_reco_1.loc['Up'], label='Up')\n",
    "plt.legend()"
   ]
  },
  {
   "cell_type": "markdown",
   "id": "7e933bc5",
   "metadata": {},
   "source": [
    "### Get movies metadata"
   ]
  },
  {
   "cell_type": "markdown",
   "id": "7a50fc97",
   "metadata": {},
   "source": [
    "Get data"
   ]
  },
  {
   "cell_type": "code",
   "execution_count": 47,
   "id": "214a3bc1",
   "metadata": {},
   "outputs": [
    {
     "data": {
      "text/plain": [
       "Index(['imdbid', 'title', 'akas', 'year', 'metascore', 'imdb user rating',\n",
       "       'number of imdb user votes', 'awards', 'opening weekend', 'producers',\n",
       "       'budget', 'script department', 'production companies', 'writers',\n",
       "       'directors', 'casting directors', 'cast', 'countries', 'age restrict',\n",
       "       'plot', 'plot outline', 'keywords', 'genres', 'taglines', 'synopsis'],\n",
       "      dtype='object')"
      ]
     },
     "execution_count": 47,
     "metadata": {},
     "output_type": "execute_result"
    }
   ],
   "source": [
    "movie_meta = pd.read_csv('./raw_data/movie_metadata/movie_meta_data.csv')\n",
    "movie_meta.columns"
   ]
  },
  {
   "cell_type": "code",
   "execution_count": 48,
   "id": "e22df93d",
   "metadata": {},
   "outputs": [],
   "source": [
    "movie_meta = movie_meta[['imdbid','title', 'keywords', 'genres']]"
   ]
  },
  {
   "cell_type": "code",
   "execution_count": 49,
   "id": "cc39c69c",
   "metadata": {},
   "outputs": [
    {
     "data": {
      "text/html": [
       "<div>\n",
       "<style scoped>\n",
       "    .dataframe tbody tr th:only-of-type {\n",
       "        vertical-align: middle;\n",
       "    }\n",
       "\n",
       "    .dataframe tbody tr th {\n",
       "        vertical-align: top;\n",
       "    }\n",
       "\n",
       "    .dataframe thead th {\n",
       "        text-align: right;\n",
       "    }\n",
       "</style>\n",
       "<table border=\"1\" class=\"dataframe\">\n",
       "  <thead>\n",
       "    <tr style=\"text-align: right;\">\n",
       "      <th></th>\n",
       "      <th>imdbid</th>\n",
       "      <th>title</th>\n",
       "      <th>keywords</th>\n",
       "      <th>genres</th>\n",
       "    </tr>\n",
       "  </thead>\n",
       "  <tbody>\n",
       "    <tr>\n",
       "      <th>0</th>\n",
       "      <td>120770</td>\n",
       "      <td>A Night at the Roxbury</td>\n",
       "      <td>woman-on-top, nightclub, car-accident, 1990s, ...</td>\n",
       "      <td>Comedy, Music, Romance</td>\n",
       "    </tr>\n",
       "    <tr>\n",
       "      <th>1</th>\n",
       "      <td>132512</td>\n",
       "      <td>At First Sight</td>\n",
       "      <td>visual-agnosia, brother-sister-relationship, r...</td>\n",
       "      <td>Drama, Romance</td>\n",
       "    </tr>\n",
       "    <tr>\n",
       "      <th>2</th>\n",
       "      <td>118661</td>\n",
       "      <td>The Avengers</td>\n",
       "      <td>good-versus-evil, heroine, evil-man, villain, ...</td>\n",
       "      <td>Action, Adventure, Sci-Fi, Thriller</td>\n",
       "    </tr>\n",
       "    <tr>\n",
       "      <th>3</th>\n",
       "      <td>215545</td>\n",
       "      <td>Bamboozled</td>\n",
       "      <td>television-industry, african-american, referen...</td>\n",
       "      <td>Comedy, Drama, Music</td>\n",
       "    </tr>\n",
       "    <tr>\n",
       "      <th>4</th>\n",
       "      <td>118715</td>\n",
       "      <td>The Big Lebowski</td>\n",
       "      <td>rug, nihilism, pornographer, bowling-alley, de...</td>\n",
       "      <td>Comedy, Crime, Sport</td>\n",
       "    </tr>\n",
       "  </tbody>\n",
       "</table>\n",
       "</div>"
      ],
      "text/plain": [
       "   imdbid                   title  \\\n",
       "0  120770  A Night at the Roxbury   \n",
       "1  132512          At First Sight   \n",
       "2  118661            The Avengers   \n",
       "3  215545              Bamboozled   \n",
       "4  118715        The Big Lebowski   \n",
       "\n",
       "                                            keywords  \\\n",
       "0  woman-on-top, nightclub, car-accident, 1990s, ...   \n",
       "1  visual-agnosia, brother-sister-relationship, r...   \n",
       "2  good-versus-evil, heroine, evil-man, villain, ...   \n",
       "3  television-industry, african-american, referen...   \n",
       "4  rug, nihilism, pornographer, bowling-alley, de...   \n",
       "\n",
       "                                genres  \n",
       "0               Comedy, Music, Romance  \n",
       "1                       Drama, Romance  \n",
       "2  Action, Adventure, Sci-Fi, Thriller  \n",
       "3                 Comedy, Drama, Music  \n",
       "4                 Comedy, Crime, Sport  "
      ]
     },
     "execution_count": 49,
     "metadata": {},
     "output_type": "execute_result"
    }
   ],
   "source": [
    "movie_meta.head()"
   ]
  },
  {
   "cell_type": "markdown",
   "id": "d24a7991",
   "metadata": {},
   "source": [
    "Compute and clean meta data"
   ]
  },
  {
   "cell_type": "code",
   "execution_count": 50,
   "id": "e2297077",
   "metadata": {},
   "outputs": [],
   "source": [
    "movie_meta['meta'] = movie_meta['genres'] + ', ' + movie_meta['keywords']"
   ]
  },
  {
   "cell_type": "code",
   "execution_count": 51,
   "id": "5285cbf9",
   "metadata": {},
   "outputs": [],
   "source": [
    "movie_meta['meta'] = movie_meta['meta'].str.replace(',', '')"
   ]
  },
  {
   "cell_type": "code",
   "execution_count": 52,
   "id": "ae8e71ac",
   "metadata": {},
   "outputs": [],
   "source": [
    "movie_meta['meta'] = movie_meta['meta'].fillna('')"
   ]
  },
  {
   "cell_type": "markdown",
   "id": "76761642",
   "metadata": {},
   "source": [
    "Convert to vectors"
   ]
  },
  {
   "cell_type": "code",
   "execution_count": 53,
   "id": "18c56e83",
   "metadata": {},
   "outputs": [],
   "source": [
    "count = CountVectorizer()\n",
    "count_matrix = count.fit_transform(movie_meta['meta'])\n",
    "count_df = pd.DataFrame(count_matrix.toarray(), index=movie_meta.index.tolist())"
   ]
  },
  {
   "cell_type": "markdown",
   "id": "fbcad37b",
   "metadata": {},
   "source": [
    "Reduce dimensions"
   ]
  },
  {
   "cell_type": "code",
   "execution_count": 73,
   "id": "2e7939b3",
   "metadata": {},
   "outputs": [],
   "source": [
    "svd = TruncatedSVD(n_components=200)\n",
    "df_reco_2 = svd.fit_transform(count_df)"
   ]
  },
  {
   "cell_type": "code",
   "execution_count": 18,
   "id": "8e7e6857",
   "metadata": {},
   "outputs": [
    {
     "data": {
      "image/png": "[encoded data removed]",
      "text/plain": [
       "<Figure size 640x480 with 1 Axes>"
      ]
     },
     "metadata": {},
     "output_type": "display_data"
    }
   ],
   "source": [
    "plt.plot(svd.explained_variance_ratio_.cumsum())\n",
    "plt.xlabel('Components')\n",
    "plt.ylabel('Cumulative percent of variance')   \n",
    "plt.grid()\n",
    "plt.show()"
   ]
  },
  {
   "cell_type": "code",
   "execution_count": 74,
   "id": "88718f28",
   "metadata": {},
   "outputs": [
    {
     "data": {
      "text/html": [
       "<div>\n",
       "<style scoped>\n",
       "    .dataframe tbody tr th:only-of-type {\n",
       "        vertical-align: middle;\n",
       "    }\n",
       "\n",
       "    .dataframe tbody tr th {\n",
       "        vertical-align: top;\n",
       "    }\n",
       "\n",
       "    .dataframe thead th {\n",
       "        text-align: right;\n",
       "    }\n",
       "</style>\n",
       "<table border=\"1\" class=\"dataframe\">\n",
       "  <thead>\n",
       "    <tr style=\"text-align: right;\">\n",
       "      <th></th>\n",
       "      <th>0</th>\n",
       "      <th>1</th>\n",
       "      <th>2</th>\n",
       "      <th>3</th>\n",
       "      <th>4</th>\n",
       "      <th>5</th>\n",
       "      <th>6</th>\n",
       "      <th>7</th>\n",
       "      <th>8</th>\n",
       "      <th>9</th>\n",
       "      <th>...</th>\n",
       "      <th>190</th>\n",
       "      <th>191</th>\n",
       "      <th>192</th>\n",
       "      <th>193</th>\n",
       "      <th>194</th>\n",
       "      <th>195</th>\n",
       "      <th>196</th>\n",
       "      <th>197</th>\n",
       "      <th>198</th>\n",
       "      <th>199</th>\n",
       "    </tr>\n",
       "  </thead>\n",
       "  <tbody>\n",
       "    <tr>\n",
       "      <th>120770</th>\n",
       "      <td>1.502832</td>\n",
       "      <td>-0.803807</td>\n",
       "      <td>-2.006379</td>\n",
       "      <td>-0.793780</td>\n",
       "      <td>-0.829672</td>\n",
       "      <td>0.728085</td>\n",
       "      <td>-0.366592</td>\n",
       "      <td>-0.675100</td>\n",
       "      <td>0.999133</td>\n",
       "      <td>0.615034</td>\n",
       "      <td>...</td>\n",
       "      <td>-0.116435</td>\n",
       "      <td>0.070939</td>\n",
       "      <td>0.034918</td>\n",
       "      <td>0.049135</td>\n",
       "      <td>0.712998</td>\n",
       "      <td>-0.117494</td>\n",
       "      <td>-0.091747</td>\n",
       "      <td>-0.299599</td>\n",
       "      <td>0.309229</td>\n",
       "      <td>-0.250625</td>\n",
       "    </tr>\n",
       "    <tr>\n",
       "      <th>132512</th>\n",
       "      <td>1.271576</td>\n",
       "      <td>-0.528864</td>\n",
       "      <td>-2.081561</td>\n",
       "      <td>-0.756035</td>\n",
       "      <td>-0.765354</td>\n",
       "      <td>0.251869</td>\n",
       "      <td>-0.732929</td>\n",
       "      <td>-0.698070</td>\n",
       "      <td>1.380662</td>\n",
       "      <td>-0.888438</td>\n",
       "      <td>...</td>\n",
       "      <td>0.006325</td>\n",
       "      <td>0.068170</td>\n",
       "      <td>0.041898</td>\n",
       "      <td>0.255544</td>\n",
       "      <td>0.213818</td>\n",
       "      <td>-0.123327</td>\n",
       "      <td>-0.097361</td>\n",
       "      <td>-0.203210</td>\n",
       "      <td>0.018764</td>\n",
       "      <td>-0.184906</td>\n",
       "    </tr>\n",
       "    <tr>\n",
       "      <th>118661</th>\n",
       "      <td>6.607973</td>\n",
       "      <td>-1.739845</td>\n",
       "      <td>0.476277</td>\n",
       "      <td>1.615551</td>\n",
       "      <td>2.167067</td>\n",
       "      <td>3.640551</td>\n",
       "      <td>0.082123</td>\n",
       "      <td>1.565535</td>\n",
       "      <td>1.681950</td>\n",
       "      <td>1.472499</td>\n",
       "      <td>...</td>\n",
       "      <td>0.617191</td>\n",
       "      <td>-0.204863</td>\n",
       "      <td>0.179313</td>\n",
       "      <td>0.529492</td>\n",
       "      <td>0.377695</td>\n",
       "      <td>-0.518493</td>\n",
       "      <td>0.290419</td>\n",
       "      <td>-0.352923</td>\n",
       "      <td>1.042090</td>\n",
       "      <td>0.862013</td>\n",
       "    </tr>\n",
       "    <tr>\n",
       "      <th>215545</th>\n",
       "      <td>58.035444</td>\n",
       "      <td>50.585552</td>\n",
       "      <td>5.012842</td>\n",
       "      <td>2.557669</td>\n",
       "      <td>-2.838908</td>\n",
       "      <td>2.143097</td>\n",
       "      <td>-4.067179</td>\n",
       "      <td>3.284438</td>\n",
       "      <td>-0.802079</td>\n",
       "      <td>-4.157638</td>\n",
       "      <td>...</td>\n",
       "      <td>0.039393</td>\n",
       "      <td>0.201784</td>\n",
       "      <td>-0.425583</td>\n",
       "      <td>0.489790</td>\n",
       "      <td>-0.274104</td>\n",
       "      <td>-1.856287</td>\n",
       "      <td>0.109750</td>\n",
       "      <td>-0.231100</td>\n",
       "      <td>0.031653</td>\n",
       "      <td>-0.260594</td>\n",
       "    </tr>\n",
       "    <tr>\n",
       "      <th>118715</th>\n",
       "      <td>27.097305</td>\n",
       "      <td>-9.668266</td>\n",
       "      <td>-4.641154</td>\n",
       "      <td>-2.699650</td>\n",
       "      <td>5.027355</td>\n",
       "      <td>6.497558</td>\n",
       "      <td>-2.757835</td>\n",
       "      <td>-0.893013</td>\n",
       "      <td>-3.081686</td>\n",
       "      <td>2.475940</td>\n",
       "      <td>...</td>\n",
       "      <td>-1.619862</td>\n",
       "      <td>0.038590</td>\n",
       "      <td>-0.175455</td>\n",
       "      <td>1.066021</td>\n",
       "      <td>-1.134683</td>\n",
       "      <td>-0.434362</td>\n",
       "      <td>-0.189990</td>\n",
       "      <td>1.106112</td>\n",
       "      <td>1.292272</td>\n",
       "      <td>-1.444540</td>\n",
       "    </tr>\n",
       "    <tr>\n",
       "      <th>...</th>\n",
       "      <td>...</td>\n",
       "      <td>...</td>\n",
       "      <td>...</td>\n",
       "      <td>...</td>\n",
       "      <td>...</td>\n",
       "      <td>...</td>\n",
       "      <td>...</td>\n",
       "      <td>...</td>\n",
       "      <td>...</td>\n",
       "      <td>...</td>\n",
       "      <td>...</td>\n",
       "      <td>...</td>\n",
       "      <td>...</td>\n",
       "      <td>...</td>\n",
       "      <td>...</td>\n",
       "      <td>...</td>\n",
       "      <td>...</td>\n",
       "      <td>...</td>\n",
       "      <td>...</td>\n",
       "      <td>...</td>\n",
       "      <td>...</td>\n",
       "    </tr>\n",
       "    <tr>\n",
       "      <th>114924</th>\n",
       "      <td>45.063536</td>\n",
       "      <td>23.098991</td>\n",
       "      <td>2.834224</td>\n",
       "      <td>1.192289</td>\n",
       "      <td>-2.529017</td>\n",
       "      <td>-3.281950</td>\n",
       "      <td>-1.544513</td>\n",
       "      <td>-3.390120</td>\n",
       "      <td>3.584551</td>\n",
       "      <td>1.434288</td>\n",
       "      <td>...</td>\n",
       "      <td>-0.855929</td>\n",
       "      <td>-1.034802</td>\n",
       "      <td>0.395577</td>\n",
       "      <td>-0.520940</td>\n",
       "      <td>0.870592</td>\n",
       "      <td>-1.596127</td>\n",
       "      <td>1.421005</td>\n",
       "      <td>-0.724660</td>\n",
       "      <td>0.313077</td>\n",
       "      <td>2.210009</td>\n",
       "    </tr>\n",
       "    <tr>\n",
       "      <th>3011894</th>\n",
       "      <td>10.034044</td>\n",
       "      <td>-6.384190</td>\n",
       "      <td>-1.138780</td>\n",
       "      <td>-3.469431</td>\n",
       "      <td>-2.858142</td>\n",
       "      <td>8.177962</td>\n",
       "      <td>0.661960</td>\n",
       "      <td>-0.931131</td>\n",
       "      <td>-0.350769</td>\n",
       "      <td>3.846929</td>\n",
       "      <td>...</td>\n",
       "      <td>0.203438</td>\n",
       "      <td>1.390237</td>\n",
       "      <td>-0.081966</td>\n",
       "      <td>0.276076</td>\n",
       "      <td>0.313298</td>\n",
       "      <td>-0.494545</td>\n",
       "      <td>0.770426</td>\n",
       "      <td>-0.269140</td>\n",
       "      <td>0.493665</td>\n",
       "      <td>0.157252</td>\n",
       "    </tr>\n",
       "    <tr>\n",
       "      <th>5362988</th>\n",
       "      <td>75.065500</td>\n",
       "      <td>-1.229451</td>\n",
       "      <td>4.669824</td>\n",
       "      <td>-7.373590</td>\n",
       "      <td>-8.386732</td>\n",
       "      <td>-4.609324</td>\n",
       "      <td>5.958046</td>\n",
       "      <td>9.698019</td>\n",
       "      <td>-6.497770</td>\n",
       "      <td>-3.734254</td>\n",
       "      <td>...</td>\n",
       "      <td>0.553072</td>\n",
       "      <td>-2.342796</td>\n",
       "      <td>-0.776431</td>\n",
       "      <td>-0.410988</td>\n",
       "      <td>-1.077181</td>\n",
       "      <td>-0.292442</td>\n",
       "      <td>-2.778549</td>\n",
       "      <td>-0.390906</td>\n",
       "      <td>0.740289</td>\n",
       "      <td>-0.354314</td>\n",
       "    </tr>\n",
       "    <tr>\n",
       "      <th>120901</th>\n",
       "      <td>2.466318</td>\n",
       "      <td>-2.073833</td>\n",
       "      <td>-1.768928</td>\n",
       "      <td>-0.508835</td>\n",
       "      <td>-0.305799</td>\n",
       "      <td>1.001106</td>\n",
       "      <td>0.729119</td>\n",
       "      <td>1.350233</td>\n",
       "      <td>0.349469</td>\n",
       "      <td>-0.497461</td>\n",
       "      <td>...</td>\n",
       "      <td>-0.225540</td>\n",
       "      <td>0.467877</td>\n",
       "      <td>-0.111962</td>\n",
       "      <td>0.097398</td>\n",
       "      <td>0.113533</td>\n",
       "      <td>-0.204939</td>\n",
       "      <td>0.225220</td>\n",
       "      <td>-0.206277</td>\n",
       "      <td>0.180829</td>\n",
       "      <td>-0.070288</td>\n",
       "    </tr>\n",
       "    <tr>\n",
       "      <th>5742374</th>\n",
       "      <td>15.659218</td>\n",
       "      <td>-11.143691</td>\n",
       "      <td>-1.396253</td>\n",
       "      <td>-4.850082</td>\n",
       "      <td>-2.648987</td>\n",
       "      <td>0.554562</td>\n",
       "      <td>3.810384</td>\n",
       "      <td>1.991878</td>\n",
       "      <td>-3.634240</td>\n",
       "      <td>-4.159121</td>\n",
       "      <td>...</td>\n",
       "      <td>-0.081886</td>\n",
       "      <td>-0.053201</td>\n",
       "      <td>-0.362564</td>\n",
       "      <td>-0.356531</td>\n",
       "      <td>0.534734</td>\n",
       "      <td>-0.377265</td>\n",
       "      <td>0.523592</td>\n",
       "      <td>0.237646</td>\n",
       "      <td>0.438920</td>\n",
       "      <td>0.130573</td>\n",
       "    </tr>\n",
       "  </tbody>\n",
       "</table>\n",
       "<p>2858 rows × 200 columns</p>\n",
       "</div>"
      ],
      "text/plain": [
       "               0          1         2         3         4         5    \\\n",
       "120770    1.502832  -0.803807 -2.006379 -0.793780 -0.829672  0.728085   \n",
       "132512    1.271576  -0.528864 -2.081561 -0.756035 -0.765354  0.251869   \n",
       "118661    6.607973  -1.739845  0.476277  1.615551  2.167067  3.640551   \n",
       "215545   58.035444  50.585552  5.012842  2.557669 -2.838908  2.143097   \n",
       "118715   27.097305  -9.668266 -4.641154 -2.699650  5.027355  6.497558   \n",
       "...            ...        ...       ...       ...       ...       ...   \n",
       "114924   45.063536  23.098991  2.834224  1.192289 -2.529017 -3.281950   \n",
       "3011894  10.034044  -6.384190 -1.138780 -3.469431 -2.858142  8.177962   \n",
       "5362988  75.065500  -1.229451  4.669824 -7.373590 -8.386732 -4.609324   \n",
       "120901    2.466318  -2.073833 -1.768928 -0.508835 -0.305799  1.001106   \n",
       "5742374  15.659218 -11.143691 -1.396253 -4.850082 -2.648987  0.554562   \n",
       "\n",
       "              6         7         8         9    ...       190       191  \\\n",
       "120770  -0.366592 -0.675100  0.999133  0.615034  ... -0.116435  0.070939   \n",
       "132512  -0.732929 -0.698070  1.380662 -0.888438  ...  0.006325  0.068170   \n",
       "118661   0.082123  1.565535  1.681950  1.472499  ...  0.617191 -0.204863   \n",
       "215545  -4.067179  3.284438 -0.802079 -4.157638  ...  0.039393  0.201784   \n",
       "118715  -2.757835 -0.893013 -3.081686  2.475940  ... -1.619862  0.038590   \n",
       "...           ...       ...       ...       ...  ...       ...       ...   \n",
       "114924  -1.544513 -3.390120  3.584551  1.434288  ... -0.855929 -1.034802   \n",
       "3011894  0.661960 -0.931131 -0.350769  3.846929  ...  0.203438  1.390237   \n",
       "5362988  5.958046  9.698019 -6.497770 -3.734254  ...  0.553072 -2.342796   \n",
       "120901   0.729119  1.350233  0.349469 -0.497461  ... -0.225540  0.467877   \n",
       "5742374  3.810384  1.991878 -3.634240 -4.159121  ... -0.081886 -0.053201   \n",
       "\n",
       "              192       193       194       195       196       197       198  \\\n",
       "120770   0.034918  0.049135  0.712998 -0.117494 -0.091747 -0.299599  0.309229   \n",
       "132512   0.041898  0.255544  0.213818 -0.123327 -0.097361 -0.203210  0.018764   \n",
       "118661   0.179313  0.529492  0.377695 -0.518493  0.290419 -0.352923  1.042090   \n",
       "215545  -0.425583  0.489790 -0.274104 -1.856287  0.109750 -0.231100  0.031653   \n",
       "118715  -0.175455  1.066021 -1.134683 -0.434362 -0.189990  1.106112  1.292272   \n",
       "...           ...       ...       ...       ...       ...       ...       ...   \n",
       "114924   0.395577 -0.520940  0.870592 -1.596127  1.421005 -0.724660  0.313077   \n",
       "3011894 -0.081966  0.276076  0.313298 -0.494545  0.770426 -0.269140  0.493665   \n",
       "5362988 -0.776431 -0.410988 -1.077181 -0.292442 -2.778549 -0.390906  0.740289   \n",
       "120901  -0.111962  0.097398  0.113533 -0.204939  0.225220 -0.206277  0.180829   \n",
       "5742374 -0.362564 -0.356531  0.534734 -0.377265  0.523592  0.237646  0.438920   \n",
       "\n",
       "              199  \n",
       "120770  -0.250625  \n",
       "132512  -0.184906  \n",
       "118661   0.862013  \n",
       "215545  -0.260594  \n",
       "118715  -1.444540  \n",
       "...           ...  \n",
       "114924   2.210009  \n",
       "3011894  0.157252  \n",
       "5362988 -0.354314  \n",
       "120901  -0.070288  \n",
       "5742374  0.130573  \n",
       "\n",
       "[2858 rows x 200 columns]"
      ]
     },
     "execution_count": 74,
     "metadata": {},
     "output_type": "execute_result"
    }
   ],
   "source": [
    "df_reco_2 = pd.DataFrame(df_reco_2, index=movie_meta.imdbid.tolist())\n",
    "df_reco_2"
   ]
  },
  {
   "cell_type": "code",
   "execution_count": 63,
   "id": "fa79ad90",
   "metadata": {},
   "outputs": [],
   "source": [
    "with open(IDS_PICKLE_FILE, 'rb') as handle:\n",
    "    ids = pickle.load(handle)"
   ]
  },
  {
   "cell_type": "code",
   "execution_count": 75,
   "id": "22c95634",
   "metadata": {},
   "outputs": [],
   "source": [
    "for key, value in ids.items():\n",
    "    if key in df_reco_2.index:\n",
    "        df_reco_2.loc[key,'movie_name'] = value"
   ]
  },
  {
   "cell_type": "code",
   "execution_count": 95,
   "id": "66e17271",
   "metadata": {},
   "outputs": [
    {
     "data": {
      "text/html": [
       "<div>\n",
       "<style scoped>\n",
       "    .dataframe tbody tr th:only-of-type {\n",
       "        vertical-align: middle;\n",
       "    }\n",
       "\n",
       "    .dataframe tbody tr th {\n",
       "        vertical-align: top;\n",
       "    }\n",
       "\n",
       "    .dataframe thead th {\n",
       "        text-align: right;\n",
       "    }\n",
       "</style>\n",
       "<table border=\"1\" class=\"dataframe\">\n",
       "  <thead>\n",
       "    <tr style=\"text-align: right;\">\n",
       "      <th></th>\n",
       "      <th>0</th>\n",
       "      <th>1</th>\n",
       "      <th>2</th>\n",
       "      <th>3</th>\n",
       "      <th>4</th>\n",
       "      <th>5</th>\n",
       "      <th>6</th>\n",
       "      <th>7</th>\n",
       "      <th>8</th>\n",
       "      <th>9</th>\n",
       "      <th>...</th>\n",
       "      <th>190</th>\n",
       "      <th>191</th>\n",
       "      <th>192</th>\n",
       "      <th>193</th>\n",
       "      <th>194</th>\n",
       "      <th>195</th>\n",
       "      <th>196</th>\n",
       "      <th>197</th>\n",
       "      <th>198</th>\n",
       "      <th>199</th>\n",
       "    </tr>\n",
       "    <tr>\n",
       "      <th>movie_name</th>\n",
       "      <th></th>\n",
       "      <th></th>\n",
       "      <th></th>\n",
       "      <th></th>\n",
       "      <th></th>\n",
       "      <th></th>\n",
       "      <th></th>\n",
       "      <th></th>\n",
       "      <th></th>\n",
       "      <th></th>\n",
       "      <th></th>\n",
       "      <th></th>\n",
       "      <th></th>\n",
       "      <th></th>\n",
       "      <th></th>\n",
       "      <th></th>\n",
       "      <th></th>\n",
       "      <th></th>\n",
       "      <th></th>\n",
       "      <th></th>\n",
       "      <th></th>\n",
       "    </tr>\n",
       "  </thead>\n",
       "  <tbody>\n",
       "    <tr>\n",
       "      <th>The Lion King</th>\n",
       "      <td>10.339495</td>\n",
       "      <td>-8.752187</td>\n",
       "      <td>-7.799420</td>\n",
       "      <td>7.084548</td>\n",
       "      <td>-5.659150</td>\n",
       "      <td>-1.859438</td>\n",
       "      <td>-1.728262</td>\n",
       "      <td>-0.661138</td>\n",
       "      <td>-0.297199</td>\n",
       "      <td>1.975267</td>\n",
       "      <td>...</td>\n",
       "      <td>-1.10431</td>\n",
       "      <td>0.990206</td>\n",
       "      <td>0.378822</td>\n",
       "      <td>0.058143</td>\n",
       "      <td>-0.012385</td>\n",
       "      <td>0.595688</td>\n",
       "      <td>0.190411</td>\n",
       "      <td>0.421468</td>\n",
       "      <td>0.067623</td>\n",
       "      <td>-0.581353</td>\n",
       "    </tr>\n",
       "    <tr>\n",
       "      <th>The Lion King</th>\n",
       "      <td>14.970886</td>\n",
       "      <td>-7.173641</td>\n",
       "      <td>-4.973487</td>\n",
       "      <td>7.536346</td>\n",
       "      <td>-8.495201</td>\n",
       "      <td>-2.447640</td>\n",
       "      <td>0.574235</td>\n",
       "      <td>0.078032</td>\n",
       "      <td>-0.633271</td>\n",
       "      <td>0.199528</td>\n",
       "      <td>...</td>\n",
       "      <td>0.05072</td>\n",
       "      <td>0.731469</td>\n",
       "      <td>0.206877</td>\n",
       "      <td>-0.658148</td>\n",
       "      <td>0.110615</td>\n",
       "      <td>1.707559</td>\n",
       "      <td>-0.033252</td>\n",
       "      <td>0.952707</td>\n",
       "      <td>0.145434</td>\n",
       "      <td>-0.772461</td>\n",
       "    </tr>\n",
       "  </tbody>\n",
       "</table>\n",
       "<p>2 rows × 200 columns</p>\n",
       "</div>"
      ],
      "text/plain": [
       "                     0         1         2         3         4         5    \\\n",
       "movie_name                                                                   \n",
       "The Lion King  10.339495 -8.752187 -7.799420  7.084548 -5.659150 -1.859438   \n",
       "The Lion King  14.970886 -7.173641 -4.973487  7.536346 -8.495201 -2.447640   \n",
       "\n",
       "                    6         7         8         9    ...      190       191  \\\n",
       "movie_name                                             ...                      \n",
       "The Lion King -1.728262 -0.661138 -0.297199  1.975267  ... -1.10431  0.990206   \n",
       "The Lion King  0.574235  0.078032 -0.633271  0.199528  ...  0.05072  0.731469   \n",
       "\n",
       "                    192       193       194       195       196       197  \\\n",
       "movie_name                                                                  \n",
       "The Lion King  0.378822  0.058143 -0.012385  0.595688  0.190411  0.421468   \n",
       "The Lion King  0.206877 -0.658148  0.110615  1.707559 -0.033252  0.952707   \n",
       "\n",
       "                    198       199  \n",
       "movie_name                         \n",
       "The Lion King  0.067623 -0.581353  \n",
       "The Lion King  0.145434 -0.772461  \n",
       "\n",
       "[2 rows x 200 columns]"
      ]
     },
     "execution_count": 95,
     "metadata": {},
     "output_type": "execute_result"
    }
   ],
   "source": [
    "df_reco_2.loc['The Lion King']"
   ]
  },
  {
   "cell_type": "code",
   "execution_count": 77,
   "id": "32265937",
   "metadata": {},
   "outputs": [],
   "source": [
    "df_reco_2.set_index('movie_name', inplace=True)"
   ]
  },
  {
   "cell_type": "markdown",
   "id": "e958122a",
   "metadata": {},
   "source": [
    "### Find similar movies based on arcs and meta"
   ]
  },
  {
   "cell_type": "markdown",
   "id": "195295a7",
   "metadata": {},
   "source": [
    "Compute similarities for a movie"
   ]
  },
  {
   "cell_type": "code",
   "execution_count": 97,
   "id": "84ca83f8",
   "metadata": {},
   "outputs": [],
   "source": [
    "movie_ex1 = np.array(df_reco_1.loc['Harry Potter and the Sorcerer s Stone']).reshape(1, -1)\n",
    "movie_ex2 = np.array(df_reco_2.loc['Harry Potter and the Sorcerer s Stone']).reshape(1, -1)\n",
    "\n",
    "similarity_score1 = cosine_similarity(df_reco_1, movie_ex1)\n",
    "similarity_score2 = cosine_similarity(df_reco_2, movie_ex2)"
   ]
  },
  {
   "cell_type": "markdown",
   "id": "51d822d5",
   "metadata": {},
   "source": [
    "Regroup in a DataFrame"
   ]
  },
  {
   "cell_type": "code",
   "execution_count": 98,
   "id": "119ae829",
   "metadata": {},
   "outputs": [],
   "source": [
    "scores_df1 = pd.DataFrame(similarity_score1, index = df_reco_1.index)\n",
    "scores_df1.sort_values(0, ascending=False, inplace=True)\n",
    "scores_df1.columns = ['arcs']\n",
    "\n",
    "scores_df2 = pd.DataFrame(similarity_score2, index = df_reco_2.index)\n",
    "scores_df2.sort_values(0, ascending=False, inplace=True)\n",
    "scores_df2.columns = ['meta']"
   ]
  },
  {
   "cell_type": "code",
   "execution_count": 99,
   "id": "27336de1",
   "metadata": {},
   "outputs": [],
   "source": [
    "scores_df = pd.merge(scores_df1, scores_df2, left_index=True, right_index=True)"
   ]
  },
  {
   "cell_type": "markdown",
   "id": "b1bdd7d5",
   "metadata": {},
   "source": [
    "Compute a global score and select movies"
   ]
  },
  {
   "cell_type": "code",
   "execution_count": 100,
   "id": "358fe7c6",
   "metadata": {},
   "outputs": [
    {
     "data": {
      "text/html": [
       "<div>\n",
       "<style scoped>\n",
       "    .dataframe tbody tr th:only-of-type {\n",
       "        vertical-align: middle;\n",
       "    }\n",
       "\n",
       "    .dataframe tbody tr th {\n",
       "        vertical-align: top;\n",
       "    }\n",
       "\n",
       "    .dataframe thead th {\n",
       "        text-align: right;\n",
       "    }\n",
       "</style>\n",
       "<table border=\"1\" class=\"dataframe\">\n",
       "  <thead>\n",
       "    <tr style=\"text-align: right;\">\n",
       "      <th></th>\n",
       "      <th>arcs</th>\n",
       "      <th>meta</th>\n",
       "      <th>total</th>\n",
       "    </tr>\n",
       "    <tr>\n",
       "      <th>movie_name</th>\n",
       "      <th></th>\n",
       "      <th></th>\n",
       "      <th></th>\n",
       "    </tr>\n",
       "  </thead>\n",
       "  <tbody>\n",
       "    <tr>\n",
       "      <th>Harry Potter and the Prisoner of Azkaban</th>\n",
       "      <td>0.376948</td>\n",
       "      <td>0.878330</td>\n",
       "      <td>0.627639</td>\n",
       "    </tr>\n",
       "    <tr>\n",
       "      <th>Shrek the Third</th>\n",
       "      <td>0.485635</td>\n",
       "      <td>0.765667</td>\n",
       "      <td>0.625651</td>\n",
       "    </tr>\n",
       "    <tr>\n",
       "      <th>Popeye</th>\n",
       "      <td>0.569625</td>\n",
       "      <td>0.537382</td>\n",
       "      <td>0.553503</td>\n",
       "    </tr>\n",
       "    <tr>\n",
       "      <th>The World Is Not Enough</th>\n",
       "      <td>0.638166</td>\n",
       "      <td>0.449353</td>\n",
       "      <td>0.543759</td>\n",
       "    </tr>\n",
       "    <tr>\n",
       "      <th>Night at the Museum Battle of the Smithsonian</th>\n",
       "      <td>0.457806</td>\n",
       "      <td>0.622677</td>\n",
       "      <td>0.540241</td>\n",
       "    </tr>\n",
       "  </tbody>\n",
       "</table>\n",
       "</div>"
      ],
      "text/plain": [
       "                                                   arcs      meta     total\n",
       "movie_name                                                                 \n",
       "Harry Potter and the Prisoner of Azkaban       0.376948  0.878330  0.627639\n",
       "Shrek the Third                                0.485635  0.765667  0.625651\n",
       "Popeye                                         0.569625  0.537382  0.553503\n",
       "The World Is Not Enough                        0.638166  0.449353  0.543759\n",
       "Night at the Museum Battle of the Smithsonian  0.457806  0.622677  0.540241"
      ]
     },
     "execution_count": 100,
     "metadata": {},
     "output_type": "execute_result"
    }
   ],
   "source": [
    "scores_df['total'] = (scores_df['arcs'] + scores_df['meta']) / 2.0\n",
    "\n",
    "scores_df.sort_values(by=['total'], ascending=False, inplace=True)\n",
    "\n",
    "scores_df.drop(['Harry Potter and the Sorcerer s Stone'], inplace=True)\n",
    "\n",
    "scores_df.head(5)"
   ]
  },
  {
   "cell_type": "code",
   "execution_count": 91,
   "id": "0c7fa288",
   "metadata": {},
   "outputs": [
    {
     "data": {
      "text/plain": [
       "<matplotlib.legend.Legend at 0x1294449d0>"
      ]
     },
     "execution_count": 91,
     "metadata": {},
     "output_type": "execute_result"
    },
    {
     "data": {
      "image/png": "[encoded data removed]",
      "text/plain": [
       "<Figure size 1000x600 with 1 Axes>"
      ]
     },
     "metadata": {},
     "output_type": "display_data"
    }
   ],
   "source": [
    "plt.figure(figsize=(10,6))\n",
    "for row in scores_df.iloc[0:5].iterrows():\n",
    "    id = row[0]\n",
    "    score = round(row[1][0],2)\n",
    "    plt.plot(df_reco_1.loc[id], color='gainsboro', label=f\"{id} - {score}\")\n",
    "\n",
    "plt.plot(df_reco_1.loc['Finding Nemo'], label='Finding Nemo')\n",
    "plt.legend()"
   ]
  },
  {
   "cell_type": "markdown",
   "id": "a9e7585e",
   "metadata": {},
   "source": [
    "### Test the function"
   ]
  },
  {
   "cell_type": "code",
   "execution_count": 25,
   "id": "555ac818",
   "metadata": {},
   "outputs": [
    {
     "name": "stdout",
     "output_type": "stream",
     "text": [
      "The autoreload extension is already loaded. To reload it, use:\n",
      "  %reload_ext autoreload\n"
     ]
    }
   ],
   "source": [
    "%load_ext autoreload\n",
    "%autoreload 2\n",
    "\n",
    "from movie_sentiment.ml_logic.recommendation import get_movies_recommendation"
   ]
  },
  {
   "cell_type": "code",
   "execution_count": 102,
   "id": "db327d3c",
   "metadata": {},
   "outputs": [
    {
     "name": "stdout",
     "output_type": "stream",
     "text": [
      "Loading data from pickle file\n",
      "Loading metadata from pickle file\n"
     ]
    },
    {
     "data": {
      "text/plain": [
       "{'movie_names': ['Coco',\n",
       "  'How to Train Your Dragon',\n",
       "  'To Kill a Mockingbird',\n",
       "  'Jojo Rabbit',\n",
       "  'Beauty and the Beast'],\n",
       " 'movie_scores': [0.73, 0.71, 0.7, 0.7, 0.7]}"
      ]
     },
     "execution_count": 102,
     "metadata": {},
     "output_type": "execute_result"
    }
   ],
   "source": [
    "get_movies_recommendation('Up', n=5)"
   ]
  },
  {
   "cell_type": "markdown",
   "id": "f36eb45d",
   "metadata": {
    "heading_collapsed": true
   },
   "source": [
    "### Polynomials"
   ]
  },
  {
   "cell_type": "code",
   "execution_count": 27,
   "id": "c28a0174",
   "metadata": {
    "hidden": true
   },
   "outputs": [],
   "source": [
    "from movie_sentiment.processing.arcs import get_all_polynomials"
   ]
  },
  {
   "cell_type": "code",
   "execution_count": 28,
   "id": "9d5ade44",
   "metadata": {
    "hidden": true
   },
   "outputs": [
    {
     "name": "stdout",
     "output_type": "stream",
     "text": [
      "Loading data from pickle file\n"
     ]
    }
   ],
   "source": [
    "arcs = get_all_polynomials()"
   ]
  },
  {
   "cell_type": "code",
   "execution_count": 29,
   "id": "896c9971",
   "metadata": {
    "hidden": true
   },
   "outputs": [],
   "source": [
    "df_poly = arcs.set_index('movie_name')"
   ]
  },
  {
   "cell_type": "code",
   "execution_count": 30,
   "id": "c502e937",
   "metadata": {
    "hidden": true
   },
   "outputs": [],
   "source": [
    "movie_ex = np.array(df_poly.loc['Up']).reshape(1, -1)\n",
    "similarity_score = cosine_similarity(df_poly, movie_ex)"
   ]
  },
  {
   "cell_type": "code",
   "execution_count": 31,
   "id": "35c39466",
   "metadata": {
    "hidden": true
   },
   "outputs": [
    {
     "data": {
      "text/html": [
       "<div>\n",
       "<style scoped>\n",
       "    .dataframe tbody tr th:only-of-type {\n",
       "        vertical-align: middle;\n",
       "    }\n",
       "\n",
       "    .dataframe tbody tr th {\n",
       "        vertical-align: top;\n",
       "    }\n",
       "\n",
       "    .dataframe thead th {\n",
       "        text-align: right;\n",
       "    }\n",
       "</style>\n",
       "<table border=\"1\" class=\"dataframe\">\n",
       "  <thead>\n",
       "    <tr style=\"text-align: right;\">\n",
       "      <th></th>\n",
       "      <th>0</th>\n",
       "    </tr>\n",
       "    <tr>\n",
       "      <th>movie_name</th>\n",
       "      <th></th>\n",
       "    </tr>\n",
       "  </thead>\n",
       "  <tbody>\n",
       "    <tr>\n",
       "      <th>Up</th>\n",
       "      <td>1.0</td>\n",
       "    </tr>\n",
       "    <tr>\n",
       "      <th>The Great Outdoors</th>\n",
       "      <td>1.0</td>\n",
       "    </tr>\n",
       "    <tr>\n",
       "      <th>The Insider</th>\n",
       "      <td>1.0</td>\n",
       "    </tr>\n",
       "    <tr>\n",
       "      <th>Star Trek III The Search for Spock</th>\n",
       "      <td>1.0</td>\n",
       "    </tr>\n",
       "    <tr>\n",
       "      <th>A Few Good Men</th>\n",
       "      <td>1.0</td>\n",
       "    </tr>\n",
       "    <tr>\n",
       "      <th>The Rage Carrie 2</th>\n",
       "      <td>1.0</td>\n",
       "    </tr>\n",
       "  </tbody>\n",
       "</table>\n",
       "</div>"
      ],
      "text/plain": [
       "                                      0\n",
       "movie_name                             \n",
       "Up                                  1.0\n",
       "The Great Outdoors                  1.0\n",
       "The Insider                         1.0\n",
       "Star Trek III The Search for Spock  1.0\n",
       "A Few Good Men                      1.0\n",
       "The Rage Carrie 2                   1.0"
      ]
     },
     "execution_count": 31,
     "metadata": {},
     "output_type": "execute_result"
    }
   ],
   "source": [
    "recommendation_df = pd.DataFrame(similarity_score, index = df_poly.index)\n",
    "recommendation_df.sort_values(0, ascending=False, inplace=True)\n",
    "recommendation_df.head(6)"
   ]
  },
  {
   "cell_type": "markdown",
   "id": "6e0ae94f",
   "metadata": {
    "hidden": true
   },
   "source": [
    "Plotting polynomials"
   ]
  },
  {
   "cell_type": "code",
   "execution_count": 32,
   "id": "d912229f",
   "metadata": {
    "hidden": true
   },
   "outputs": [
    {
     "name": "stdout",
     "output_type": "stream",
     "text": [
      "0     0.000000e+00\n",
      "1     0.000000e+00\n",
      "2     0.000000e+00\n",
      "3     0.000000e+00\n",
      "4     0.000000e+00\n",
      "5     0.000000e+00\n",
      "6     3.278383e-09\n",
      "7    -1.626563e-06\n",
      "8     2.526939e-04\n",
      "9    -1.316647e-02\n",
      "10    3.241072e-01\n",
      "Name: Up, dtype: float64\n"
     ]
    },
    {
     "ename": "NameError",
     "evalue": "name 'x_fit' is not defined",
     "output_type": "error",
     "traceback": [
      "\u001b[0;31m---------------------------------------------------------------------------\u001b[0m",
      "\u001b[0;31mNameError\u001b[0m                                 Traceback (most recent call last)",
      "Cell \u001b[0;32mIn[32], line 10\u001b[0m\n\u001b[1;32m      8\u001b[0m     \u001b[38;5;28;01mif\u001b[39;00m \u001b[38;5;28mid\u001b[39m \u001b[38;5;241m!=\u001b[39m\u001b[38;5;241m0\u001b[39m:\n\u001b[1;32m      9\u001b[0m         \u001b[38;5;28mprint\u001b[39m(df_poly\u001b[38;5;241m.\u001b[39mloc[\u001b[38;5;28mid\u001b[39m])\n\u001b[0;32m---> 10\u001b[0m         y_fit \u001b[38;5;241m=\u001b[39m np\u001b[38;5;241m.\u001b[39mpolyval(df_poly\u001b[38;5;241m.\u001b[39mloc[\u001b[38;5;28mid\u001b[39m], \u001b[43mx_fit\u001b[49m)\n\u001b[1;32m     11\u001b[0m         plt\u001b[38;5;241m.\u001b[39mplot(x_fit, y_fit, color\u001b[38;5;241m=\u001b[39m\u001b[38;5;124m'\u001b[39m\u001b[38;5;124mgainsboro\u001b[39m\u001b[38;5;124m'\u001b[39m)\n\u001b[1;32m     13\u001b[0m plt\u001b[38;5;241m.\u001b[39mplot(df_reco_1\u001b[38;5;241m.\u001b[39mloc[\u001b[38;5;28mid\u001b[39m])\n",
      "\u001b[0;31mNameError\u001b[0m: name 'x_fit' is not defined"
     ]
    }
   ],
   "source": [
    "# x_fit = np.arange(30)\n",
    "# y_fit = np.polyval(coefficients, x_fit)\n",
    "# plt.plot(x_fit, y_fit, 'r')\n",
    "\n",
    "\n",
    "for row in recommendation_df.head(10).iterrows():\n",
    "    id = row[0]\n",
    "    if id !=0:\n",
    "        print(df_poly.loc[id])\n",
    "        y_fit = np.polyval(df_poly.loc[id], x_fit)\n",
    "        plt.plot(x_fit, y_fit, color='gainsboro')\n",
    "        \n",
    "plt.plot(df_reco_1.loc[id])"
   ]
  },
  {
   "cell_type": "markdown",
   "id": "5e1cb10d",
   "metadata": {
    "hidden": true
   },
   "source": [
    "Plotting curves"
   ]
  },
  {
   "cell_type": "code",
   "execution_count": null,
   "id": "55376e4b",
   "metadata": {
    "hidden": true
   },
   "outputs": [],
   "source": [
    "for row in recommendation_df.head(10).iterrows():\n",
    "    id = row[0]\n",
    "    if id !=0:\n",
    "        plt.plot(df_reco_1.loc[id], color='gainsboro')\n",
    "        \n",
    "plt.plot(df_reco_1.loc[id])"
   ]
  },
  {
   "cell_type": "code",
   "execution_count": null,
   "id": "b0d7b4d1",
   "metadata": {
    "hidden": true
   },
   "outputs": [],
   "source": []
  }
 ],
 "metadata": {
  "kernelspec": {
   "display_name": "Python 3 (ipykernel)",
   "language": "python",
   "name": "python3"
  },
  "language_info": {
   "codemirror_mode": {
    "name": "ipython",
    "version": 3
   },
   "file_extension": ".py",
   "mimetype": "text/x-python",
   "name": "python",
   "nbconvert_exporter": "python",
   "pygments_lexer": "ipython3",
   "version": "3.10.6"
  },
  "toc": {
   "base_numbering": 1,
   "nav_menu": {},
   "number_sections": true,
   "sideBar": true,
   "skip_h1_title": false,
   "title_cell": "Table of Contents",
   "title_sidebar": "Contents",
   "toc_cell": false,
   "toc_position": {},
   "toc_section_display": true,
   "toc_window_display": false
  }
 },
 "nbformat": 4,
 "nbformat_minor": 5
}
