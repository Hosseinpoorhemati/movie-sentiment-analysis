{
 "cells": [
  {
   "cell_type": "code",
   "execution_count": 1,
   "id": "395eb8fb",
   "metadata": {},
   "outputs": [],
   "source": [
    "%load_ext autoreload\n",
    "%autoreload 2\n",
    "\n",
    "import pandas as pd\n",
    "import numpy as np\n",
    "import seaborn as sns\n",
    "import matplotlib.pyplot as plt\n",
    "\n",
    "from sklearn.preprocessing import StandardScaler\n",
    "from sklearn.metrics.pairwise import cosine_similarity\n",
    "from sklearn.feature_extraction.text import CountVectorizer\n",
    "from sklearn.decomposition import TruncatedSVD\n",
    "\n",
    "from movie_sentiment.processing.arcs import get_all_reshaped_arcs\n",
    "from movie_sentiment.params import *"
   ]
  },
  {
   "cell_type": "markdown",
   "id": "96b95b2f",
   "metadata": {},
   "source": [
    "### Standardize arcs and preparing df"
   ]
  },
  {
   "cell_type": "code",
   "execution_count": 35,
   "id": "b007bdce",
   "metadata": {},
   "outputs": [
    {
     "name": "stdout",
     "output_type": "stream",
     "text": [
      "Loading data from pickle file\n"
     ]
    }
   ],
   "source": [
    "arcs = get_all_reshaped_arcs(dyn_avg=True)"
   ]
  },
  {
   "cell_type": "markdown",
   "id": "bcf6e6c7",
   "metadata": {},
   "source": [
    "2 following cells are optional (for standardization of the data)"
   ]
  },
  {
   "cell_type": "code",
   "execution_count": 36,
   "id": "74f23ce1",
   "metadata": {},
   "outputs": [],
   "source": [
    "X = arcs.drop(columns='movie_name')\n",
    "\n",
    "s_scaler = StandardScaler()\n",
    "s_scaler.fit(X.T)\n",
    "scaled = s_scaler.transform(X.T)\n",
    "X_scaled = pd.DataFrame(scaled.T, columns=X.columns)"
   ]
  },
  {
   "cell_type": "code",
   "execution_count": 37,
   "id": "c6172e2f",
   "metadata": {
    "scrolled": true
   },
   "outputs": [],
   "source": [
    "columns_ids = [i for i in range(30)]\n",
    "\n",
    "for i in columns_ids:\n",
    "    arcs[i] = X_scaled[i]"
   ]
  },
  {
   "cell_type": "code",
   "execution_count": 38,
   "id": "c438793a",
   "metadata": {},
   "outputs": [],
   "source": [
    "df_reco_1 = arcs.set_index('movie_name')"
   ]
  },
  {
   "cell_type": "code",
   "execution_count": 39,
   "id": "84d44456",
   "metadata": {},
   "outputs": [
    {
     "data": {
      "text/html": [
       "<div>\n",
       "<style scoped>\n",
       "    .dataframe tbody tr th:only-of-type {\n",
       "        vertical-align: middle;\n",
       "    }\n",
       "\n",
       "    .dataframe tbody tr th {\n",
       "        vertical-align: top;\n",
       "    }\n",
       "\n",
       "    .dataframe thead th {\n",
       "        text-align: right;\n",
       "    }\n",
       "</style>\n",
       "<table border=\"1\" class=\"dataframe\">\n",
       "  <thead>\n",
       "    <tr style=\"text-align: right;\">\n",
       "      <th></th>\n",
       "      <th>0</th>\n",
       "      <th>1</th>\n",
       "      <th>2</th>\n",
       "      <th>3</th>\n",
       "      <th>4</th>\n",
       "      <th>5</th>\n",
       "      <th>6</th>\n",
       "      <th>7</th>\n",
       "      <th>8</th>\n",
       "      <th>9</th>\n",
       "      <th>...</th>\n",
       "      <th>20</th>\n",
       "      <th>21</th>\n",
       "      <th>22</th>\n",
       "      <th>23</th>\n",
       "      <th>24</th>\n",
       "      <th>25</th>\n",
       "      <th>26</th>\n",
       "      <th>27</th>\n",
       "      <th>28</th>\n",
       "      <th>29</th>\n",
       "    </tr>\n",
       "    <tr>\n",
       "      <th>movie_name</th>\n",
       "      <th></th>\n",
       "      <th></th>\n",
       "      <th></th>\n",
       "      <th></th>\n",
       "      <th></th>\n",
       "      <th></th>\n",
       "      <th></th>\n",
       "      <th></th>\n",
       "      <th></th>\n",
       "      <th></th>\n",
       "      <th></th>\n",
       "      <th></th>\n",
       "      <th></th>\n",
       "      <th></th>\n",
       "      <th></th>\n",
       "      <th></th>\n",
       "      <th></th>\n",
       "      <th></th>\n",
       "      <th></th>\n",
       "      <th></th>\n",
       "      <th></th>\n",
       "    </tr>\n",
       "  </thead>\n",
       "  <tbody>\n",
       "    <tr>\n",
       "      <th>Fernando Arrabal lit Sa corolle noire ditions A Biren suivi de Ah la belle ann e ditions Ginasservis et Paris</th>\n",
       "      <td>-1.598291</td>\n",
       "      <td>-1.778773</td>\n",
       "      <td>-1.374239</td>\n",
       "      <td>-1.363652</td>\n",
       "      <td>-1.355981</td>\n",
       "      <td>-0.459759</td>\n",
       "      <td>-0.017918</td>\n",
       "      <td>-0.202872</td>\n",
       "      <td>-1.024959</td>\n",
       "      <td>-0.841603</td>\n",
       "      <td>...</td>\n",
       "      <td>1.156356</td>\n",
       "      <td>0.726309</td>\n",
       "      <td>0.116753</td>\n",
       "      <td>-0.662530</td>\n",
       "      <td>-0.368297</td>\n",
       "      <td>-0.362491</td>\n",
       "      <td>-0.242547</td>\n",
       "      <td>0.316914</td>\n",
       "      <td>0.827208</td>\n",
       "      <td>2.184837</td>\n",
       "    </tr>\n",
       "    <tr>\n",
       "      <th>It s Kind of a Funny Story</th>\n",
       "      <td>-0.169236</td>\n",
       "      <td>0.593324</td>\n",
       "      <td>1.101164</td>\n",
       "      <td>0.903140</td>\n",
       "      <td>0.965396</td>\n",
       "      <td>0.531421</td>\n",
       "      <td>-0.038163</td>\n",
       "      <td>-0.467987</td>\n",
       "      <td>-0.723052</td>\n",
       "      <td>-0.379225</td>\n",
       "      <td>...</td>\n",
       "      <td>-1.139889</td>\n",
       "      <td>-1.281726</td>\n",
       "      <td>-0.913743</td>\n",
       "      <td>-0.544836</td>\n",
       "      <td>-0.582910</td>\n",
       "      <td>0.173852</td>\n",
       "      <td>0.451509</td>\n",
       "      <td>1.561008</td>\n",
       "      <td>2.286078</td>\n",
       "      <td>0.780361</td>\n",
       "    </tr>\n",
       "    <tr>\n",
       "      <th>Neither Seen Nor Recognized</th>\n",
       "      <td>0.127829</td>\n",
       "      <td>0.414927</td>\n",
       "      <td>-0.111587</td>\n",
       "      <td>0.117459</td>\n",
       "      <td>0.435570</td>\n",
       "      <td>0.960243</td>\n",
       "      <td>1.671093</td>\n",
       "      <td>1.368567</td>\n",
       "      <td>1.008647</td>\n",
       "      <td>0.482891</td>\n",
       "      <td>...</td>\n",
       "      <td>-0.914588</td>\n",
       "      <td>-1.498294</td>\n",
       "      <td>-1.752695</td>\n",
       "      <td>-2.210531</td>\n",
       "      <td>-2.025708</td>\n",
       "      <td>-1.432724</td>\n",
       "      <td>-0.888310</td>\n",
       "      <td>0.099751</td>\n",
       "      <td>1.494704</td>\n",
       "      <td>-0.419205</td>\n",
       "    </tr>\n",
       "  </tbody>\n",
       "</table>\n",
       "<p>3 rows × 30 columns</p>\n",
       "</div>"
      ],
      "text/plain": [
       "                                                          0         1   \\\n",
       "movie_name                                                               \n",
       "Fernando Arrabal lit Sa corolle noire ditions A... -1.598291 -1.778773   \n",
       "It s Kind of a Funny Story                         -0.169236  0.593324   \n",
       "Neither Seen Nor Recognized                         0.127829  0.414927   \n",
       "\n",
       "                                                          2         3   \\\n",
       "movie_name                                                               \n",
       "Fernando Arrabal lit Sa corolle noire ditions A... -1.374239 -1.363652   \n",
       "It s Kind of a Funny Story                          1.101164  0.903140   \n",
       "Neither Seen Nor Recognized                        -0.111587  0.117459   \n",
       "\n",
       "                                                          4         5   \\\n",
       "movie_name                                                               \n",
       "Fernando Arrabal lit Sa corolle noire ditions A... -1.355981 -0.459759   \n",
       "It s Kind of a Funny Story                          0.965396  0.531421   \n",
       "Neither Seen Nor Recognized                         0.435570  0.960243   \n",
       "\n",
       "                                                          6         7   \\\n",
       "movie_name                                                               \n",
       "Fernando Arrabal lit Sa corolle noire ditions A... -0.017918 -0.202872   \n",
       "It s Kind of a Funny Story                         -0.038163 -0.467987   \n",
       "Neither Seen Nor Recognized                         1.671093  1.368567   \n",
       "\n",
       "                                                          8         9   ...  \\\n",
       "movie_name                                                              ...   \n",
       "Fernando Arrabal lit Sa corolle noire ditions A... -1.024959 -0.841603  ...   \n",
       "It s Kind of a Funny Story                         -0.723052 -0.379225  ...   \n",
       "Neither Seen Nor Recognized                         1.008647  0.482891  ...   \n",
       "\n",
       "                                                          20        21  \\\n",
       "movie_name                                                               \n",
       "Fernando Arrabal lit Sa corolle noire ditions A...  1.156356  0.726309   \n",
       "It s Kind of a Funny Story                         -1.139889 -1.281726   \n",
       "Neither Seen Nor Recognized                        -0.914588 -1.498294   \n",
       "\n",
       "                                                          22        23  \\\n",
       "movie_name                                                               \n",
       "Fernando Arrabal lit Sa corolle noire ditions A...  0.116753 -0.662530   \n",
       "It s Kind of a Funny Story                         -0.913743 -0.544836   \n",
       "Neither Seen Nor Recognized                        -1.752695 -2.210531   \n",
       "\n",
       "                                                          24        25  \\\n",
       "movie_name                                                               \n",
       "Fernando Arrabal lit Sa corolle noire ditions A... -0.368297 -0.362491   \n",
       "It s Kind of a Funny Story                         -0.582910  0.173852   \n",
       "Neither Seen Nor Recognized                        -2.025708 -1.432724   \n",
       "\n",
       "                                                          26        27  \\\n",
       "movie_name                                                               \n",
       "Fernando Arrabal lit Sa corolle noire ditions A... -0.242547  0.316914   \n",
       "It s Kind of a Funny Story                          0.451509  1.561008   \n",
       "Neither Seen Nor Recognized                        -0.888310  0.099751   \n",
       "\n",
       "                                                          28        29  \n",
       "movie_name                                                              \n",
       "Fernando Arrabal lit Sa corolle noire ditions A...  0.827208  2.184837  \n",
       "It s Kind of a Funny Story                          2.286078  0.780361  \n",
       "Neither Seen Nor Recognized                         1.494704 -0.419205  \n",
       "\n",
       "[3 rows x 30 columns]"
      ]
     },
     "execution_count": 39,
     "metadata": {},
     "output_type": "execute_result"
    }
   ],
   "source": [
    "df_reco_1.head(3)"
   ]
  },
  {
   "cell_type": "markdown",
   "id": "ac2bf287",
   "metadata": {},
   "source": [
    "### Find similar movies based on arcs"
   ]
  },
  {
   "cell_type": "code",
   "execution_count": 40,
   "id": "2c7e59a9",
   "metadata": {},
   "outputs": [],
   "source": [
    "movie_ex = np.array(df_reco_1.loc['Up']).reshape(1, -1)\n",
    "similarity_score = cosine_similarity(df_reco_1, movie_ex)"
   ]
  },
  {
   "cell_type": "code",
   "execution_count": 54,
   "id": "9fadbe59",
   "metadata": {},
   "outputs": [
    {
     "data": {
      "text/html": [
       "<div>\n",
       "<style scoped>\n",
       "    .dataframe tbody tr th:only-of-type {\n",
       "        vertical-align: middle;\n",
       "    }\n",
       "\n",
       "    .dataframe tbody tr th {\n",
       "        vertical-align: top;\n",
       "    }\n",
       "\n",
       "    .dataframe thead th {\n",
       "        text-align: right;\n",
       "    }\n",
       "</style>\n",
       "<table border=\"1\" class=\"dataframe\">\n",
       "  <thead>\n",
       "    <tr style=\"text-align: right;\">\n",
       "      <th></th>\n",
       "      <th>0</th>\n",
       "    </tr>\n",
       "    <tr>\n",
       "      <th>movie_name</th>\n",
       "      <th></th>\n",
       "    </tr>\n",
       "  </thead>\n",
       "  <tbody>\n",
       "    <tr>\n",
       "      <th>Tarzan s Secret Treasure</th>\n",
       "      <td>0.915319</td>\n",
       "    </tr>\n",
       "    <tr>\n",
       "      <th>Limbo</th>\n",
       "      <td>0.900012</td>\n",
       "    </tr>\n",
       "    <tr>\n",
       "      <th>Pain and Glory</th>\n",
       "      <td>0.865722</td>\n",
       "    </tr>\n",
       "    <tr>\n",
       "      <th>Good Boy</th>\n",
       "      <td>0.863963</td>\n",
       "    </tr>\n",
       "    <tr>\n",
       "      <th>Snatch</th>\n",
       "      <td>0.862364</td>\n",
       "    </tr>\n",
       "  </tbody>\n",
       "</table>\n",
       "</div>"
      ],
      "text/plain": [
       "                                 0\n",
       "movie_name                        \n",
       "Tarzan s Secret Treasure  0.915319\n",
       "Limbo                     0.900012\n",
       "Pain and Glory            0.865722\n",
       "Good Boy                  0.863963\n",
       "Snatch                    0.862364"
      ]
     },
     "execution_count": 54,
     "metadata": {},
     "output_type": "execute_result"
    }
   ],
   "source": [
    "recommendation_df = pd.DataFrame(similarity_score, index = df_reco_1.index)\n",
    "recommendation_df.sort_values(0, ascending=False, inplace=True)\n",
    "recommendation_df.head(6)"
   ]
  },
  {
   "cell_type": "code",
   "execution_count": 63,
   "id": "a9f77892",
   "metadata": {},
   "outputs": [
    {
     "data": {
      "text/plain": [
       "<matplotlib.legend.Legend at 0x12c3cf580>"
      ]
     },
     "execution_count": 63,
     "metadata": {},
     "output_type": "execute_result"
    },
    {
     "data": {
      "image/png": "[encoded data removed]",
      "text/plain": [
       "<Figure size 1000x600 with 1 Axes>"
      ]
     },
     "metadata": {},
     "output_type": "display_data"
    }
   ],
   "source": [
    "plt.figure(figsize=(10,6))\n",
    "for row in recommendation_df.iloc[1:6].iterrows():\n",
    "    id = row[0]\n",
    "    score = round(row[1][0],2)\n",
    "    plt.plot(df_reco_1.loc[id], color='gainsboro', label=f\"{id} - {score}\")\n",
    "\n",
    "plt.plot(df_reco_1.loc['Up'], label='Up')\n",
    "plt.legend()"
   ]
  },
  {
   "cell_type": "markdown",
   "id": "7e933bc5",
   "metadata": {},
   "source": [
    "### Get movies metadata"
   ]
  },
  {
   "cell_type": "markdown",
   "id": "7a50fc97",
   "metadata": {},
   "source": [
    "Get data"
   ]
  },
  {
   "cell_type": "code",
   "execution_count": 10,
   "id": "214a3bc1",
   "metadata": {},
   "outputs": [
    {
     "data": {
      "text/plain": [
       "Index(['imdbid', 'title', 'akas', 'year', 'metascore', 'imdb user rating',\n",
       "       'number of imdb user votes', 'awards', 'opening weekend', 'producers',\n",
       "       'budget', 'script department', 'production companies', 'writers',\n",
       "       'directors', 'casting directors', 'cast', 'countries', 'age restrict',\n",
       "       'plot', 'plot outline', 'keywords', 'genres', 'taglines', 'synopsis'],\n",
       "      dtype='object')"
      ]
     },
     "execution_count": 10,
     "metadata": {},
     "output_type": "execute_result"
    }
   ],
   "source": [
    "movie_meta = pd.read_csv('./raw_data/movie_metadata/movie_meta_data.csv')\n",
    "movie_meta.columns"
   ]
  },
  {
   "cell_type": "code",
   "execution_count": 11,
   "id": "e22df93d",
   "metadata": {},
   "outputs": [],
   "source": [
    "movie_meta = movie_meta[['title', 'keywords', 'genres']]"
   ]
  },
  {
   "cell_type": "code",
   "execution_count": 12,
   "id": "cc39c69c",
   "metadata": {},
   "outputs": [
    {
     "data": {
      "text/html": [
       "<div>\n",
       "<style scoped>\n",
       "    .dataframe tbody tr th:only-of-type {\n",
       "        vertical-align: middle;\n",
       "    }\n",
       "\n",
       "    .dataframe tbody tr th {\n",
       "        vertical-align: top;\n",
       "    }\n",
       "\n",
       "    .dataframe thead th {\n",
       "        text-align: right;\n",
       "    }\n",
       "</style>\n",
       "<table border=\"1\" class=\"dataframe\">\n",
       "  <thead>\n",
       "    <tr style=\"text-align: right;\">\n",
       "      <th></th>\n",
       "      <th>title</th>\n",
       "      <th>keywords</th>\n",
       "      <th>genres</th>\n",
       "    </tr>\n",
       "  </thead>\n",
       "  <tbody>\n",
       "    <tr>\n",
       "      <th>0</th>\n",
       "      <td>A Night at the Roxbury</td>\n",
       "      <td>woman-on-top, nightclub, car-accident, 1990s, ...</td>\n",
       "      <td>Comedy, Music, Romance</td>\n",
       "    </tr>\n",
       "    <tr>\n",
       "      <th>1</th>\n",
       "      <td>At First Sight</td>\n",
       "      <td>visual-agnosia, brother-sister-relationship, r...</td>\n",
       "      <td>Drama, Romance</td>\n",
       "    </tr>\n",
       "    <tr>\n",
       "      <th>2</th>\n",
       "      <td>The Avengers</td>\n",
       "      <td>good-versus-evil, heroine, evil-man, villain, ...</td>\n",
       "      <td>Action, Adventure, Sci-Fi, Thriller</td>\n",
       "    </tr>\n",
       "    <tr>\n",
       "      <th>3</th>\n",
       "      <td>Bamboozled</td>\n",
       "      <td>television-industry, african-american, referen...</td>\n",
       "      <td>Comedy, Drama, Music</td>\n",
       "    </tr>\n",
       "    <tr>\n",
       "      <th>4</th>\n",
       "      <td>The Big Lebowski</td>\n",
       "      <td>rug, nihilism, pornographer, bowling-alley, de...</td>\n",
       "      <td>Comedy, Crime, Sport</td>\n",
       "    </tr>\n",
       "  </tbody>\n",
       "</table>\n",
       "</div>"
      ],
      "text/plain": [
       "                    title                                           keywords  \\\n",
       "0  A Night at the Roxbury  woman-on-top, nightclub, car-accident, 1990s, ...   \n",
       "1          At First Sight  visual-agnosia, brother-sister-relationship, r...   \n",
       "2            The Avengers  good-versus-evil, heroine, evil-man, villain, ...   \n",
       "3              Bamboozled  television-industry, african-american, referen...   \n",
       "4        The Big Lebowski  rug, nihilism, pornographer, bowling-alley, de...   \n",
       "\n",
       "                                genres  \n",
       "0               Comedy, Music, Romance  \n",
       "1                       Drama, Romance  \n",
       "2  Action, Adventure, Sci-Fi, Thriller  \n",
       "3                 Comedy, Drama, Music  \n",
       "4                 Comedy, Crime, Sport  "
      ]
     },
     "execution_count": 12,
     "metadata": {},
     "output_type": "execute_result"
    }
   ],
   "source": [
    "movie_meta.head()"
   ]
  },
  {
   "cell_type": "markdown",
   "id": "d24a7991",
   "metadata": {},
   "source": [
    "Compute and clean meta data"
   ]
  },
  {
   "cell_type": "code",
   "execution_count": 13,
   "id": "e2297077",
   "metadata": {},
   "outputs": [],
   "source": [
    "movie_meta['meta'] = movie_meta['genres'] + ', ' + movie_meta['keywords']"
   ]
  },
  {
   "cell_type": "code",
   "execution_count": 14,
   "id": "5285cbf9",
   "metadata": {},
   "outputs": [],
   "source": [
    "movie_meta['meta'] = movie_meta['meta'].str.replace(',', '')"
   ]
  },
  {
   "cell_type": "code",
   "execution_count": 15,
   "id": "ae8e71ac",
   "metadata": {},
   "outputs": [],
   "source": [
    "movie_meta['meta'] = movie_meta['meta'].fillna('')"
   ]
  },
  {
   "cell_type": "markdown",
   "id": "76761642",
   "metadata": {},
   "source": [
    "Convert to vectors"
   ]
  },
  {
   "cell_type": "code",
   "execution_count": 16,
   "id": "18c56e83",
   "metadata": {},
   "outputs": [],
   "source": [
    "count = CountVectorizer()\n",
    "count_matrix = count.fit_transform(movie_meta['meta'])\n",
    "count_df = pd.DataFrame(count_matrix.toarray(), index=movie_meta.index.tolist())"
   ]
  },
  {
   "cell_type": "markdown",
   "id": "fbcad37b",
   "metadata": {},
   "source": [
    "Reduce dimensions"
   ]
  },
  {
   "cell_type": "code",
   "execution_count": 17,
   "id": "2e7939b3",
   "metadata": {},
   "outputs": [],
   "source": [
    "svd = TruncatedSVD(n_components=200)\n",
    "df_reco_2 = svd.fit_transform(count_df)"
   ]
  },
  {
   "cell_type": "code",
   "execution_count": 18,
   "id": "8e7e6857",
   "metadata": {},
   "outputs": [
    {
     "data": {
      "image/png": "[encoded data removed]",
      "text/plain": [
       "<Figure size 640x480 with 1 Axes>"
      ]
     },
     "metadata": {},
     "output_type": "display_data"
    }
   ],
   "source": [
    "plt.plot(svd.explained_variance_ratio_.cumsum())\n",
    "plt.xlabel('Components')\n",
    "plt.ylabel('Cumulative percent of variance')   \n",
    "plt.grid()\n",
    "plt.show()"
   ]
  },
  {
   "cell_type": "code",
   "execution_count": 19,
   "id": "88718f28",
   "metadata": {},
   "outputs": [
    {
     "data": {
      "text/html": [
       "<div>\n",
       "<style scoped>\n",
       "    .dataframe tbody tr th:only-of-type {\n",
       "        vertical-align: middle;\n",
       "    }\n",
       "\n",
       "    .dataframe tbody tr th {\n",
       "        vertical-align: top;\n",
       "    }\n",
       "\n",
       "    .dataframe thead th {\n",
       "        text-align: right;\n",
       "    }\n",
       "</style>\n",
       "<table border=\"1\" class=\"dataframe\">\n",
       "  <thead>\n",
       "    <tr style=\"text-align: right;\">\n",
       "      <th></th>\n",
       "      <th>0</th>\n",
       "      <th>1</th>\n",
       "      <th>2</th>\n",
       "      <th>3</th>\n",
       "      <th>4</th>\n",
       "      <th>5</th>\n",
       "      <th>6</th>\n",
       "      <th>7</th>\n",
       "      <th>8</th>\n",
       "      <th>9</th>\n",
       "      <th>...</th>\n",
       "      <th>190</th>\n",
       "      <th>191</th>\n",
       "      <th>192</th>\n",
       "      <th>193</th>\n",
       "      <th>194</th>\n",
       "      <th>195</th>\n",
       "      <th>196</th>\n",
       "      <th>197</th>\n",
       "      <th>198</th>\n",
       "      <th>199</th>\n",
       "    </tr>\n",
       "  </thead>\n",
       "  <tbody>\n",
       "    <tr>\n",
       "      <th>A Night at the Roxbury</th>\n",
       "      <td>1.502832</td>\n",
       "      <td>-0.803807</td>\n",
       "      <td>-2.006379</td>\n",
       "      <td>-0.793780</td>\n",
       "      <td>-0.829672</td>\n",
       "      <td>0.728085</td>\n",
       "      <td>-0.366592</td>\n",
       "      <td>-0.675100</td>\n",
       "      <td>0.999133</td>\n",
       "      <td>0.615034</td>\n",
       "      <td>...</td>\n",
       "      <td>0.234483</td>\n",
       "      <td>-0.397121</td>\n",
       "      <td>0.004060</td>\n",
       "      <td>-0.063658</td>\n",
       "      <td>0.581227</td>\n",
       "      <td>0.010920</td>\n",
       "      <td>-0.117521</td>\n",
       "      <td>-0.068602</td>\n",
       "      <td>0.075908</td>\n",
       "      <td>0.495567</td>\n",
       "    </tr>\n",
       "    <tr>\n",
       "      <th>At First Sight</th>\n",
       "      <td>1.271576</td>\n",
       "      <td>-0.528864</td>\n",
       "      <td>-2.081561</td>\n",
       "      <td>-0.756035</td>\n",
       "      <td>-0.765354</td>\n",
       "      <td>0.251869</td>\n",
       "      <td>-0.732929</td>\n",
       "      <td>-0.698070</td>\n",
       "      <td>1.380662</td>\n",
       "      <td>-0.888438</td>\n",
       "      <td>...</td>\n",
       "      <td>0.131286</td>\n",
       "      <td>-0.150240</td>\n",
       "      <td>-0.192345</td>\n",
       "      <td>0.002609</td>\n",
       "      <td>0.096282</td>\n",
       "      <td>-0.270114</td>\n",
       "      <td>0.044292</td>\n",
       "      <td>0.002774</td>\n",
       "      <td>0.048301</td>\n",
       "      <td>0.026868</td>\n",
       "    </tr>\n",
       "    <tr>\n",
       "      <th>The Avengers</th>\n",
       "      <td>6.607973</td>\n",
       "      <td>-1.739845</td>\n",
       "      <td>0.476277</td>\n",
       "      <td>1.615551</td>\n",
       "      <td>2.167067</td>\n",
       "      <td>3.640551</td>\n",
       "      <td>0.082123</td>\n",
       "      <td>1.565535</td>\n",
       "      <td>1.681950</td>\n",
       "      <td>1.472499</td>\n",
       "      <td>...</td>\n",
       "      <td>-0.394751</td>\n",
       "      <td>-0.562413</td>\n",
       "      <td>0.503138</td>\n",
       "      <td>-1.054489</td>\n",
       "      <td>-0.595875</td>\n",
       "      <td>0.103574</td>\n",
       "      <td>-0.427461</td>\n",
       "      <td>-0.508791</td>\n",
       "      <td>0.164643</td>\n",
       "      <td>0.352833</td>\n",
       "    </tr>\n",
       "    <tr>\n",
       "      <th>Bamboozled</th>\n",
       "      <td>58.035444</td>\n",
       "      <td>50.585552</td>\n",
       "      <td>5.012842</td>\n",
       "      <td>2.557669</td>\n",
       "      <td>-2.838908</td>\n",
       "      <td>2.143097</td>\n",
       "      <td>-4.067179</td>\n",
       "      <td>3.284438</td>\n",
       "      <td>-0.802079</td>\n",
       "      <td>-4.157639</td>\n",
       "      <td>...</td>\n",
       "      <td>0.447457</td>\n",
       "      <td>-0.087573</td>\n",
       "      <td>-0.096725</td>\n",
       "      <td>0.041460</td>\n",
       "      <td>0.630993</td>\n",
       "      <td>0.656888</td>\n",
       "      <td>0.449778</td>\n",
       "      <td>1.728921</td>\n",
       "      <td>-1.256477</td>\n",
       "      <td>0.192955</td>\n",
       "    </tr>\n",
       "    <tr>\n",
       "      <th>The Big Lebowski</th>\n",
       "      <td>27.097305</td>\n",
       "      <td>-9.668266</td>\n",
       "      <td>-4.641154</td>\n",
       "      <td>-2.699650</td>\n",
       "      <td>5.027355</td>\n",
       "      <td>6.497558</td>\n",
       "      <td>-2.757835</td>\n",
       "      <td>-0.893013</td>\n",
       "      <td>-3.081685</td>\n",
       "      <td>2.475940</td>\n",
       "      <td>...</td>\n",
       "      <td>1.044876</td>\n",
       "      <td>1.485549</td>\n",
       "      <td>0.547402</td>\n",
       "      <td>-0.394455</td>\n",
       "      <td>1.007307</td>\n",
       "      <td>1.762752</td>\n",
       "      <td>-1.213069</td>\n",
       "      <td>0.226565</td>\n",
       "      <td>0.960102</td>\n",
       "      <td>0.360474</td>\n",
       "    </tr>\n",
       "  </tbody>\n",
       "</table>\n",
       "<p>5 rows × 200 columns</p>\n",
       "</div>"
      ],
      "text/plain": [
       "                              0          1         2         3         4    \\\n",
       "A Night at the Roxbury   1.502832  -0.803807 -2.006379 -0.793780 -0.829672   \n",
       "At First Sight           1.271576  -0.528864 -2.081561 -0.756035 -0.765354   \n",
       "The Avengers             6.607973  -1.739845  0.476277  1.615551  2.167067   \n",
       "Bamboozled              58.035444  50.585552  5.012842  2.557669 -2.838908   \n",
       "The Big Lebowski        27.097305  -9.668266 -4.641154 -2.699650  5.027355   \n",
       "\n",
       "                             5         6         7         8         9    ...  \\\n",
       "A Night at the Roxbury  0.728085 -0.366592 -0.675100  0.999133  0.615034  ...   \n",
       "At First Sight          0.251869 -0.732929 -0.698070  1.380662 -0.888438  ...   \n",
       "The Avengers            3.640551  0.082123  1.565535  1.681950  1.472499  ...   \n",
       "Bamboozled              2.143097 -4.067179  3.284438 -0.802079 -4.157639  ...   \n",
       "The Big Lebowski        6.497558 -2.757835 -0.893013 -3.081685  2.475940  ...   \n",
       "\n",
       "                             190       191       192       193       194  \\\n",
       "A Night at the Roxbury  0.234483 -0.397121  0.004060 -0.063658  0.581227   \n",
       "At First Sight          0.131286 -0.150240 -0.192345  0.002609  0.096282   \n",
       "The Avengers           -0.394751 -0.562413  0.503138 -1.054489 -0.595875   \n",
       "Bamboozled              0.447457 -0.087573 -0.096725  0.041460  0.630993   \n",
       "The Big Lebowski        1.044876  1.485549  0.547402 -0.394455  1.007307   \n",
       "\n",
       "                             195       196       197       198       199  \n",
       "A Night at the Roxbury  0.010920 -0.117521 -0.068602  0.075908  0.495567  \n",
       "At First Sight         -0.270114  0.044292  0.002774  0.048301  0.026868  \n",
       "The Avengers            0.103574 -0.427461 -0.508791  0.164643  0.352833  \n",
       "Bamboozled              0.656888  0.449778  1.728921 -1.256477  0.192955  \n",
       "The Big Lebowski        1.762752 -1.213069  0.226565  0.960102  0.360474  \n",
       "\n",
       "[5 rows x 200 columns]"
      ]
     },
     "execution_count": 19,
     "metadata": {},
     "output_type": "execute_result"
    }
   ],
   "source": [
    "df_reco_2 = pd.DataFrame(df_reco_2, index=movie_meta.title.tolist())\n",
    "df_reco_2.head()"
   ]
  },
  {
   "cell_type": "markdown",
   "id": "e958122a",
   "metadata": {},
   "source": [
    "### Find similar movies based on arcs and meta"
   ]
  },
  {
   "cell_type": "markdown",
   "id": "195295a7",
   "metadata": {},
   "source": [
    "Compute similarities for a movie"
   ]
  },
  {
   "cell_type": "code",
   "execution_count": 66,
   "id": "84ca83f8",
   "metadata": {},
   "outputs": [],
   "source": [
    "movie_ex1 = np.array(df_reco_1.loc['Up']).reshape(1, -1)\n",
    "movie_ex2 = np.array(df_reco_2.loc['Up']).reshape(1, -1)\n",
    "\n",
    "similarity_score1 = cosine_similarity(df_reco_1, movie_ex1)\n",
    "similarity_score2 = cosine_similarity(df_reco_2, movie_ex2)"
   ]
  },
  {
   "cell_type": "markdown",
   "id": "51d822d5",
   "metadata": {},
   "source": [
    "Regroup in a DataFrame"
   ]
  },
  {
   "cell_type": "code",
   "execution_count": 67,
   "id": "119ae829",
   "metadata": {},
   "outputs": [],
   "source": [
    "scores_df1 = pd.DataFrame(similarity_score1, index = df_reco_1.index)\n",
    "scores_df1.sort_values(0, ascending=False, inplace=True)\n",
    "scores_df1.columns = ['arcs']\n",
    "\n",
    "scores_df2 = pd.DataFrame(similarity_score2, index = df_reco_2.index)\n",
    "scores_df2.sort_values(0, ascending=False, inplace=True)\n",
    "scores_df2.columns = ['meta']"
   ]
  },
  {
   "cell_type": "code",
   "execution_count": 68,
   "id": "27336de1",
   "metadata": {},
   "outputs": [],
   "source": [
    "scores_df = pd.merge(scores_df1, scores_df2, left_index=True, right_index=True)"
   ]
  },
  {
   "cell_type": "markdown",
   "id": "b1bdd7d5",
   "metadata": {},
   "source": [
    "Compute a global score and select movies"
   ]
  },
  {
   "cell_type": "code",
   "execution_count": 69,
   "id": "358fe7c6",
   "metadata": {},
   "outputs": [
    {
     "data": {
      "text/html": [
       "<div>\n",
       "<style scoped>\n",
       "    .dataframe tbody tr th:only-of-type {\n",
       "        vertical-align: middle;\n",
       "    }\n",
       "\n",
       "    .dataframe tbody tr th {\n",
       "        vertical-align: top;\n",
       "    }\n",
       "\n",
       "    .dataframe thead th {\n",
       "        text-align: right;\n",
       "    }\n",
       "</style>\n",
       "<table border=\"1\" class=\"dataframe\">\n",
       "  <thead>\n",
       "    <tr style=\"text-align: right;\">\n",
       "      <th></th>\n",
       "      <th>arcs</th>\n",
       "      <th>meta</th>\n",
       "      <th>total</th>\n",
       "    </tr>\n",
       "    <tr>\n",
       "      <th>movie_name</th>\n",
       "      <th></th>\n",
       "      <th></th>\n",
       "      <th></th>\n",
       "    </tr>\n",
       "  </thead>\n",
       "  <tbody>\n",
       "    <tr>\n",
       "      <th>Coco</th>\n",
       "      <td>0.779251</td>\n",
       "      <td>0.653262</td>\n",
       "      <td>0.716257</td>\n",
       "    </tr>\n",
       "    <tr>\n",
       "      <th>How to Train Your Dragon</th>\n",
       "      <td>0.837069</td>\n",
       "      <td>0.583612</td>\n",
       "      <td>0.710340</td>\n",
       "    </tr>\n",
       "    <tr>\n",
       "      <th>To Kill a Mockingbird</th>\n",
       "      <td>0.804810</td>\n",
       "      <td>0.589237</td>\n",
       "      <td>0.697024</td>\n",
       "    </tr>\n",
       "    <tr>\n",
       "      <th>Jojo Rabbit</th>\n",
       "      <td>0.811402</td>\n",
       "      <td>0.576900</td>\n",
       "      <td>0.694151</td>\n",
       "    </tr>\n",
       "    <tr>\n",
       "      <th>Beauty and the Beast</th>\n",
       "      <td>0.759175</td>\n",
       "      <td>0.623658</td>\n",
       "      <td>0.691417</td>\n",
       "    </tr>\n",
       "  </tbody>\n",
       "</table>\n",
       "</div>"
      ],
      "text/plain": [
       "                              arcs      meta     total\n",
       "movie_name                                            \n",
       "Coco                      0.779251  0.653262  0.716257\n",
       "How to Train Your Dragon  0.837069  0.583612  0.710340\n",
       "To Kill a Mockingbird     0.804810  0.589237  0.697024\n",
       "Jojo Rabbit               0.811402  0.576900  0.694151\n",
       "Beauty and the Beast      0.759175  0.623658  0.691417"
      ]
     },
     "execution_count": 69,
     "metadata": {},
     "output_type": "execute_result"
    }
   ],
   "source": [
    "scores_df['total'] = (scores_df['arcs'] + scores_df['meta']) / 2.0\n",
    "\n",
    "scores_df.sort_values(by=['total'], ascending=False, inplace=True)\n",
    "\n",
    "scores_df.drop(['Up'], inplace=True)\n",
    "\n",
    "scores_df.head(5)"
   ]
  },
  {
   "cell_type": "code",
   "execution_count": 72,
   "id": "0c7fa288",
   "metadata": {},
   "outputs": [
    {
     "name": "stdout",
     "output_type": "stream",
     "text": [
      "Coco\n",
      "How to Train Your Dragon\n",
      "To Kill a Mockingbird\n",
      "Jojo Rabbit\n",
      "Beauty and the Beast\n"
     ]
    },
    {
     "data": {
      "text/plain": [
       "<matplotlib.legend.Legend at 0x127b77dc0>"
      ]
     },
     "execution_count": 72,
     "metadata": {},
     "output_type": "execute_result"
    },
    {
     "data": {
      "image/png": "[encoded data removed]",
      "text/plain": [
       "<Figure size 1000x600 with 1 Axes>"
      ]
     },
     "metadata": {},
     "output_type": "display_data"
    }
   ],
   "source": [
    "plt.figure(figsize=(10,6))\n",
    "for row in scores_df.iloc[0:5].iterrows():\n",
    "    id = row[0]\n",
    "    print(id)\n",
    "    score = round(row[1][0],2)\n",
    "    plt.plot(df_reco_1.loc[id], color='gainsboro', label=f\"{id} - {score}\")\n",
    "\n",
    "plt.plot(df_reco_1.loc['Up'], label='Up')\n",
    "plt.legend()"
   ]
  },
  {
   "cell_type": "markdown",
   "id": "a9e7585e",
   "metadata": {},
   "source": [
    "### Test the function"
   ]
  },
  {
   "cell_type": "code",
   "execution_count": 26,
   "id": "555ac818",
   "metadata": {},
   "outputs": [],
   "source": [
    "from movie_sentiment.ml_logic.recommendation import get_movies_recommendation"
   ]
  },
  {
   "cell_type": "code",
   "execution_count": 27,
   "id": "db327d3c",
   "metadata": {},
   "outputs": [
    {
     "name": "stdout",
     "output_type": "stream",
     "text": [
      "Loading data from pickle file\n",
      "Loading metadata from pickle file\n"
     ]
    },
    {
     "data": {
      "text/plain": [
       "['Coco',\n",
       " 'How to Train Your Dragon',\n",
       " 'To Kill a Mockingbird',\n",
       " 'Jojo Rabbit',\n",
       " 'Beauty and the Beast']"
      ]
     },
     "execution_count": 27,
     "metadata": {},
     "output_type": "execute_result"
    }
   ],
   "source": [
    "get_movies_recommendation('Up', n=5)"
   ]
  },
  {
   "cell_type": "markdown",
   "id": "f36eb45d",
   "metadata": {},
   "source": [
    "### Polynomials"
   ]
  },
  {
   "cell_type": "code",
   "execution_count": 28,
   "id": "c28a0174",
   "metadata": {},
   "outputs": [],
   "source": [
    "from movie_sentiment.processing.arcs import get_all_polynomials"
   ]
  },
  {
   "cell_type": "code",
   "execution_count": 29,
   "id": "9d5ade44",
   "metadata": {},
   "outputs": [
    {
     "name": "stdout",
     "output_type": "stream",
     "text": [
      "Loading data from pickle file\n"
     ]
    }
   ],
   "source": [
    "arcs = get_all_polynomials()"
   ]
  },
  {
   "cell_type": "code",
   "execution_count": 30,
   "id": "896c9971",
   "metadata": {},
   "outputs": [],
   "source": [
    "df_poly = arcs.set_index('movie_name')"
   ]
  },
  {
   "cell_type": "code",
   "execution_count": 31,
   "id": "c502e937",
   "metadata": {},
   "outputs": [],
   "source": [
    "movie_ex = np.array(df_poly.loc['Up']).reshape(1, -1)\n",
    "similarity_score = cosine_similarity(df_poly, movie_ex)"
   ]
  },
  {
   "cell_type": "code",
   "execution_count": 32,
   "id": "35c39466",
   "metadata": {},
   "outputs": [
    {
     "data": {
      "text/html": [
       "<div>\n",
       "<style scoped>\n",
       "    .dataframe tbody tr th:only-of-type {\n",
       "        vertical-align: middle;\n",
       "    }\n",
       "\n",
       "    .dataframe tbody tr th {\n",
       "        vertical-align: top;\n",
       "    }\n",
       "\n",
       "    .dataframe thead th {\n",
       "        text-align: right;\n",
       "    }\n",
       "</style>\n",
       "<table border=\"1\" class=\"dataframe\">\n",
       "  <thead>\n",
       "    <tr style=\"text-align: right;\">\n",
       "      <th></th>\n",
       "      <th>0</th>\n",
       "    </tr>\n",
       "    <tr>\n",
       "      <th>movie_name</th>\n",
       "      <th></th>\n",
       "    </tr>\n",
       "  </thead>\n",
       "  <tbody>\n",
       "    <tr>\n",
       "      <th>Up</th>\n",
       "      <td>1.0</td>\n",
       "    </tr>\n",
       "    <tr>\n",
       "      <th>The Great Outdoors</th>\n",
       "      <td>1.0</td>\n",
       "    </tr>\n",
       "    <tr>\n",
       "      <th>The Insider</th>\n",
       "      <td>1.0</td>\n",
       "    </tr>\n",
       "    <tr>\n",
       "      <th>Star Trek III The Search for Spock</th>\n",
       "      <td>1.0</td>\n",
       "    </tr>\n",
       "    <tr>\n",
       "      <th>A Few Good Men</th>\n",
       "      <td>1.0</td>\n",
       "    </tr>\n",
       "    <tr>\n",
       "      <th>The Rage Carrie 2</th>\n",
       "      <td>1.0</td>\n",
       "    </tr>\n",
       "  </tbody>\n",
       "</table>\n",
       "</div>"
      ],
      "text/plain": [
       "                                      0\n",
       "movie_name                             \n",
       "Up                                  1.0\n",
       "The Great Outdoors                  1.0\n",
       "The Insider                         1.0\n",
       "Star Trek III The Search for Spock  1.0\n",
       "A Few Good Men                      1.0\n",
       "The Rage Carrie 2                   1.0"
      ]
     },
     "execution_count": 32,
     "metadata": {},
     "output_type": "execute_result"
    }
   ],
   "source": [
    "recommendation_df = pd.DataFrame(similarity_score, index = df_poly.index)\n",
    "recommendation_df.sort_values(0, ascending=False, inplace=True)\n",
    "recommendation_df.head(6)"
   ]
  },
  {
   "cell_type": "markdown",
   "id": "6e0ae94f",
   "metadata": {},
   "source": [
    "Plotting polynomials"
   ]
  },
  {
   "cell_type": "code",
   "execution_count": 33,
   "id": "d912229f",
   "metadata": {},
   "outputs": [
    {
     "name": "stdout",
     "output_type": "stream",
     "text": [
      "0     0.000000e+00\n",
      "1     0.000000e+00\n",
      "2     0.000000e+00\n",
      "3     0.000000e+00\n",
      "4     0.000000e+00\n",
      "5     0.000000e+00\n",
      "6     3.278383e-09\n",
      "7    -1.626563e-06\n",
      "8     2.526939e-04\n",
      "9    -1.316647e-02\n",
      "10    3.241072e-01\n",
      "Name: Up, dtype: float64\n"
     ]
    },
    {
     "ename": "NameError",
     "evalue": "name 'x_fit' is not defined",
     "output_type": "error",
     "traceback": [
      "\u001b[0;31m---------------------------------------------------------------------------\u001b[0m",
      "\u001b[0;31mNameError\u001b[0m                                 Traceback (most recent call last)",
      "Cell \u001b[0;32mIn[33], line 10\u001b[0m\n\u001b[1;32m      8\u001b[0m     \u001b[38;5;28;01mif\u001b[39;00m \u001b[38;5;28mid\u001b[39m \u001b[38;5;241m!=\u001b[39m\u001b[38;5;241m0\u001b[39m:\n\u001b[1;32m      9\u001b[0m         \u001b[38;5;28mprint\u001b[39m(df_poly\u001b[38;5;241m.\u001b[39mloc[\u001b[38;5;28mid\u001b[39m])\n\u001b[0;32m---> 10\u001b[0m         y_fit \u001b[38;5;241m=\u001b[39m np\u001b[38;5;241m.\u001b[39mpolyval(df_poly\u001b[38;5;241m.\u001b[39mloc[\u001b[38;5;28mid\u001b[39m], \u001b[43mx_fit\u001b[49m)\n\u001b[1;32m     11\u001b[0m         plt\u001b[38;5;241m.\u001b[39mplot(x_fit, y_fit, color\u001b[38;5;241m=\u001b[39m\u001b[38;5;124m'\u001b[39m\u001b[38;5;124mgainsboro\u001b[39m\u001b[38;5;124m'\u001b[39m)\n\u001b[1;32m     13\u001b[0m plt\u001b[38;5;241m.\u001b[39mplot(df_reco_1\u001b[38;5;241m.\u001b[39mloc[\u001b[38;5;28mid\u001b[39m])\n",
      "\u001b[0;31mNameError\u001b[0m: name 'x_fit' is not defined"
     ]
    }
   ],
   "source": [
    "# x_fit = np.arange(30)\n",
    "# y_fit = np.polyval(coefficients, x_fit)\n",
    "# plt.plot(x_fit, y_fit, 'r')\n",
    "\n",
    "\n",
    "for row in recommendation_df.head(10).iterrows():\n",
    "    id = row[0]\n",
    "    if id !=0:\n",
    "        print(df_poly.loc[id])\n",
    "        y_fit = np.polyval(df_poly.loc[id], x_fit)\n",
    "        plt.plot(x_fit, y_fit, color='gainsboro')\n",
    "        \n",
    "plt.plot(df_reco_1.loc[id])"
   ]
  },
  {
   "cell_type": "markdown",
   "id": "5e1cb10d",
   "metadata": {},
   "source": [
    "Plotting curves"
   ]
  },
  {
   "cell_type": "code",
   "execution_count": null,
   "id": "55376e4b",
   "metadata": {},
   "outputs": [],
   "source": [
    "for row in recommendation_df.head(10).iterrows():\n",
    "    id = row[0]\n",
    "    if id !=0:\n",
    "        plt.plot(df_reco_1.loc[id], color='gainsboro')\n",
    "        \n",
    "plt.plot(df_reco_1.loc[id])"
   ]
  },
  {
   "cell_type": "code",
   "execution_count": null,
   "id": "b0d7b4d1",
   "metadata": {},
   "outputs": [],
   "source": []
  }
 ],
 "metadata": {
  "kernelspec": {
   "display_name": "Python 3 (ipykernel)",
   "language": "python",
   "name": "python3"
  },
  "language_info": {
   "codemirror_mode": {
    "name": "ipython",
    "version": 3
   },
   "file_extension": ".py",
   "mimetype": "text/x-python",
   "name": "python",
   "nbconvert_exporter": "python",
   "pygments_lexer": "ipython3",
   "version": "3.10.6"
  },
  "toc": {
   "base_numbering": 1,
   "nav_menu": {},
   "number_sections": true,
   "sideBar": true,
   "skip_h1_title": false,
   "title_cell": "Table of Contents",
   "title_sidebar": "Contents",
   "toc_cell": false,
   "toc_position": {},
   "toc_section_display": true,
   "toc_window_display": false
  }
 },
 "nbformat": 4,
 "nbformat_minor": 5
}
