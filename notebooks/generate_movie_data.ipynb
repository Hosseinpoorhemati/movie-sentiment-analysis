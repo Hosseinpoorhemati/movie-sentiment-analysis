{
 "cells": [
  {
   "cell_type": "code",
   "execution_count": 2,
   "id": "c8997fd7",
   "metadata": {},
   "outputs": [],
   "source": [
    "%load_ext autoreload\n",
    "%autoreload 2\n",
    "\n",
    "import pandas as pd\n",
    "import os\n",
    "import matplotlib.pyplot as plt\n",
    "\n",
    "from movie_sentiment.processing.arcs import get_all_arcs, get_all_polynomials\n",
    "from movie_sentiment.ml_logic.polynomial import script_2_polynomial"
   ]
  },
  {
   "cell_type": "code",
   "execution_count": 8,
   "id": "f14d34af",
   "metadata": {},
   "outputs": [
    {
     "name": "stdout",
     "output_type": "stream",
     "text": [
      "Generating data for movie arcs\n",
      "2858/2858 movies arcs generatedSaving in pickle file\n",
      "Saved in pickle file\n"
     ]
    }
   ],
   "source": [
    "arcs = get_all_arcs()"
   ]
  },
  {
   "cell_type": "code",
   "execution_count": 9,
   "id": "1d886ef9",
   "metadata": {},
   "outputs": [
    {
     "data": {
      "text/plain": [
       "2771"
      ]
     },
     "execution_count": 9,
     "metadata": {},
     "output_type": "execute_result"
    }
   ],
   "source": [
    "len(arcs)"
   ]
  },
  {
   "cell_type": "code",
   "execution_count": 10,
   "id": "01466864",
   "metadata": {},
   "outputs": [
    {
     "data": {
      "text/plain": [
       "30"
      ]
     },
     "execution_count": 10,
     "metadata": {},
     "output_type": "execute_result"
    }
   ],
   "source": [
    "lenghts=[]\n",
    "\n",
    "for value in arcs.values():\n",
    "    lenghts.append(len(value))\n",
    "\n",
    "min(lenghts)"
   ]
  },
  {
   "cell_type": "code",
   "execution_count": null,
   "id": "f679cbe6",
   "metadata": {},
   "outputs": [],
   "source": [
    "plt.plot(arcs['Salt'])"
   ]
  },
  {
   "cell_type": "code",
   "execution_count": null,
   "id": "b0f2b43c",
   "metadata": {},
   "outputs": [],
   "source": [
    "poly = []\n",
    "for key, value in arcs.items():\n",
    "    row = script_2_polynomial(value)\n",
    "    row.insert(0, key)\n",
    "    poly.append(row)"
   ]
  },
  {
   "cell_type": "code",
   "execution_count": null,
   "id": "541475dc",
   "metadata": {},
   "outputs": [],
   "source": [
    "poly[0]"
   ]
  },
  {
   "cell_type": "code",
   "execution_count": null,
   "id": "a6286f5c",
   "metadata": {},
   "outputs": [],
   "source": [
    "columns_id= [x for x in range(len(poly[0]) - 1)]\n",
    "columns_id.insert(0, 'movie_name')\n",
    "columns_id\n",
    "pd.DataFrame(poly, columns=columns_id)"
   ]
  },
  {
   "cell_type": "code",
   "execution_count": null,
   "id": "6ed285ed",
   "metadata": {},
   "outputs": [],
   "source": [
    "df = get_all_polynomials()"
   ]
  },
  {
   "cell_type": "code",
   "execution_count": null,
   "id": "015b4325",
   "metadata": {},
   "outputs": [],
   "source": [
    "df"
   ]
  },
  {
   "cell_type": "code",
   "execution_count": null,
   "id": "83ff7e69",
   "metadata": {},
   "outputs": [],
   "source": []
  }
 ],
 "metadata": {
  "kernelspec": {
   "display_name": "Python 3 (ipykernel)",
   "language": "python",
   "name": "python3"
  },
  "language_info": {
   "codemirror_mode": {
    "name": "ipython",
    "version": 3
   },
   "file_extension": ".py",
   "mimetype": "text/x-python",
   "name": "python",
   "nbconvert_exporter": "python",
   "pygments_lexer": "ipython3",
   "version": "3.10.6"
  },
  "toc": {
   "base_numbering": 1,
   "nav_menu": {},
   "number_sections": true,
   "sideBar": true,
   "skip_h1_title": false,
   "title_cell": "Table of Contents",
   "title_sidebar": "Contents",
   "toc_cell": false,
   "toc_position": {},
   "toc_section_display": true,
   "toc_window_display": false
  }
 },
 "nbformat": 4,
 "nbformat_minor": 5
}
