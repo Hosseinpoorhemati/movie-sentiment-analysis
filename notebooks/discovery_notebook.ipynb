{
 "cells": [
  {
   "cell_type": "code",
   "execution_count": 1,
   "id": "99621263",
   "metadata": {},
   "outputs": [],
   "source": [
    "%load_ext autoreload\n",
    "%autoreload 2"
   ]
  },
  {
   "cell_type": "code",
   "execution_count": 2,
   "id": "b0c1df59-fcc2-46ce-8111-a8cd861397eb",
   "metadata": {},
   "outputs": [],
   "source": [
    "import numpy as np\n",
    "import seaborn as sns\n",
    "import pandas as pd\n",
    "import matplotlib.pyplot as plt\n",
    "import os\n",
    "\n",
    "#from movie_sentiment.processing.scripts import split_movie_script\n",
    "#from movie_sentiment.ml_logic.vader import model as vadar\n",
    "from movie_sentiment.ml_logic.movie_score import movie_score"
   ]
  },
  {
   "cell_type": "code",
   "execution_count": 12,
   "id": "6d7bedc3",
   "metadata": {},
   "outputs": [],
   "source": [
    "movie_title = 'Up_1049413.txt'\n",
    "\n",
    "X = movie_score(movie_title, chunk_type='words', pad=50, group_chunk=2, window_size=50)"
   ]
  },
  {
   "cell_type": "code",
   "execution_count": 15,
   "id": "7e98abe8",
   "metadata": {},
   "outputs": [
    {
     "data": {
      "text/plain": [
       "numpy.ndarray"
      ]
     },
     "execution_count": 15,
     "metadata": {},
     "output_type": "execute_result"
    }
   ],
   "source": [
    "type(X)"
   ]
  },
  {
   "cell_type": "code",
   "execution_count": 5,
   "id": "6d0b1018",
   "metadata": {},
   "outputs": [],
   "source": [
    "movie_list = os.listdir('./raw_data/screenplay_data/data/raw_texts/raw_texts')"
   ]
  },
  {
   "cell_type": "code",
   "execution_count": 6,
   "id": "3ffe1f41",
   "metadata": {},
   "outputs": [],
   "source": [
    "#moving average\n",
    "import numpy as np\n",
    "def moving_average(data, window_size):\n",
    "    weights = np.repeat(1.0, window_size) / window_size\n",
    "    moving_avg = np.convolve(data, weights, 'valid')\n",
    "    return moving_avg"
   ]
  },
  {
   "cell_type": "code",
   "execution_count": 7,
   "id": "2b6a44e1",
   "metadata": {},
   "outputs": [],
   "source": [
    "import numpy as np\n",
    "from scipy.ndimage import median_filter\n",
    "\n",
    "def moving_median(data, window_size):\n",
    "    # Pad the data array to handle edge cases\n",
    "    padded_data = np.pad(data, (window_size//2, window_size//2), mode='reflect')\n",
    "    \n",
    "    # Apply median filter to the padded data with the specified window size\n",
    "    smoothed_data = median_filter(padded_data, size=window_size)\n",
    "    \n",
    "    return smoothed_data[window_size//2:-window_size//2]"
   ]
  },
  {
   "cell_type": "code",
   "execution_count": 8,
   "id": "fffae2d7",
   "metadata": {},
   "outputs": [],
   "source": [
    "# Given the parameters for each movie title, calculates the text chunk scores\n",
    "def movie_raw_score(movie_title, typer, pad, lower, group_chunk):\n",
    "    \n",
    "    movie_script_splitted = split_movie_script(movie_title, typer=typer, \\\n",
    "                                               pad=pad, lower=lower, rm_stopwords=False, \\\n",
    "                                               lemmatize=False)\n",
    "    \n",
    "    movie_script_scored = vadar(movie_script_splitted, group_chunk)\n",
    "    \n",
    "    return movie_script_scored"
   ]
  },
  {
   "cell_type": "code",
   "execution_count": 9,
   "id": "8ac98bf3-290f-49ae-85c1-61ce75422047",
   "metadata": {},
   "outputs": [],
   "source": [
    "#Given a movie name and a list of parameters, plot different movie arcs\n",
    "\n",
    "def arc_grid_search(movie_title):\n",
    "    # plots the arc with different values for: sentence, pad, window_size for moving average\n",
    "    \n",
    "    lower = [False]\n",
    "    pad = [5, 50]\n",
    "    group_chunk = [1]\n",
    "    window_size = [50]\n",
    "    \n",
    "    # Making all combinations: \n",
    "    unique_combinations = []\n",
    "    for k in range(len(lower)):\n",
    "        for i in range(len(pad)):\n",
    "            for j in range(len(window_size)):\n",
    "                for l in range(len(group_chunk)):\n",
    "                    unique_combinations.append((lower[k],pad[i],window_size[j],group_chunk[l]))\n",
    "\n",
    "\n",
    "    \n",
    "    rows = len(pad) * len(window_size) * len(lower) * len(group_chunk)\n",
    "    fig, axs = plt.subplots(rows,1, figsize=(10, 45))\n",
    "    \n",
    "#     # with sentence =True \n",
    "#     for i in range(len(unique_combinations)):\n",
    "        \n",
    "#         lower = unique_combinations[i][0]\n",
    "#         pad = unique_combinations[i][1]\n",
    "#         window_size = unique_combinations[i][2]\n",
    "#         group_chunk= unique_combinations[i][3]\n",
    "        \n",
    "                                    \n",
    "#         raw_score = movie_raw_score(movie_title, typer='sentence', pad=pad, lower=lower, group_chunk=group_chunk)\n",
    "#         moving_avg = moving_average(raw_score['compound'], window_size)\n",
    "#         print(f'step {i} - Sentence completed')\n",
    "#         axs[i,0].plot(moving_avg)\n",
    "#         axs[i,0].set_title(f'p={pad}, ws= {window_size},g={group_chunk},l={lower}', fontsize=8)\n",
    "        \n",
    "        \n",
    "    \n",
    "    # with sentence = False\n",
    "    for i in range(len(unique_combinations)):\n",
    "        \n",
    "        lower = unique_combinations[i][0]\n",
    "        pad = unique_combinations[i][1]\n",
    "        window_size = unique_combinations[i][2]\n",
    "        group_chunk= unique_combinations[i][3]\n",
    "        \n",
    "                                    \n",
    "        raw_score = movie_raw_score(movie_title, typer='words', pad=pad, lower=lower, group_chunk=group_chunk,rm_stopwords=True)\n",
    "        moving_avg = moving_average(raw_score['compound'], window_size)  \n",
    "        print(f'step {i} - Words completed')\n",
    "        axs[i].plot(moving_avg)\n",
    "        axs[i].set_title(f'p={pad}, ws= {window_size},g={group_chunk},l={lower}', fontsize=8)\n",
    "        \n"
   ]
  },
  {
   "cell_type": "code",
   "execution_count": 10,
   "id": "a5bf0354-7c6d-4e0f-a39a-7aa7f8dddab6",
   "metadata": {},
   "outputs": [],
   "source": [
    "#arc_grid_search('Titanic_0120338.txt')"
   ]
  },
  {
   "cell_type": "code",
   "execution_count": null,
   "id": "aff51bc5",
   "metadata": {},
   "outputs": [],
   "source": []
  },
  {
   "cell_type": "code",
   "execution_count": null,
   "id": "04b3fb36",
   "metadata": {},
   "outputs": [],
   "source": []
  },
  {
   "cell_type": "code",
   "execution_count": 11,
   "id": "7c65488f",
   "metadata": {},
   "outputs": [
    {
     "ename": "ModuleNotFoundError",
     "evalue": "No module named 'score_calculator'",
     "output_type": "error",
     "traceback": [
      "\u001b[0;31m---------------------------------------------------------------------------\u001b[0m",
      "\u001b[0;31mModuleNotFoundError\u001b[0m                       Traceback (most recent call last)",
      "Cell \u001b[0;32mIn[11], line 4\u001b[0m\n\u001b[1;32m      2\u001b[0m \u001b[38;5;28;01mimport\u001b[39;00m \u001b[38;5;21;01mnumpy\u001b[39;00m \u001b[38;5;28;01mas\u001b[39;00m \u001b[38;5;21;01mnp\u001b[39;00m\n\u001b[1;32m      3\u001b[0m \u001b[38;5;28;01mfrom\u001b[39;00m \u001b[38;5;21;01mscipy\u001b[39;00m\u001b[38;5;21;01m.\u001b[39;00m\u001b[38;5;21;01msignal\u001b[39;00m \u001b[38;5;28;01mimport\u001b[39;00m savgol_filter\n\u001b[0;32m----> 4\u001b[0m \u001b[38;5;28;01mfrom\u001b[39;00m \u001b[38;5;21;01mscore_calculator\u001b[39;00m\u001b[38;5;21;01m.\u001b[39;00m\u001b[38;5;21;01mmovie_raw_score\u001b[39;00m \u001b[38;5;28;01mimport\u001b[39;00m movie_raw_score\n\u001b[1;32m      5\u001b[0m \u001b[38;5;28;01mimport\u001b[39;00m \u001b[38;5;21;01mmatplotlib\u001b[39;00m\u001b[38;5;21;01m.\u001b[39;00m\u001b[38;5;21;01mpyplot\u001b[39;00m \u001b[38;5;28;01mas\u001b[39;00m \u001b[38;5;21;01mplt\u001b[39;00m\n",
      "\u001b[0;31mModuleNotFoundError\u001b[0m: No module named 'score_calculator'"
     ]
    }
   ],
   "source": [
    "from scipy.optimize import curve_fit\n",
    "import numpy as np\n",
    "from scipy.signal import savgol_filter\n",
    "from score_calculator.movie_raw_score import movie_raw_score\n",
    "import matplotlib.pyplot as plt\n",
    "\n"
   ]
  },
  {
   "cell_type": "code",
   "execution_count": null,
   "id": "d5384d20",
   "metadata": {},
   "outputs": [],
   "source": [
    "#movie_title = 'Up_1049413.txt'\n",
    "movie_title = 'Titanic_0120338.txt'\n",
    "\n",
    "X = movie_raw_score(movie_title, typer='words', pad=50, lower=False, group_chunk=1, rm_stopwords=True)"
   ]
  },
  {
   "cell_type": "code",
   "execution_count": null,
   "id": "9244abaa",
   "metadata": {},
   "outputs": [],
   "source": [
    "X['compound_filtered'] = savgol_filter(X['compound'], window_length=200, polyorder=6)\n",
    "X_Moving_average = moving_average(X['compound'], window_size=50)\n",
    "X_MA_SV = savgol_filter(X_Moving_average, window_length=10, polyorder=5)\n",
    "X_MM = moving_median(X['compound'], window_size=50)\n",
    "\n",
    "fig, axs = plt.subplots(5,1, figsize=(10,6), constrained_layout = True)\n",
    "axs[0].plot(X['compound'])\n",
    "axs[0].set_ylim(-1,1)\n",
    "axs[0].set_title('Raw values', fontsize = 8)\n",
    "\n",
    "axs[1].plot(X_Moving_average)\n",
    "axs[1].set_ylim(-1,1)\n",
    "axs[1].set_title('moving Avg', fontsize = 8)\n",
    "\n",
    "axs[2].plot(X['compound_filtered'])\n",
    "axs[2].set_ylim(-1,1)\n",
    "axs[2].set_title('SavGol filter', fontsize = 8)\n",
    "\n",
    "axs[3].plot(X_MA_SV*10)\n",
    "axs[3].set_ylim(-10,10)\n",
    "axs[3].set_title('MA then SavGol filter', fontsize = 8)\n",
    "\n",
    "axs[4].plot(X_MM)\n",
    "axs[4].set_ylim(-1,1)\n",
    "axs[4].set_title('Moving Median', fontsize = 8)"
   ]
  },
  {
   "cell_type": "code",
   "execution_count": null,
   "id": "ca46e0dd",
   "metadata": {},
   "outputs": [],
   "source": [
    "from scipy.optimize import curve_fit\n"
   ]
  },
  {
   "cell_type": "code",
   "execution_count": null,
   "id": "b2ec833c",
   "metadata": {},
   "outputs": [],
   "source": []
  },
  {
   "cell_type": "code",
   "execution_count": null,
   "id": "00ab25e7",
   "metadata": {},
   "outputs": [],
   "source": [
    "coefficients = np.polyfit( x=np.arange(X_MM.shape[0]), y=X_MM, deg=3)\n",
    "x_fit = np.arange(X_MM.shape[0])\n",
    "y_fit = np.polyval(coefficients, x_fit)\n",
    "plt.plot(x_fit, X_MM)\n",
    "#plt.set_ylim(-1,1)\n",
    "plt.plot(x_fit, y_fit, 'r')"
   ]
  },
  {
   "cell_type": "code",
   "execution_count": 27,
   "id": "9a20e5a2",
   "metadata": {},
   "outputs": [],
   "source": [
    "from movie_sentiment.processing.arcs import get_all_dyn_arcs"
   ]
  },
  {
   "cell_type": "code",
   "execution_count": 28,
   "id": "5f5e268d",
   "metadata": {},
   "outputs": [
    {
     "name": "stdout",
     "output_type": "stream",
     "text": [
      "Loading data from pickle file\n"
     ]
    }
   ],
   "source": [
    "arcs = get_all_dyn_arcs()"
   ]
  },
  {
   "cell_type": "code",
   "execution_count": 32,
   "id": "ddaa0359",
   "metadata": {},
   "outputs": [
    {
     "data": {
      "text/plain": [
       "[<matplotlib.lines.Line2D at 0x12111f520>]"
      ]
     },
     "execution_count": 32,
     "metadata": {},
     "output_type": "execute_result"
    },
    {
     "data": {
      "image/png": "[encoded data removed]",
      "text/plain": [
       "<Figure size 1000x600 with 1 Axes>"
      ]
     },
     "metadata": {},
     "output_type": "display_data"
    }
   ],
   "source": [
    "plt.figure(figsize=(10,6))\n",
    "\n",
    "plt.plot(arcs['Up'])"
   ]
  },
  {
   "cell_type": "code",
   "execution_count": null,
   "id": "d2b30671",
   "metadata": {},
   "outputs": [],
   "source": []
  }
 ],
 "metadata": {
  "kernelspec": {
   "display_name": "Python 3 (ipykernel)",
   "language": "python",
   "name": "python3"
  },
  "language_info": {
   "codemirror_mode": {
    "name": "ipython",
    "version": 3
   },
   "file_extension": ".py",
   "mimetype": "text/x-python",
   "name": "python",
   "nbconvert_exporter": "python",
   "pygments_lexer": "ipython3",
   "version": "3.10.6"
  },
  "toc": {
   "base_numbering": 1,
   "nav_menu": {},
   "number_sections": true,
   "sideBar": true,
   "skip_h1_title": false,
   "title_cell": "Table of Contents",
   "title_sidebar": "Contents",
   "toc_cell": false,
   "toc_position": {},
   "toc_section_display": true,
   "toc_window_display": false
  }
 },
 "nbformat": 4,
 "nbformat_minor": 5
}
