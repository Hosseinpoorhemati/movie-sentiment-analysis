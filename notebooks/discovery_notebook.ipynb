{
 "cells": [
  {
   "cell_type": "code",
   "execution_count": 3,
   "id": "99621263",
   "metadata": {},
   "outputs": [],
   "source": [
    "%load_ext autoreload\n",
    "%autoreload 2"
   ]
  },
  {
   "cell_type": "code",
   "execution_count": 16,
   "id": "b0c1df59-fcc2-46ce-8111-a8cd861397eb",
   "metadata": {},
   "outputs": [],
   "source": [
    "import numpy as np\n",
    "import seaborn as sns\n",
    "import pandas as pd\n",
    "import matplotlib.pyplot as plt\n",
    "import os\n",
    "\n",
    "#from movie_sentiment.processing.scripts import split_movie_script\n",
    "#from movie_sentiment.ml_logic.vader import model as vadar\n",
    "from movie_sentiment.ml_logic.movie_score import movie_score"
   ]
  },
  {
   "cell_type": "code",
   "execution_count": 22,
   "id": "6d7bedc3",
   "metadata": {},
   "outputs": [],
   "source": [
    "movie_title = 'Titanic_0120338.txt'\n",
    "\n",
    "X = movie_score(movie_title, chunk_type='words', pad=50, group_chunk=2, window_size=50)"
   ]
  },
  {
   "cell_type": "code",
   "execution_count": 24,
   "id": "7e98abe8",
   "metadata": {},
   "outputs": [
    {
     "data": {
      "text/plain": [
       "numpy.ndarray"
      ]
     },
     "execution_count": 24,
     "metadata": {},
     "output_type": "execute_result"
    }
   ],
   "source": [
    "type(X)"
   ]
  },
  {
   "cell_type": "code",
   "execution_count": null,
   "id": "6d0b1018",
   "metadata": {},
   "outputs": [],
   "source": [
    "movie_list = os.listdir('./raw_data/screenplay_data/data/raw_texts/raw_texts')"
   ]
  },
  {
   "cell_type": "code",
   "execution_count": 3,
   "id": "3ffe1f41",
   "metadata": {},
   "outputs": [],
   "source": [
    "#moving average\n",
    "import numpy as np\n",
    "def moving_average(data, window_size):\n",
    "    weights = np.repeat(1.0, window_size) / window_size\n",
    "    moving_avg = np.convolve(data, weights, 'valid')\n",
    "    return moving_avg"
   ]
  },
  {
   "cell_type": "code",
   "execution_count": 4,
   "id": "2b6a44e1",
   "metadata": {},
   "outputs": [],
   "source": [
    "import numpy as np\n",
    "from scipy.ndimage import median_filter\n",
    "\n",
    "def moving_median(data, window_size):\n",
    "    # Pad the data array to handle edge cases\n",
    "    padded_data = np.pad(data, (window_size//2, window_size//2), mode='reflect')\n",
    "    \n",
    "    # Apply median filter to the padded data with the specified window size\n",
    "    smoothed_data = median_filter(padded_data, size=window_size)\n",
    "    \n",
    "    return smoothed_data[window_size//2:-window_size//2]"
   ]
  },
  {
   "cell_type": "code",
   "execution_count": 5,
   "id": "fffae2d7",
   "metadata": {},
   "outputs": [],
   "source": [
    "# Given the parameters for each movie title, calculates the text chunk scores\n",
    "def movie_raw_score(movie_title, typer, pad, lower, group_chunk):\n",
    "    \n",
    "    movie_script_splitted = split_movie_script(movie_title, typer=typer, \\\n",
    "                                               pad=pad, lower=lower, rm_stopwords=False, \\\n",
    "                                               lemmatize=False)\n",
    "    \n",
    "    movie_script_scored = vadar(movie_script_splitted, group_chunk)\n",
    "    \n",
    "    return movie_script_scored"
   ]
  },
  {
   "cell_type": "code",
   "execution_count": 6,
   "id": "8ac98bf3-290f-49ae-85c1-61ce75422047",
   "metadata": {},
   "outputs": [],
   "source": [
    "#Given a movie name and a list of parameters, plot different movie arcs\n",
    "\n",
    "def arc_grid_search(movie_title):\n",
    "    # plots the arc with different values for: sentence, pad, window_size for moving average\n",
    "    \n",
    "    lower = [False]\n",
    "    pad = [5, 50]\n",
    "    group_chunk = [1]\n",
    "    window_size = [50]\n",
    "    \n",
    "    # Making all combinations: \n",
    "    unique_combinations = []\n",
    "    for k in range(len(lower)):\n",
    "        for i in range(len(pad)):\n",
    "            for j in range(len(window_size)):\n",
    "                for l in range(len(group_chunk)):\n",
    "                    unique_combinations.append((lower[k],pad[i],window_size[j],group_chunk[l]))\n",
    "\n",
    "\n",
    "    \n",
    "    rows = len(pad) * len(window_size) * len(lower) * len(group_chunk)\n",
    "    fig, axs = plt.subplots(rows,1, figsize=(10, 45))\n",
    "    \n",
    "#     # with sentence =True \n",
    "#     for i in range(len(unique_combinations)):\n",
    "        \n",
    "#         lower = unique_combinations[i][0]\n",
    "#         pad = unique_combinations[i][1]\n",
    "#         window_size = unique_combinations[i][2]\n",
    "#         group_chunk= unique_combinations[i][3]\n",
    "        \n",
    "                                    \n",
    "#         raw_score = movie_raw_score(movie_title, typer='sentence', pad=pad, lower=lower, group_chunk=group_chunk)\n",
    "#         moving_avg = moving_average(raw_score['compound'], window_size)\n",
    "#         print(f'step {i} - Sentence completed')\n",
    "#         axs[i,0].plot(moving_avg)\n",
    "#         axs[i,0].set_title(f'p={pad}, ws= {window_size},g={group_chunk},l={lower}', fontsize=8)\n",
    "        \n",
    "        \n",
    "    \n",
    "    # with sentence = False\n",
    "    for i in range(len(unique_combinations)):\n",
    "        \n",
    "        lower = unique_combinations[i][0]\n",
    "        pad = unique_combinations[i][1]\n",
    "        window_size = unique_combinations[i][2]\n",
    "        group_chunk= unique_combinations[i][3]\n",
    "        \n",
    "                                    \n",
    "        raw_score = movie_raw_score(movie_title, typer='words', pad=pad, lower=lower, group_chunk=group_chunk,rm_stopwords=True)\n",
    "        moving_avg = moving_average(raw_score['compound'], window_size)  \n",
    "        print(f'step {i} - Words completed')\n",
    "        axs[i].plot(moving_avg)\n",
    "        axs[i].set_title(f'p={pad}, ws= {window_size},g={group_chunk},l={lower}', fontsize=8)\n",
    "        \n"
   ]
  },
  {
   "cell_type": "code",
   "execution_count": 7,
   "id": "a5bf0354-7c6d-4e0f-a39a-7aa7f8dddab6",
   "metadata": {},
   "outputs": [],
   "source": [
    "#arc_grid_search('Titanic_0120338.txt')"
   ]
  },
  {
   "cell_type": "code",
   "execution_count": null,
   "id": "aff51bc5",
   "metadata": {},
   "outputs": [],
   "source": []
  },
  {
   "cell_type": "code",
   "execution_count": 8,
   "id": "04b3fb36",
   "metadata": {},
   "outputs": [],
   "source": []
  },
  {
   "cell_type": "code",
   "execution_count": 9,
   "id": "7c65488f",
   "metadata": {},
   "outputs": [
    {
     "ename": "ModuleNotFoundError",
     "evalue": "No module named 'score_calculator.movie_raw_score'",
     "output_type": "error",
     "traceback": [
      "\u001b[0;31m---------------------------------------------------------------------------\u001b[0m",
      "\u001b[0;31mModuleNotFoundError\u001b[0m                       Traceback (most recent call last)",
      "Cell \u001b[0;32mIn[9], line 4\u001b[0m\n\u001b[1;32m      2\u001b[0m \u001b[38;5;28;01mimport\u001b[39;00m \u001b[38;5;21;01mnumpy\u001b[39;00m \u001b[38;5;28;01mas\u001b[39;00m \u001b[38;5;21;01mnp\u001b[39;00m\n\u001b[1;32m      3\u001b[0m \u001b[38;5;28;01mfrom\u001b[39;00m \u001b[38;5;21;01mscipy\u001b[39;00m\u001b[38;5;21;01m.\u001b[39;00m\u001b[38;5;21;01msignal\u001b[39;00m \u001b[38;5;28;01mimport\u001b[39;00m savgol_filter\n\u001b[0;32m----> 4\u001b[0m \u001b[38;5;28;01mfrom\u001b[39;00m \u001b[38;5;21;01mscore_calculator\u001b[39;00m\u001b[38;5;21;01m.\u001b[39;00m\u001b[38;5;21;01mmovie_raw_score\u001b[39;00m \u001b[38;5;28;01mimport\u001b[39;00m movie_raw_score\n\u001b[1;32m      5\u001b[0m \u001b[38;5;28;01mimport\u001b[39;00m \u001b[38;5;21;01mmatplotlib\u001b[39;00m\u001b[38;5;21;01m.\u001b[39;00m\u001b[38;5;21;01mpyplot\u001b[39;00m \u001b[38;5;28;01mas\u001b[39;00m \u001b[38;5;21;01mplt\u001b[39;00m\n",
      "\u001b[0;31mModuleNotFoundError\u001b[0m: No module named 'score_calculator.movie_raw_score'"
     ]
    }
   ],
   "source": [
    "from scipy.optimize import curve_fit\n",
    "import numpy as np\n",
    "from scipy.signal import savgol_filter\n",
    "from score_calculator.movie_raw_score import movie_raw_score\n",
    "import matplotlib.pyplot as plt\n",
    "\n"
   ]
  },
  {
   "cell_type": "code",
   "execution_count": 10,
   "id": "d5384d20",
   "metadata": {},
   "outputs": [
    {
     "ename": "TypeError",
     "evalue": "movie_raw_score() got an unexpected keyword argument 'rm_stopwords'",
     "output_type": "error",
     "traceback": [
      "\u001b[0;31m---------------------------------------------------------------------------\u001b[0m",
      "\u001b[0;31mTypeError\u001b[0m                                 Traceback (most recent call last)",
      "Cell \u001b[0;32mIn[10], line 4\u001b[0m\n\u001b[1;32m      1\u001b[0m \u001b[38;5;66;03m#movie_title = 'Up_1049413.txt'\u001b[39;00m\n\u001b[1;32m      2\u001b[0m movie_title \u001b[38;5;241m=\u001b[39m \u001b[38;5;124m'\u001b[39m\u001b[38;5;124mTitanic_0120338.txt\u001b[39m\u001b[38;5;124m'\u001b[39m\n\u001b[0;32m----> 4\u001b[0m X \u001b[38;5;241m=\u001b[39m \u001b[43mmovie_raw_score\u001b[49m\u001b[43m(\u001b[49m\u001b[43mmovie_title\u001b[49m\u001b[43m,\u001b[49m\u001b[43m \u001b[49m\u001b[43mtyper\u001b[49m\u001b[38;5;241;43m=\u001b[39;49m\u001b[38;5;124;43m'\u001b[39;49m\u001b[38;5;124;43mwords\u001b[39;49m\u001b[38;5;124;43m'\u001b[39;49m\u001b[43m,\u001b[49m\u001b[43m \u001b[49m\u001b[43mpad\u001b[49m\u001b[38;5;241;43m=\u001b[39;49m\u001b[38;5;241;43m50\u001b[39;49m\u001b[43m,\u001b[49m\u001b[43m \u001b[49m\u001b[43mlower\u001b[49m\u001b[38;5;241;43m=\u001b[39;49m\u001b[38;5;28;43;01mFalse\u001b[39;49;00m\u001b[43m,\u001b[49m\u001b[43m \u001b[49m\u001b[43mgroup_chunk\u001b[49m\u001b[38;5;241;43m=\u001b[39;49m\u001b[38;5;241;43m1\u001b[39;49m\u001b[43m,\u001b[49m\u001b[43m \u001b[49m\u001b[43mrm_stopwords\u001b[49m\u001b[38;5;241;43m=\u001b[39;49m\u001b[38;5;28;43;01mTrue\u001b[39;49;00m\u001b[43m)\u001b[49m\n",
      "\u001b[0;31mTypeError\u001b[0m: movie_raw_score() got an unexpected keyword argument 'rm_stopwords'"
     ]
    }
   ],
   "source": [
    "#movie_title = 'Up_1049413.txt'\n",
    "movie_title = 'Titanic_0120338.txt'\n",
    "\n",
    "X = movie_raw_score(movie_title, typer='words', pad=50, lower=False, group_chunk=1, rm_stopwords=True)"
   ]
  },
  {
   "cell_type": "code",
   "execution_count": 11,
   "id": "9244abaa",
   "metadata": {},
   "outputs": [
    {
     "ename": "NameError",
     "evalue": "name 'X' is not defined",
     "output_type": "error",
     "traceback": [
      "\u001b[0;31m---------------------------------------------------------------------------\u001b[0m",
      "\u001b[0;31mNameError\u001b[0m                                 Traceback (most recent call last)",
      "Cell \u001b[0;32mIn[11], line 1\u001b[0m\n\u001b[0;32m----> 1\u001b[0m X[\u001b[38;5;124m'\u001b[39m\u001b[38;5;124mcompound_filtered\u001b[39m\u001b[38;5;124m'\u001b[39m] \u001b[38;5;241m=\u001b[39m savgol_filter(\u001b[43mX\u001b[49m[\u001b[38;5;124m'\u001b[39m\u001b[38;5;124mcompound\u001b[39m\u001b[38;5;124m'\u001b[39m], window_length\u001b[38;5;241m=\u001b[39m\u001b[38;5;241m200\u001b[39m, polyorder\u001b[38;5;241m=\u001b[39m\u001b[38;5;241m6\u001b[39m)\n\u001b[1;32m      2\u001b[0m X_Moving_average \u001b[38;5;241m=\u001b[39m moving_average(X[\u001b[38;5;124m'\u001b[39m\u001b[38;5;124mcompound\u001b[39m\u001b[38;5;124m'\u001b[39m], window_size\u001b[38;5;241m=\u001b[39m\u001b[38;5;241m50\u001b[39m)\n\u001b[1;32m      3\u001b[0m X_MA_SV \u001b[38;5;241m=\u001b[39m savgol_filter(X_Moving_average, window_length\u001b[38;5;241m=\u001b[39m\u001b[38;5;241m10\u001b[39m, polyorder\u001b[38;5;241m=\u001b[39m\u001b[38;5;241m5\u001b[39m)\n",
      "\u001b[0;31mNameError\u001b[0m: name 'X' is not defined"
     ]
    }
   ],
   "source": [
    "X['compound_filtered'] = savgol_filter(X['compound'], window_length=200, polyorder=6)\n",
    "X_Moving_average = moving_average(X['compound'], window_size=50)\n",
    "X_MA_SV = savgol_filter(X_Moving_average, window_length=10, polyorder=5)\n",
    "X_MM = moving_median(X['compound'], window_size=50)\n",
    "\n",
    "fig, axs = plt.subplots(5,1, figsize=(10,6), constrained_layout = True)\n",
    "axs[0].plot(X['compound'])\n",
    "axs[0].set_ylim(-1,1)\n",
    "axs[0].set_title('Raw values', fontsize = 8)\n",
    "\n",
    "axs[1].plot(X_Moving_average)\n",
    "axs[1].set_ylim(-1,1)\n",
    "axs[1].set_title('moving Avg', fontsize = 8)\n",
    "\n",
    "axs[2].plot(X['compound_filtered'])\n",
    "axs[2].set_ylim(-1,1)\n",
    "axs[2].set_title('SavGol filter', fontsize = 8)\n",
    "\n",
    "axs[3].plot(X_MA_SV*10)\n",
    "axs[3].set_ylim(-10,10)\n",
    "axs[3].set_title('MA then SavGol filter', fontsize = 8)\n",
    "\n",
    "axs[4].plot(X_MM)\n",
    "axs[4].set_ylim(-1,1)\n",
    "axs[4].set_title('Moving Median', fontsize = 8)"
   ]
  },
  {
   "cell_type": "code",
   "execution_count": 12,
   "id": "ca46e0dd",
   "metadata": {},
   "outputs": [],
   "source": [
    "from scipy.optimize import curve_fit\n"
   ]
  },
  {
   "cell_type": "code",
   "execution_count": null,
   "id": "b2ec833c",
   "metadata": {},
   "outputs": [],
   "source": []
  },
  {
   "cell_type": "code",
   "execution_count": 13,
   "id": "00ab25e7",
   "metadata": {},
   "outputs": [
    {
     "ename": "NameError",
     "evalue": "name 'X_MM' is not defined",
     "output_type": "error",
     "traceback": [
      "\u001b[0;31m---------------------------------------------------------------------------\u001b[0m",
      "\u001b[0;31mNameError\u001b[0m                                 Traceback (most recent call last)",
      "Cell \u001b[0;32mIn[13], line 1\u001b[0m\n\u001b[0;32m----> 1\u001b[0m coefficients \u001b[38;5;241m=\u001b[39m np\u001b[38;5;241m.\u001b[39mpolyfit( x\u001b[38;5;241m=\u001b[39mnp\u001b[38;5;241m.\u001b[39marange(\u001b[43mX_MM\u001b[49m\u001b[38;5;241m.\u001b[39mshape[\u001b[38;5;241m0\u001b[39m]), y\u001b[38;5;241m=\u001b[39mX_MM, deg\u001b[38;5;241m=\u001b[39m\u001b[38;5;241m3\u001b[39m)\n\u001b[1;32m      2\u001b[0m x_fit \u001b[38;5;241m=\u001b[39m np\u001b[38;5;241m.\u001b[39marange(X_MM\u001b[38;5;241m.\u001b[39mshape[\u001b[38;5;241m0\u001b[39m])\n\u001b[1;32m      3\u001b[0m y_fit \u001b[38;5;241m=\u001b[39m np\u001b[38;5;241m.\u001b[39mpolyval(coefficients, x_fit)\n",
      "\u001b[0;31mNameError\u001b[0m: name 'X_MM' is not defined"
     ]
    }
   ],
   "source": [
    "coefficients = np.polyfit( x=np.arange(X_MM.shape[0]), y=X_MM, deg=3)\n",
    "x_fit = np.arange(X_MM.shape[0])\n",
    "y_fit = np.polyval(coefficients, x_fit)\n",
    "plt.plot(x_fit, X_MM)\n",
    "#plt.set_ylim(-1,1)\n",
    "plt.plot(x_fit, y_fit, 'r')"
   ]
  }
 ],
 "metadata": {
  "kernelspec": {
   "display_name": "Python 3 (ipykernel)",
   "language": "python",
   "name": "python3"
  },
  "language_info": {
   "codemirror_mode": {
    "name": "ipython",
    "version": 3
   },
   "file_extension": ".py",
   "mimetype": "text/x-python",
   "name": "python",
   "nbconvert_exporter": "python",
   "pygments_lexer": "ipython3",
   "version": "3.10.6"
  },
  "toc": {
   "base_numbering": 1,
   "nav_menu": {},
   "number_sections": true,
   "sideBar": true,
   "skip_h1_title": false,
   "title_cell": "Table of Contents",
   "title_sidebar": "Contents",
   "toc_cell": false,
   "toc_position": {},
   "toc_section_display": true,
   "toc_window_display": false
  }
 },
 "nbformat": 4,
 "nbformat_minor": 5
}
